{
 "cells": [
  {
   "cell_type": "code",
   "execution_count": 1,
   "metadata": {},
   "outputs": [
    {
     "name": "stdout",
     "output_type": "stream",
     "text": [
      "Requirement already satisfied: snowflake-snowpark-python in c:\\users\\luan lima\\appdata\\local\\programs\\python\\python310\\lib\\site-packages (1.25.0)Note: you may need to restart the kernel to use updated packages.\n"
     ]
    },
    {
     "name": "stderr",
     "output_type": "stream",
     "text": [
      "\n",
      "[notice] A new release of pip available: 22.2.2 -> 24.3.1\n",
      "[notice] To update, run: python.exe -m pip install --upgrade pip\n"
     ]
    },
    {
     "name": "stdout",
     "output_type": "stream",
     "text": [
      "\n",
      "Requirement already satisfied: tzlocal in c:\\users\\luan lima\\appdata\\local\\programs\\python\\python310\\lib\\site-packages (from snowflake-snowpark-python) (5.2)\n",
      "Requirement already satisfied: cloudpickle!=2.1.0,!=2.2.0,<=2.2.1,>=1.6.0 in c:\\users\\luan lima\\appdata\\local\\programs\\python\\python310\\lib\\site-packages (from snowflake-snowpark-python) (2.2.1)\n",
      "Requirement already satisfied: snowflake-connector-python<4.0.0,>=3.12.0 in c:\\users\\luan lima\\appdata\\local\\programs\\python\\python310\\lib\\site-packages (from snowflake-snowpark-python) (3.12.3)\n",
      "Requirement already satisfied: protobuf<6,>=3.20 in c:\\users\\luan lima\\appdata\\local\\programs\\python\\python310\\lib\\site-packages (from snowflake-snowpark-python) (4.21.12)\n",
      "Requirement already satisfied: pyyaml in c:\\users\\luan lima\\appdata\\local\\programs\\python\\python310\\lib\\site-packages (from snowflake-snowpark-python) (6.0.1)\n",
      "Requirement already satisfied: setuptools>=40.6.0 in c:\\users\\luan lima\\appdata\\local\\programs\\python\\python310\\lib\\site-packages (from snowflake-snowpark-python) (63.2.0)\n",
      "Requirement already satisfied: typing-extensions<5.0.0,>=4.1.0 in c:\\users\\luan lima\\appdata\\local\\programs\\python\\python310\\lib\\site-packages (from snowflake-snowpark-python) (4.7.1)\n",
      "Requirement already satisfied: wheel in c:\\users\\luan lima\\appdata\\local\\programs\\python\\python310\\lib\\site-packages (from snowflake-snowpark-python) (0.43.0)\n",
      "Requirement already satisfied: charset-normalizer<4,>=2 in c:\\users\\luan lima\\appdata\\local\\programs\\python\\python310\\lib\\site-packages (from snowflake-connector-python<4.0.0,>=3.12.0->snowflake-snowpark-python) (3.2.0)\n",
      "Requirement already satisfied: cryptography>=3.1.0 in c:\\users\\luan lima\\appdata\\local\\programs\\python\\python310\\lib\\site-packages (from snowflake-connector-python<4.0.0,>=3.12.0->snowflake-snowpark-python) (42.0.5)\n",
      "Requirement already satisfied: filelock<4,>=3.5 in c:\\users\\luan lima\\appdata\\local\\programs\\python\\python310\\lib\\site-packages (from snowflake-connector-python<4.0.0,>=3.12.0->snowflake-snowpark-python) (3.13.1)\n",
      "Requirement already satisfied: pyOpenSSL<25.0.0,>=16.2.0 in c:\\users\\luan lima\\appdata\\local\\programs\\python\\python310\\lib\\site-packages (from snowflake-connector-python<4.0.0,>=3.12.0->snowflake-snowpark-python) (24.1.0)\n",
      "Requirement already satisfied: cffi<2.0.0,>=1.9 in c:\\users\\luan lima\\appdata\\local\\programs\\python\\python310\\lib\\site-packages (from snowflake-connector-python<4.0.0,>=3.12.0->snowflake-snowpark-python) (1.15.1)\n",
      "Requirement already satisfied: packaging in c:\\users\\luan lima\\appdata\\local\\programs\\python\\python310\\lib\\site-packages (from snowflake-connector-python<4.0.0,>=3.12.0->snowflake-snowpark-python) (23.2)\n",
      "Requirement already satisfied: requests<3.0.0 in c:\\users\\luan lima\\appdata\\local\\programs\\python\\python310\\lib\\site-packages (from snowflake-connector-python<4.0.0,>=3.12.0->snowflake-snowpark-python) (2.31.0)\n",
      "Requirement already satisfied: asn1crypto<2.0.0,>0.24.0 in c:\\users\\luan lima\\appdata\\local\\programs\\python\\python310\\lib\\site-packages (from snowflake-connector-python<4.0.0,>=3.12.0->snowflake-snowpark-python) (1.5.1)\n",
      "Requirement already satisfied: pytz in c:\\users\\luan lima\\appdata\\local\\programs\\python\\python310\\lib\\site-packages (from snowflake-connector-python<4.0.0,>=3.12.0->snowflake-snowpark-python) (2023.3)\n",
      "Requirement already satisfied: sortedcontainers>=2.4.0 in c:\\users\\luan lima\\appdata\\local\\programs\\python\\python310\\lib\\site-packages (from snowflake-connector-python<4.0.0,>=3.12.0->snowflake-snowpark-python) (2.4.0)\n",
      "Requirement already satisfied: pyjwt<3.0.0 in c:\\users\\luan lima\\appdata\\local\\programs\\python\\python310\\lib\\site-packages (from snowflake-connector-python<4.0.0,>=3.12.0->snowflake-snowpark-python) (2.10.0)\n",
      "Requirement already satisfied: idna<4,>=2.5 in c:\\users\\luan lima\\appdata\\local\\programs\\python\\python310\\lib\\site-packages (from snowflake-connector-python<4.0.0,>=3.12.0->snowflake-snowpark-python) (3.4)\n",
      "Requirement already satisfied: certifi>=2017.4.17 in c:\\users\\luan lima\\appdata\\local\\programs\\python\\python310\\lib\\site-packages (from snowflake-connector-python<4.0.0,>=3.12.0->snowflake-snowpark-python) (2023.7.22)\n",
      "Requirement already satisfied: platformdirs<5.0.0,>=2.6.0 in c:\\users\\luan lima\\appdata\\roaming\\python\\python310\\site-packages (from snowflake-connector-python<4.0.0,>=3.12.0->snowflake-snowpark-python) (3.9.1)\n",
      "Requirement already satisfied: tomlkit in c:\\users\\luan lima\\appdata\\local\\programs\\python\\python310\\lib\\site-packages (from snowflake-connector-python<4.0.0,>=3.12.0->snowflake-snowpark-python) (0.13.2)\n",
      "Requirement already satisfied: tzdata in c:\\users\\luan lima\\appdata\\local\\programs\\python\\python310\\lib\\site-packages (from tzlocal->snowflake-snowpark-python) (2023.3)\n",
      "Requirement already satisfied: pycparser in c:\\users\\luan lima\\appdata\\local\\programs\\python\\python310\\lib\\site-packages (from cffi<2.0.0,>=1.9->snowflake-connector-python<4.0.0,>=3.12.0->snowflake-snowpark-python) (2.21)\n",
      "Requirement already satisfied: urllib3<3,>=1.21.1 in c:\\users\\luan lima\\appdata\\local\\programs\\python\\python310\\lib\\site-packages (from requests<3.0.0->snowflake-connector-python<4.0.0,>=3.12.0->snowflake-snowpark-python) (2.0.4)\n"
     ]
    }
   ],
   "source": [
    "pip install snowflake-snowpark-python"
   ]
  },
  {
   "cell_type": "code",
   "execution_count": 6,
   "metadata": {},
   "outputs": [],
   "source": [
    "from snowflake.snowpark.session import Session\n",
    "import snowflake.snowpark.functions as F"
   ]
  },
  {
   "cell_type": "code",
   "execution_count": 7,
   "metadata": {},
   "outputs": [
    {
     "data": {
      "text/plain": [
       "True"
      ]
     },
     "execution_count": 7,
     "metadata": {},
     "output_type": "execute_result"
    }
   ],
   "source": [
    "import os\n",
    "from dotenv import load_dotenv\n",
    "\n",
    "load_dotenv()"
   ]
  },
  {
   "cell_type": "code",
   "execution_count": 8,
   "metadata": {},
   "outputs": [],
   "source": [
    "def snowpark_session_create():\n",
    "        connection_params = {\n",
    "            \"account\": os.getenv('account_snow'),\n",
    "            \"user\": os.getenv('user_snow'),\n",
    "            \"password\":os.getenv('password_snow')\n",
    "            #\"role\":\"insert-role-here\",\n",
    "            #\"warehouse\":\"insert-warehouse-here\"\n",
    "   \n",
    "        }\n",
    "        session = Session.builder.configs(connection_params).create()\n",
    "        return session\n",
    "        \n",
    "demo_session = snowpark_session_create()"
   ]
  },
  {
   "cell_type": "code",
   "execution_count": 9,
   "metadata": {},
   "outputs": [
    {
     "name": "stdout",
     "output_type": "stream",
     "text": [
      "-------------------------------------------------\n",
      "|\"C_MKTSEGMENT\"  |\"SUBTOTAL\"     |\"PERCENTAGE\"  |\n",
      "-------------------------------------------------\n",
      "|AUTOMOBILE      |9001308004.66  |20.01024871   |\n",
      "|FURNITURE       |8998344159.80  |20.00365997   |\n",
      "|HOUSEHOLD       |8995973688.50  |19.99839033   |\n",
      "|BUILDING        |8994509561.51  |19.99513552   |\n",
      "|MACHINERY       |8990277987.42  |19.98572857   |\n",
      "-------------------------------------------------\n",
      "\n"
     ]
    }
   ],
   "source": [
    "try:\n",
    "   df = demo_session.sql(\"select * from  SNOWFLAKE_SAMPLE_DATA.TPCH_SF100.CUSTOMER LIMIT 10000000\")\n",
    "   \n",
    "   #note the the group_by has a different spelling\n",
    "   df2 = df.group_by(\"C_MKTSEGMENT\").agg(F.sum(\"C_ACCTBAL\").alias(\"SUBTOTAL\"))\n",
    "   \n",
    "   #create a total sum to be used for percentage calculation\n",
    "   acct_bal_total = df2.agg(F.sum(\"SUBTOTAL\").alias(\"SUBTOTAL\"))\n",
    "   \n",
    "   #converting total sum to a pandas df, so as to extract a variable\n",
    "   pdf  = acct_bal_total.toPandas()\n",
    "   total_sum = pdf.iloc[0,0]\n",
    "    \n",
    "   #create a new column called percentage using the total sum variable\n",
    "   df2 = df2.with_column(\"percentage\",(df2[\"SUBTOTAL\"]*100)/total_sum)\n",
    "   df2 = df2.sort(F.col(\"percentage\").desc())\n",
    "    \n",
    "   #display the contents of the dataframe \n",
    "   df2.show()\n",
    "\n",
    "finally:\n",
    "   #closing the connection\n",
    "   demo_session.close()"
   ]
  }
 ],
 "metadata": {
  "kernelspec": {
   "display_name": "Python 3",
   "language": "python",
   "name": "python3"
  },
  "language_info": {
   "codemirror_mode": {
    "name": "ipython",
    "version": 3
   },
   "file_extension": ".py",
   "mimetype": "text/x-python",
   "name": "python",
   "nbconvert_exporter": "python",
   "pygments_lexer": "ipython3",
   "version": "3.10.7"
  }
 },
 "nbformat": 4,
 "nbformat_minor": 2
}
