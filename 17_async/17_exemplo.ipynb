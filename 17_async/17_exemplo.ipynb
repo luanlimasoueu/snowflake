{
 "cells": [
  {
   "cell_type": "code",
   "execution_count": 5,
   "metadata": {},
   "outputs": [
    {
     "name": "stdout",
     "output_type": "stream",
     "text": [
      "Outra tarefa 0 concluída\n",
      "Outra tarefa 2 concluída\n",
      "Outra tarefa 6 concluída\n",
      "Outra tarefa 9 concluída\n",
      "Outra tarefa 8 concluída\n",
      "Outra tarefa 5 concluída\n",
      "Outra tarefa 7 concluída\n",
      "Outra tarefa 4 concluída\n",
      "Outra tarefa 1 concluída\n",
      "Outra tarefa 3 concluída\n",
      "Tarefa 0 concluída\n",
      "Tarefa 6 concluída\n",
      "Tarefa 7 concluída\n",
      "Tarefa 3 concluída\n",
      "Tarefa 1 concluída\n",
      "Tarefa 5 concluída\n",
      "Tarefa 4 concluída\n",
      "Tarefa 8 concluída\n",
      "Tarefa 2 concluída\n",
      "Tarefa 9 concluída\n"
     ]
    }
   ],
   "source": [
    "import asyncio\n",
    "\n",
    "# Função assíncrona que será chamada dentro de 'minha_funcao'\n",
    "async def outra_funcao(i):\n",
    "    await asyncio.sleep(0.5)  # Simula um tempo de espera\n",
    "    print(f\"Outra tarefa {i} concluída\")\n",
    "\n",
    "# Função principal que será chamada nas tarefas\n",
    "async def minha_funcao(i, sem):\n",
    "    async with sem:\n",
    "        await outra_funcao(i)  # Chama a outra função assíncrona\n",
    "        await asyncio.sleep(1)\n",
    "        print(f\"Tarefa {i} concluída\")\n",
    "\n",
    "# Função que organiza a execução das tarefas\n",
    "async def main():\n",
    "    lista = list(range(10))  # Sua lista de itens para iterar\n",
    "    sem = asyncio.Semaphore(10)  # Limita a 10 tarefas simultâneas\n",
    "\n",
    "    # Criar e executar as tarefas em paralelo\n",
    "    tarefas = [asyncio.create_task(minha_funcao(i, sem)) for i in lista]\n",
    "    await asyncio.gather(*tarefas)\n",
    "\n",
    "# No Jupyter Notebook ou ambiente interativo, basta usar `await` para rodar a função principal\n",
    "await main()\n"
   ]
  },
  {
   "cell_type": "code",
   "execution_count": 6,
   "metadata": {},
   "outputs": [
    {
     "name": "stdout",
     "output_type": "stream",
     "text": [
      "Outra tarefa 0 concluída com valor 0\n",
      "Outra tarefa 2 concluída com valor 4\n",
      "Outra tarefa 4 concluída com valor 8\n",
      "Outra tarefa 1 concluída com valor 2\n",
      "Outra tarefa 3 concluída com valor 6\n",
      "Tarefa 0 concluída\n",
      "Tarefa 4 concluída\n",
      "Tarefa 3 concluída\n",
      "Tarefa 2 concluída\n",
      "Tarefa 1 concluída\n",
      "Outra tarefa 5 concluída com valor 10\n",
      "Outra tarefa 7 concluída com valor 14\n",
      "Outra tarefa 9 concluída com valor 18\n",
      "Outra tarefa 6 concluída com valor 12\n",
      "Outra tarefa 8 concluída com valor 16\n",
      "Tarefa 5 concluída\n",
      "Tarefa 9 concluída\n",
      "Tarefa 8 concluída\n",
      "Tarefa 7 concluída\n",
      "Tarefa 6 concluída\n"
     ]
    }
   ],
   "source": [
    "import asyncio\n",
    "import pandas as pd\n",
    "\n",
    "# Criando um DataFrame de exemplo\n",
    "df = pd.DataFrame({\n",
    "    \"id\": range(10), \n",
    "    \"valor\": [x * 2 for x in range(10)]\n",
    "})\n",
    "\n",
    "# Função assíncrona que será chamada dentro de 'minha_funcao'\n",
    "async def outra_funcao(linha):\n",
    "    await asyncio.sleep(0.5)  # Simula um tempo de espera\n",
    "    print(f\"Outra tarefa {linha['id']} concluída com valor {linha['valor']}\")\n",
    "\n",
    "# Função principal que será chamada nas tarefas\n",
    "async def minha_funcao(linha, sem):\n",
    "    async with sem:\n",
    "        await outra_funcao(linha)  # Chama a outra função assíncrona\n",
    "        await asyncio.sleep(1)\n",
    "        print(f\"Tarefa {linha['id']} concluída\")\n",
    "\n",
    "# Função que organiza a execução das tarefas\n",
    "async def main():\n",
    "    sem = asyncio.Semaphore(5)  # Limita a 5 tarefas simultâneas\n",
    "\n",
    "    # Criar e executar as tarefas em paralelo iterando sobre o DataFrame\n",
    "    tarefas = [asyncio.create_task(minha_funcao(linha, sem)) for _, linha in df.iterrows()]\n",
    "    await asyncio.gather(*tarefas)\n",
    "\n",
    "# 🔹 Se já estivermos dentro de um loop de eventos, usamos `await`\n",
    "try:\n",
    "    await main()  # Para Jupyter Notebook ou outros loops ativos\n",
    "except RuntimeError:\n",
    "    asyncio.run(main())  # Para execução normal em scripts Python\n"
   ]
  },
  {
   "cell_type": "code",
   "execution_count": 8,
   "metadata": {},
   "outputs": [],
   "source": [
    "import snowflake.snowpark as snowpark\n",
    "from snowflake.snowpark import Session\n",
    "from dotenv import load_dotenv\n",
    "from pyspark.sql.functions import col\n",
    "import asyncio\n",
    "import os\n",
    "\n",
    "load_dotenv()\n",
    "\n",
    "\n",
    "connection_parameters = {\n",
    "   \"account\": os.getenv('account_snow'),\n",
    "   \"user\": os.getenv('user_snow'),\n",
    "   \"password\":os.getenv('password_snow'),\n",
    "   \"role\": \"ACCOUNTADMIN\",\n",
    "   \"database\": \"NEW_DB\", \n",
    "   \"schema\": \"PUBLIC\"\n",
    "  \n",
    "}  \n",
    "\n",
    "session = Session.builder.configs(connection_parameters).create()"
   ]
  },
  {
   "cell_type": "code",
   "execution_count": 9,
   "metadata": {},
   "outputs": [],
   "source": [
    "df= session.create_dataframe([[\"a\", 3], [\"b\", 4], [\"c\", 5]], schema=[\"id\", \"valor\"])"
   ]
  },
  {
   "cell_type": "code",
   "execution_count": 12,
   "metadata": {},
   "outputs": [
    {
     "name": "stdout",
     "output_type": "stream",
     "text": [
      "------------------\n",
      "|\"ID\"  |\"VALOR\"  |\n",
      "------------------\n",
      "|a     |3        |\n",
      "|b     |4        |\n",
      "|c     |5        |\n",
      "------------------\n",
      "\n"
     ]
    }
   ],
   "source": [
    "df.show()"
   ]
  },
  {
   "cell_type": "code",
   "execution_count": 13,
   "metadata": {},
   "outputs": [
    {
     "name": "stdout",
     "output_type": "stream",
     "text": [
      "Outra tarefa a concluída com valor 3\n",
      "Outra tarefa b concluída com valor 4\n",
      "Outra tarefa c concluída com valor 5\n",
      "Tarefa a concluída\n",
      "Tarefa b concluída\n",
      "Tarefa c concluída\n"
     ]
    }
   ],
   "source": [
    "\n",
    "\n",
    "# 🔹 Função assíncrona que será chamada dentro de 'minha_funcao'\n",
    "async def outra_funcao(id_valor, valor):\n",
    "    await asyncio.sleep(0.5)  # Simula um tempo de espera\n",
    "    print(f\"Outra tarefa {id_valor} concluída com valor {valor}\")\n",
    "\n",
    "# 🔹 Função principal que será chamada nas tarefas\n",
    "async def minha_funcao(id_valor, valor, sem):\n",
    "    async with sem:\n",
    "        await outra_funcao(id_valor, valor)  # Chama a outra função assíncrona\n",
    "        await asyncio.sleep(1)\n",
    "        print(f\"Tarefa {id_valor} concluída\")\n",
    "\n",
    "# 🔹 Função que organiza a execução das tarefas\n",
    "async def main():\n",
    "    sem = asyncio.Semaphore(5)  # Limita a 5 tarefas simultâneas\n",
    "    \n",
    "    # 🔹 Criar tarefas iterando diretamente sobre as linhas do Snowspark DataFrame\n",
    "    tarefas = [asyncio.create_task(minha_funcao(row[\"ID\"], row[\"VALOR\"], sem)) for row in df.collect()]\n",
    "    \n",
    "    await asyncio.gather(*tarefas)\n",
    "\n",
    "# 🔹 Executar a função principal corretamente em qualquer ambiente\n",
    "try:\n",
    "    await main()  # Para Jupyter Notebook ou outros loops ativos\n",
    "except RuntimeError:\n",
    "    asyncio.run(main())  # Para execução normal em scripts Python\n"
   ]
  }
 ],
 "metadata": {
  "kernelspec": {
   "display_name": "Python 3",
   "language": "python",
   "name": "python3"
  },
  "language_info": {
   "codemirror_mode": {
    "name": "ipython",
    "version": 3
   },
   "file_extension": ".py",
   "mimetype": "text/x-python",
   "name": "python",
   "nbconvert_exporter": "python",
   "pygments_lexer": "ipython3",
   "version": "3.10.7"
  }
 },
 "nbformat": 4,
 "nbformat_minor": 2
}
