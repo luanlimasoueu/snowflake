{
 "cells": [
  {
   "cell_type": "code",
   "execution_count": 2,
   "metadata": {},
   "outputs": [],
   "source": [
    "import snowflake.snowpark as snowpark\n",
    "from snowflake.snowpark import Session\n",
    "from dotenv import load_dotenv\n",
    "import os\n",
    "\n",
    "load_dotenv()\n",
    "\n",
    "\n",
    "connection_parameters = {\n",
    "   \"account\": os.getenv('account_snow'),\n",
    "   \"user\": os.getenv('user_snow'),\n",
    "   \"password\":os.getenv('password_snow'),\n",
    "   \"role\": \"ACCOUNTADMIN\",\n",
    "   \"database\": \"NEW_DB\", \n",
    "   \"schema\": \"PUBLIC\"\n",
    "  \n",
    "}  \n",
    "\n",
    "session = Session.builder.configs(connection_parameters).create()"
   ]
  },
  {
   "cell_type": "code",
   "execution_count": 3,
   "metadata": {},
   "outputs": [
    {
     "data": {
      "text/plain": [
       "[Row(status='Table PRICES successfully created.')]"
      ]
     },
     "execution_count": 3,
     "metadata": {},
     "output_type": "execute_result"
    }
   ],
   "source": [
    "## Creation of Price table\n",
    "session.sql(\"create or replace table prices(Product_id varchar,\\\n",
    "                Amount number(10,2),\\\n",
    "                Inserted_Timestamp Timestamp)\").collect()"
   ]
  },
  {
   "cell_type": "code",
   "execution_count": 4,
   "metadata": {},
   "outputs": [
    {
     "data": {
      "text/plain": [
       "[Row(number of rows inserted=11)]"
      ]
     },
     "execution_count": 4,
     "metadata": {},
     "output_type": "execute_result"
    }
   ],
   "source": [
    "session.sql(\"insert into prices values \\\n",
    "              ('id1', 10.0, CURRENT_TIMESTAMP()), \\\n",
    "              ('id2', 20.0, CURRENT_TIMESTAMP()), \\\n",
    "              ('id3', 30.0, CURRENT_TIMESTAMP()), \\\n",
    "              ('id4', 40.0, CURRENT_TIMESTAMP()), \\\n",
    "              ('id5', 50.0, CURRENT_TIMESTAMP()), \\\n",
    "              ('id6', 60.0, CURRENT_TIMESTAMP()), \\\n",
    "              ('id7', 70.0, CURRENT_TIMESTAMP()), \\\n",
    "              ('id8', 80.0, CURRENT_TIMESTAMP()), \\\n",
    "              ('id9', 90.0, CURRENT_TIMESTAMP()), \\\n",
    "              ('id10', 100.0, CURRENT_TIMESTAMP()), \\\n",
    "              ('id11', 110.0, CURRENT_TIMESTAMP())\").collect()"
   ]
  },
  {
   "cell_type": "code",
   "execution_count": 5,
   "metadata": {},
   "outputs": [
    {
     "data": {
      "text/plain": [
       "[Row(COUNT(*)=11)]"
      ]
     },
     "execution_count": 5,
     "metadata": {},
     "output_type": "execute_result"
    }
   ],
   "source": [
    "session.sql(\"SELECT count(*) FROM prices\").collect()"
   ]
  },
  {
   "cell_type": "code",
   "execution_count": 6,
   "metadata": {},
   "outputs": [],
   "source": [
    "df_table = session.table(\"prices\")"
   ]
  },
  {
   "cell_type": "code",
   "execution_count": 7,
   "metadata": {},
   "outputs": [
    {
     "name": "stdout",
     "output_type": "stream",
     "text": [
      "--------------------------------------------------------\n",
      "|\"PRODUCT_ID\"  |\"AMOUNT\"  |\"INSERTED_TIMESTAMP\"        |\n",
      "--------------------------------------------------------\n",
      "|id1           |10.00     |2025-02-01 23:19:25.001000  |\n",
      "|id2           |20.00     |2025-02-01 23:19:25.001000  |\n",
      "|id3           |30.00     |2025-02-01 23:19:25.001000  |\n",
      "|id4           |40.00     |2025-02-01 23:19:25.001000  |\n",
      "|id5           |50.00     |2025-02-01 23:19:25.001000  |\n",
      "|id6           |60.00     |2025-02-01 23:19:25.001000  |\n",
      "|id7           |70.00     |2025-02-01 23:19:25.001000  |\n",
      "|id8           |80.00     |2025-02-01 23:19:25.001000  |\n",
      "|id9           |90.00     |2025-02-01 23:19:25.001000  |\n",
      "|id10          |100.00    |2025-02-01 23:19:25.001000  |\n",
      "--------------------------------------------------------\n",
      "\n"
     ]
    }
   ],
   "source": [
    "df_table.show()"
   ]
  },
  {
   "cell_type": "code",
   "execution_count": 8,
   "metadata": {},
   "outputs": [
    {
     "name": "stdout",
     "output_type": "stream",
     "text": [
      "--------------------------------------------------------\n",
      "|\"PRODUCT_ID\"  |\"AMOUNT\"  |\"INSERTED_TIMESTAMP\"        |\n",
      "--------------------------------------------------------\n",
      "|id1           |10.00     |2025-02-01 23:19:25.001000  |\n",
      "|id2           |20.00     |2025-02-01 23:19:25.001000  |\n",
      "|id3           |30.00     |2025-02-01 23:19:25.001000  |\n",
      "|id4           |40.00     |2025-02-01 23:19:25.001000  |\n",
      "|id5           |50.00     |2025-02-01 23:19:25.001000  |\n",
      "|id6           |60.00     |2025-02-01 23:19:25.001000  |\n",
      "|id7           |70.00     |2025-02-01 23:19:25.001000  |\n",
      "|id8           |80.00     |2025-02-01 23:19:25.001000  |\n",
      "|id9           |90.00     |2025-02-01 23:19:25.001000  |\n",
      "|id10          |100.00    |2025-02-01 23:19:25.001000  |\n",
      "--------------------------------------------------------\n",
      "\n"
     ]
    }
   ],
   "source": [
    "from snowflake.snowpark.functions import asc, desc, col\n",
    "\n",
    "# Sort the \"prices\" table by the \"price\" column in ascending order.\n",
    "df_sort = session.table(\"prices\").sort(asc(col(\"Amount\")))\n",
    "df_sort.show()"
   ]
  },
  {
   "cell_type": "code",
   "execution_count": 9,
   "metadata": {},
   "outputs": [
    {
     "name": "stdout",
     "output_type": "stream",
     "text": [
      "--------------------------------------------------------\n",
      "|\"PRODUCT_ID\"  |\"AMOUNT\"  |\"INSERTED_TIMESTAMP\"        |\n",
      "--------------------------------------------------------\n",
      "|id1           |10.00     |2025-02-01 23:19:25.001000  |\n",
      "--------------------------------------------------------\n",
      "\n"
     ]
    }
   ],
   "source": [
    "from snowflake.snowpark.functions import col\n",
    "\n",
    "# Create a DataFrame for the rows with the ID 1\n",
    "# in the \"sample_product_data\" table.\n",
    "\n",
    "df_filter = session.table(\"prices\").filter(col(\"product_id\") == 'id1')\n",
    "df_filter.show()"
   ]
  },
  {
   "cell_type": "code",
   "execution_count": 18,
   "metadata": {},
   "outputs": [
    {
     "name": "stdout",
     "output_type": "stream",
     "text": [
      "--------------------------------------------------------\n",
      "|\"PRODUCT_ID\"  |\"AMOUNT\"  |\"INSERTED_TIMESTAMP\"        |\n",
      "--------------------------------------------------------\n",
      "|id3           |30.00     |2025-02-01 23:19:25.001000  |\n",
      "|id4           |40.00     |2025-02-01 23:19:25.001000  |\n",
      "|id5           |50.00     |2025-02-01 23:19:25.001000  |\n",
      "|id7           |70.00     |2025-02-01 23:19:25.001000  |\n",
      "|id9           |90.00     |2025-02-01 23:19:25.001000  |\n",
      "|id10          |100.00    |2025-02-01 23:19:25.001000  |\n",
      "|id6           |60.00     |2025-02-01 23:19:25.001000  |\n",
      "|Id1           |34.00     |2023-03-28 10:09:50.477000  |\n",
      "|id8           |80.00     |2025-02-01 23:19:25.001000  |\n",
      "|id11          |110.00    |2025-02-01 23:19:25.001000  |\n",
      "--------------------------------------------------------\n",
      "\n"
     ]
    }
   ],
   "source": [
    "## Adding new records to the Dataframe\n",
    "\n",
    "# Import the lit function from the functions module.\n",
    "from snowflake.snowpark.functions import lit\n",
    "\n",
    "# Create a new DataFrame with the values for the new row.\n",
    "new_row = session.createDataFrame([( \"Id1\", 34, '2023-03-28 10:09:50.477000')], ['product_id', 'amount', 'inserted_timestamp'])\n",
    "\n",
    "# Create a DataFrame for the existing rows in the \"prices\" table.\n",
    "existing_rows = session.table(\"prices\")\n",
    "\n",
    "# Combine the two DataFrames into a single DataFrame.\n",
    "df_combined_rows = existing_rows.union(new_row)\n",
    "\n",
    "# Show the resulting DataFrame.\n",
    "df_combined_rows.show(15)"
   ]
  },
  {
   "cell_type": "code",
   "execution_count": 19,
   "metadata": {},
   "outputs": [
    {
     "name": "stdout",
     "output_type": "stream",
     "text": [
      "--------------------------------\n",
      "|\"PRODUCT_ID\"  |\"TOTAL_PRICE\"  |\n",
      "--------------------------------\n",
      "|              |               |\n",
      "--------------------------------\n",
      "\n"
     ]
    }
   ],
   "source": [
    "# Import the sum function from the functions module.\n",
    "from snowflake.snowpark.functions import sum\n",
    "\n",
    "# Calculate the total price for each product in the \"prices\" table.\n",
    "df_aggregate = session.table(\"prices\").groupBy(col(\"product_id\"))\\\n",
    "                      .agg(sum(col(\"Amount\")).alias(\"total_price\"))\\\n",
    "                      .filter(col(\"product_id\") == 'Id1')\n",
    "df_aggregate.show(15)"
   ]
  },
  {
   "cell_type": "code",
   "execution_count": 11,
   "metadata": {},
   "outputs": [
    {
     "name": "stdout",
     "output_type": "stream",
     "text": [
      "--------------------------------------------------------\n",
      "|\"PRODUCT_ID\"  |\"AMOUNT\"  |\"INSERTED_TIMESTAMP\"        |\n",
      "--------------------------------------------------------\n",
      "|id2           |20.00     |2025-02-01 23:19:25.001000  |\n",
      "|id3           |30.00     |2025-02-01 23:19:25.001000  |\n",
      "|id4           |40.00     |2025-02-01 23:19:25.001000  |\n",
      "|id5           |50.00     |2025-02-01 23:19:25.001000  |\n",
      "|id6           |60.00     |2025-02-01 23:19:25.001000  |\n",
      "|id7           |70.00     |2025-02-01 23:19:25.001000  |\n",
      "|id8           |80.00     |2025-02-01 23:19:25.001000  |\n",
      "|id9           |90.00     |2025-02-01 23:19:25.001000  |\n",
      "|id10          |100.00    |2025-02-01 23:19:25.001000  |\n",
      "|id11          |110.00    |2025-02-01 23:19:25.001000  |\n",
      "--------------------------------------------------------\n",
      "\n"
     ]
    }
   ],
   "source": [
    "# Use session.sql to execute a SQL delete statement to remove records with product_id 'id1' from the prices table\n",
    "session.sql(\"DELETE FROM prices WHERE product_id = 'id1'\").collect()\n",
    "\n",
    "# Retrieve the updated table and assign it to a dataframe object\n",
    "df = session.table(\"prices\")\n",
    "\n",
    "# Display the contents of the dataframe to verify that the appropriate records have been deleted\n",
    "df.show()"
   ]
  },
  {
   "cell_type": "code",
   "execution_count": 12,
   "metadata": {},
   "outputs": [
    {
     "name": "stdout",
     "output_type": "stream",
     "text": [
      "Filtered Temp Dataframe\n",
      "--------------------------------------------------------\n",
      "|\"PRODUCT_ID\"  |\"AMOUNT\"  |\"INSERTED_TIMESTAMP\"        |\n",
      "--------------------------------------------------------\n",
      "|id3           |30.00     |2025-02-01 23:19:25.001000  |\n",
      "|id4           |40.00     |2025-02-01 23:19:25.001000  |\n",
      "|id5           |50.00     |2025-02-01 23:19:25.001000  |\n",
      "|id6           |60.00     |2025-02-01 23:19:25.001000  |\n",
      "|id7           |70.00     |2025-02-01 23:19:25.001000  |\n",
      "|id8           |80.00     |2025-02-01 23:19:25.001000  |\n",
      "|id9           |90.00     |2025-02-01 23:19:25.001000  |\n",
      "|id10          |100.00    |2025-02-01 23:19:25.001000  |\n",
      "|id11          |110.00    |2025-02-01 23:19:25.001000  |\n",
      "--------------------------------------------------------\n",
      "\n",
      "Final Table Value\n",
      "--------------------------------------------------------\n",
      "|\"PRODUCT_ID\"  |\"AMOUNT\"  |\"INSERTED_TIMESTAMP\"        |\n",
      "--------------------------------------------------------\n",
      "|id3           |30.00     |2025-02-01 23:19:25.001000  |\n",
      "|id4           |40.00     |2025-02-01 23:19:25.001000  |\n",
      "|id5           |50.00     |2025-02-01 23:19:25.001000  |\n",
      "|id6           |60.00     |2025-02-01 23:19:25.001000  |\n",
      "|id7           |70.00     |2025-02-01 23:19:25.001000  |\n",
      "|id8           |80.00     |2025-02-01 23:19:25.001000  |\n",
      "|id9           |90.00     |2025-02-01 23:19:25.001000  |\n",
      "|id10          |100.00    |2025-02-01 23:19:25.001000  |\n",
      "|id11          |110.00    |2025-02-01 23:19:25.001000  |\n",
      "--------------------------------------------------------\n",
      "\n"
     ]
    }
   ],
   "source": [
    "# Import the necessary Snowpark functions\n",
    "from snowflake.snowpark.functions import ltrim, rtrim\n",
    "\n",
    "# Retrieve the existing table and assign it to a DataFrame object\n",
    "df = session.table(\"prices\")\n",
    "\n",
    "# Create a new DataFrame without the records to delete using the `filter` method\n",
    "filteredDf = df.filter(ltrim(rtrim(col(\"PRODUCT_ID\"))) != 'id2')\n",
    "\n",
    "# Display the contents of the new DataFrame\n",
    "print(\"Filtered Temp Dataframe\")\n",
    "filteredDf.show()\n",
    "\n",
    "# Write the filtered DataFrame to a temporary table\n",
    "filteredDf.write.save_as_table(\"temp_table\", mode=\"append\", table_type=\"temporary\")\n",
    "\n",
    "# Drop the original table and recreate it with the contents of the temporary table\n",
    "session.sql(\"DROP TABLE prices\").collect()\n",
    "session.sql(\"CREATE TABLE prices AS SELECT * FROM temp_table\").collect()\n",
    "\n",
    "# Retrieve the updated table and display its contents\n",
    "df_Final = session.table(\"prices\")\n",
    "print(\"Final Table Value\")\n",
    "df_Final.show()"
   ]
  },
  {
   "cell_type": "code",
   "execution_count": 13,
   "metadata": {},
   "outputs": [],
   "source": [
    "# Write data to the table in \"append\" mode\n",
    "df_Final.write.mode(\"append\").saveAsTable(\"Test_Demo_Append\")"
   ]
  },
  {
   "cell_type": "code",
   "execution_count": 14,
   "metadata": {},
   "outputs": [],
   "source": [
    "df_Final.write.mode(\"overwrite\").saveAsTable(\"Test_Demo_Append\")"
   ]
  },
  {
   "cell_type": "code",
   "execution_count": 15,
   "metadata": {},
   "outputs": [],
   "source": [
    "## Write data to a table with \"ignore\" mode\n",
    "df_Final.write.mode(\"ignore\").saveAsTable(\"Test_Demo_Append\")"
   ]
  },
  {
   "cell_type": "code",
   "execution_count": 16,
   "metadata": {},
   "outputs": [
    {
     "ename": "SnowparkSQLException",
     "evalue": "(1304): 01ba1e69-0000-c7b4-0000-7d5d0004001a: 002002 (42710): SQL compilation error:\nObject 'TEST_DEMO_APPEND' already exists.",
     "output_type": "error",
     "traceback": [
      "\u001b[1;31m---------------------------------------------------------------------------\u001b[0m",
      "\u001b[1;31mSnowparkSQLException\u001b[0m                      Traceback (most recent call last)",
      "Cell \u001b[1;32mIn[16], line 4\u001b[0m\n\u001b[0;32m      1\u001b[0m \u001b[38;5;66;03m# This mode throws an error if the table already exists.\u001b[39;00m\n\u001b[0;32m      2\u001b[0m \u001b[38;5;66;03m# This is the default mode in Snowpark DataFrame.\u001b[39;00m\n\u001b[1;32m----> 4\u001b[0m \u001b[43mdf_Final\u001b[49m\u001b[38;5;241;43m.\u001b[39;49m\u001b[43mwrite\u001b[49m\u001b[38;5;241;43m.\u001b[39;49m\u001b[43mmode\u001b[49m\u001b[43m(\u001b[49m\u001b[38;5;124;43m\"\u001b[39;49m\u001b[38;5;124;43merrorifexists\u001b[39;49m\u001b[38;5;124;43m\"\u001b[39;49m\u001b[43m)\u001b[49m\u001b[38;5;241;43m.\u001b[39;49m\u001b[43msaveAsTable\u001b[49m\u001b[43m(\u001b[49m\u001b[38;5;124;43m\"\u001b[39;49m\u001b[38;5;124;43mTest_Demo_Append\u001b[39;49m\u001b[38;5;124;43m\"\u001b[39;49m\u001b[43m)\u001b[49m\n",
      "File \u001b[1;32mc:\\Users\\Luan Lima\\AppData\\Local\\Programs\\Python\\Python310\\lib\\site-packages\\snowflake\\snowpark\\_internal\\telemetry.py:227\u001b[0m, in \u001b[0;36mdfw_collect_api_telemetry.<locals>.wrap\u001b[1;34m(*args, **kwargs)\u001b[0m\n\u001b[0;32m    224\u001b[0m \u001b[38;5;129m@functools\u001b[39m\u001b[38;5;241m.\u001b[39mwraps(func)\n\u001b[0;32m    225\u001b[0m \u001b[38;5;28;01mdef\u001b[39;00m \u001b[38;5;21mwrap\u001b[39m(\u001b[38;5;241m*\u001b[39margs, \u001b[38;5;241m*\u001b[39m\u001b[38;5;241m*\u001b[39mkwargs):\n\u001b[0;32m    226\u001b[0m     \u001b[38;5;28;01mwith\u001b[39;00m args[\u001b[38;5;241m0\u001b[39m]\u001b[38;5;241m.\u001b[39m_dataframe\u001b[38;5;241m.\u001b[39m_session\u001b[38;5;241m.\u001b[39mquery_history() \u001b[38;5;28;01mas\u001b[39;00m query_history:\n\u001b[1;32m--> 227\u001b[0m         result \u001b[38;5;241m=\u001b[39m func(\u001b[38;5;241m*\u001b[39margs, \u001b[38;5;241m*\u001b[39m\u001b[38;5;241m*\u001b[39mkwargs)\n\u001b[0;32m    228\u001b[0m     plan \u001b[38;5;241m=\u001b[39m args[\u001b[38;5;241m0\u001b[39m]\u001b[38;5;241m.\u001b[39m_dataframe\u001b[38;5;241m.\u001b[39m_select_statement \u001b[38;5;129;01mor\u001b[39;00m args[\u001b[38;5;241m0\u001b[39m]\u001b[38;5;241m.\u001b[39m_dataframe\u001b[38;5;241m.\u001b[39m_plan\n\u001b[0;32m    229\u001b[0m     api_calls \u001b[38;5;241m=\u001b[39m [\n\u001b[0;32m    230\u001b[0m         \u001b[38;5;241m*\u001b[39mplan\u001b[38;5;241m.\u001b[39mapi_calls,\n\u001b[0;32m    231\u001b[0m         {TelemetryField\u001b[38;5;241m.\u001b[39mNAME\u001b[38;5;241m.\u001b[39mvalue: \u001b[38;5;124mf\u001b[39m\u001b[38;5;124m\"\u001b[39m\u001b[38;5;124mDataFrameWriter.\u001b[39m\u001b[38;5;132;01m{\u001b[39;00mfunc\u001b[38;5;241m.\u001b[39m\u001b[38;5;18m__name__\u001b[39m\u001b[38;5;132;01m}\u001b[39;00m\u001b[38;5;124m\"\u001b[39m},\n\u001b[0;32m    232\u001b[0m     ]\n",
      "File \u001b[1;32mc:\\Users\\Luan Lima\\AppData\\Local\\Programs\\Python\\Python310\\lib\\site-packages\\snowflake\\snowpark\\dataframe_writer.py:314\u001b[0m, in \u001b[0;36mDataFrameWriter.save_as_table\u001b[1;34m(self, table_name, mode, column_order, create_temp_table, table_type, clustering_keys, statement_params, block, comment, enable_schema_evolution, data_retention_time, max_data_extension_time, change_tracking, copy_grants, iceberg_config)\u001b[0m\n\u001b[0;32m    296\u001b[0m create_table_logic_plan \u001b[38;5;241m=\u001b[39m SnowflakeCreateTable(\n\u001b[0;32m    297\u001b[0m     table_name,\n\u001b[0;32m    298\u001b[0m     column_names,\n\u001b[1;32m   (...)\u001b[0m\n\u001b[0;32m    311\u001b[0m     table_exists,\n\u001b[0;32m    312\u001b[0m )\n\u001b[0;32m    313\u001b[0m snowflake_plan \u001b[38;5;241m=\u001b[39m session\u001b[38;5;241m.\u001b[39m_analyzer\u001b[38;5;241m.\u001b[39mresolve(create_table_logic_plan)\n\u001b[1;32m--> 314\u001b[0m result \u001b[38;5;241m=\u001b[39m \u001b[43msession\u001b[49m\u001b[38;5;241;43m.\u001b[39;49m\u001b[43m_conn\u001b[49m\u001b[38;5;241;43m.\u001b[39;49m\u001b[43mexecute\u001b[49m\u001b[43m(\u001b[49m\n\u001b[0;32m    315\u001b[0m \u001b[43m    \u001b[49m\u001b[43msnowflake_plan\u001b[49m\u001b[43m,\u001b[49m\n\u001b[0;32m    316\u001b[0m \u001b[43m    \u001b[49m\u001b[43m_statement_params\u001b[49m\u001b[38;5;241;43m=\u001b[39;49m\u001b[43mstatement_params\u001b[49m\u001b[43m \u001b[49m\u001b[38;5;129;43;01mor\u001b[39;49;00m\u001b[43m \u001b[49m\u001b[38;5;28;43mself\u001b[39;49m\u001b[38;5;241;43m.\u001b[39;49m\u001b[43m_dataframe\u001b[49m\u001b[38;5;241;43m.\u001b[39;49m\u001b[43m_statement_params\u001b[49m\u001b[43m,\u001b[49m\n\u001b[0;32m    317\u001b[0m \u001b[43m    \u001b[49m\u001b[43mblock\u001b[49m\u001b[38;5;241;43m=\u001b[39;49m\u001b[43mblock\u001b[49m\u001b[43m,\u001b[49m\n\u001b[0;32m    318\u001b[0m \u001b[43m    \u001b[49m\u001b[43mdata_type\u001b[49m\u001b[38;5;241;43m=\u001b[39;49m\u001b[43m_AsyncResultType\u001b[49m\u001b[38;5;241;43m.\u001b[39;49m\u001b[43mNO_RESULT\u001b[49m\u001b[43m,\u001b[49m\n\u001b[0;32m    319\u001b[0m \u001b[43m\u001b[49m\u001b[43m)\u001b[49m\n\u001b[0;32m    320\u001b[0m \u001b[38;5;28;01mreturn\u001b[39;00m result \u001b[38;5;28;01mif\u001b[39;00m \u001b[38;5;129;01mnot\u001b[39;00m block \u001b[38;5;28;01melse\u001b[39;00m \u001b[38;5;28;01mNone\u001b[39;00m\n",
      "File \u001b[1;32mc:\\Users\\Luan Lima\\AppData\\Local\\Programs\\Python\\Python310\\lib\\site-packages\\snowflake\\snowpark\\_internal\\server_connection.py:598\u001b[0m, in \u001b[0;36mServerConnection.execute\u001b[1;34m(self, plan, to_pandas, to_iter, block, data_type, log_on_exception, case_sensitive, **kwargs)\u001b[0m\n\u001b[0;32m    588\u001b[0m \u001b[38;5;28;01mif\u001b[39;00m (\n\u001b[0;32m    589\u001b[0m     is_in_stored_procedure()\n\u001b[0;32m    590\u001b[0m     \u001b[38;5;129;01mand\u001b[39;00m \u001b[38;5;129;01mnot\u001b[39;00m block\n\u001b[1;32m   (...)\u001b[0m\n\u001b[0;32m    593\u001b[0m     )\n\u001b[0;32m    594\u001b[0m ):  \u001b[38;5;66;03m# pragma: no cover\u001b[39;00m\n\u001b[0;32m    595\u001b[0m     \u001b[38;5;28;01mraise\u001b[39;00m \u001b[38;5;167;01mNotImplementedError\u001b[39;00m(\n\u001b[0;32m    596\u001b[0m         \u001b[38;5;124m\"\u001b[39m\u001b[38;5;124mAsync query is not supported in stored procedure yet\u001b[39m\u001b[38;5;124m\"\u001b[39m\n\u001b[0;32m    597\u001b[0m     )\n\u001b[1;32m--> 598\u001b[0m result_set, result_meta \u001b[38;5;241m=\u001b[39m \u001b[38;5;28mself\u001b[39m\u001b[38;5;241m.\u001b[39mget_result_set(\n\u001b[0;32m    599\u001b[0m     plan,\n\u001b[0;32m    600\u001b[0m     to_pandas,\n\u001b[0;32m    601\u001b[0m     to_iter,\n\u001b[0;32m    602\u001b[0m     \u001b[38;5;241m*\u001b[39m\u001b[38;5;241m*\u001b[39mkwargs,\n\u001b[0;32m    603\u001b[0m     block\u001b[38;5;241m=\u001b[39mblock,\n\u001b[0;32m    604\u001b[0m     data_type\u001b[38;5;241m=\u001b[39mdata_type,\n\u001b[0;32m    605\u001b[0m     log_on_exception\u001b[38;5;241m=\u001b[39mlog_on_exception,\n\u001b[0;32m    606\u001b[0m     case_sensitive\u001b[38;5;241m=\u001b[39mcase_sensitive,\n\u001b[0;32m    607\u001b[0m )\n\u001b[0;32m    608\u001b[0m \u001b[38;5;28;01mif\u001b[39;00m \u001b[38;5;129;01mnot\u001b[39;00m block:\n\u001b[0;32m    609\u001b[0m     \u001b[38;5;28;01mreturn\u001b[39;00m result_set\n",
      "File \u001b[1;32mc:\\Users\\Luan Lima\\AppData\\Local\\Programs\\Python\\Python310\\lib\\site-packages\\snowflake\\snowpark\\_internal\\analyzer\\snowflake_plan.py:205\u001b[0m, in \u001b[0;36mSnowflakePlan.Decorator.wrap_exception.<locals>.wrap\u001b[1;34m(*args, **kwargs)\u001b[0m\n\u001b[0;32m    201\u001b[0m \u001b[38;5;28;01melse\u001b[39;00m:\n\u001b[0;32m    202\u001b[0m     ne \u001b[38;5;241m=\u001b[39m SnowparkClientExceptionMessages\u001b[38;5;241m.\u001b[39mSQL_EXCEPTION_FROM_PROGRAMMING_ERROR(\n\u001b[0;32m    203\u001b[0m         e\n\u001b[0;32m    204\u001b[0m     )\n\u001b[1;32m--> 205\u001b[0m     \u001b[38;5;28;01mraise\u001b[39;00m ne\u001b[38;5;241m.\u001b[39mwith_traceback(tb) \u001b[38;5;28;01mfrom\u001b[39;00m \u001b[38;5;28;01mNone\u001b[39;00m\n",
      "File \u001b[1;32mc:\\Users\\Luan Lima\\AppData\\Local\\Programs\\Python\\Python310\\lib\\site-packages\\snowflake\\snowpark\\_internal\\analyzer\\snowflake_plan.py:136\u001b[0m, in \u001b[0;36mSnowflakePlan.Decorator.wrap_exception.<locals>.wrap\u001b[1;34m(*args, **kwargs)\u001b[0m\n\u001b[0;32m    134\u001b[0m \u001b[38;5;28;01mdef\u001b[39;00m \u001b[38;5;21mwrap\u001b[39m(\u001b[38;5;241m*\u001b[39margs, \u001b[38;5;241m*\u001b[39m\u001b[38;5;241m*\u001b[39mkwargs):\n\u001b[0;32m    135\u001b[0m     \u001b[38;5;28;01mtry\u001b[39;00m:\n\u001b[1;32m--> 136\u001b[0m         \u001b[38;5;28;01mreturn\u001b[39;00m func(\u001b[38;5;241m*\u001b[39margs, \u001b[38;5;241m*\u001b[39m\u001b[38;5;241m*\u001b[39mkwargs)\n\u001b[0;32m    137\u001b[0m     \u001b[38;5;28;01mexcept\u001b[39;00m snowflake\u001b[38;5;241m.\u001b[39mconnector\u001b[38;5;241m.\u001b[39merrors\u001b[38;5;241m.\u001b[39mProgrammingError \u001b[38;5;28;01mas\u001b[39;00m e:\n\u001b[0;32m    138\u001b[0m         query \u001b[38;5;241m=\u001b[39m \u001b[38;5;28mgetattr\u001b[39m(e, \u001b[38;5;124m\"\u001b[39m\u001b[38;5;124mquery\u001b[39m\u001b[38;5;124m\"\u001b[39m, \u001b[38;5;28;01mNone\u001b[39;00m)\n",
      "File \u001b[1;32mc:\\Users\\Luan Lima\\AppData\\Local\\Programs\\Python\\Python310\\lib\\site-packages\\snowflake\\snowpark\\_internal\\server_connection.py:707\u001b[0m, in \u001b[0;36mServerConnection.get_result_set\u001b[1;34m(self, plan, to_pandas, to_iter, block, data_type, log_on_exception, case_sensitive, ignore_results, **kwargs)\u001b[0m\n\u001b[0;32m    705\u001b[0m \u001b[38;5;28;01mfor\u001b[39;00m holder, id_ \u001b[38;5;129;01min\u001b[39;00m placeholders\u001b[38;5;241m.\u001b[39mitems():\n\u001b[0;32m    706\u001b[0m     final_query \u001b[38;5;241m=\u001b[39m final_query\u001b[38;5;241m.\u001b[39mreplace(holder, id_)\n\u001b[1;32m--> 707\u001b[0m result \u001b[38;5;241m=\u001b[39m \u001b[38;5;28mself\u001b[39m\u001b[38;5;241m.\u001b[39mrun_query(\n\u001b[0;32m    708\u001b[0m     final_query,\n\u001b[0;32m    709\u001b[0m     to_pandas,\n\u001b[0;32m    710\u001b[0m     to_iter \u001b[38;5;129;01mand\u001b[39;00m (i \u001b[38;5;241m==\u001b[39m \u001b[38;5;28mlen\u001b[39m(main_queries) \u001b[38;5;241m-\u001b[39m \u001b[38;5;241m1\u001b[39m),\n\u001b[0;32m    711\u001b[0m     is_ddl_on_temp_object\u001b[38;5;241m=\u001b[39mquery\u001b[38;5;241m.\u001b[39mis_ddl_on_temp_object,\n\u001b[0;32m    712\u001b[0m     block\u001b[38;5;241m=\u001b[39m\u001b[38;5;129;01mnot\u001b[39;00m is_last,\n\u001b[0;32m    713\u001b[0m     data_type\u001b[38;5;241m=\u001b[39mdata_type,\n\u001b[0;32m    714\u001b[0m     async_job_plan\u001b[38;5;241m=\u001b[39mplan,\n\u001b[0;32m    715\u001b[0m     log_on_exception\u001b[38;5;241m=\u001b[39mlog_on_exception,\n\u001b[0;32m    716\u001b[0m     case_sensitive\u001b[38;5;241m=\u001b[39mcase_sensitive,\n\u001b[0;32m    717\u001b[0m     params\u001b[38;5;241m=\u001b[39mquery\u001b[38;5;241m.\u001b[39mparams,\n\u001b[0;32m    718\u001b[0m     ignore_results\u001b[38;5;241m=\u001b[39mignore_results,\n\u001b[0;32m    719\u001b[0m     async_post_actions\u001b[38;5;241m=\u001b[39mpost_actions,\n\u001b[0;32m    720\u001b[0m     \u001b[38;5;241m*\u001b[39m\u001b[38;5;241m*\u001b[39mkwargs,\n\u001b[0;32m    721\u001b[0m )\n\u001b[0;32m    722\u001b[0m placeholders[query\u001b[38;5;241m.\u001b[39mquery_id_place_holder] \u001b[38;5;241m=\u001b[39m (\n\u001b[0;32m    723\u001b[0m     result[\u001b[38;5;124m\"\u001b[39m\u001b[38;5;124msfqid\u001b[39m\u001b[38;5;124m\"\u001b[39m] \u001b[38;5;28;01mif\u001b[39;00m \u001b[38;5;129;01mnot\u001b[39;00m is_last \u001b[38;5;28;01melse\u001b[39;00m result\u001b[38;5;241m.\u001b[39mquery_id\n\u001b[0;32m    724\u001b[0m )\n\u001b[0;32m    725\u001b[0m result_meta \u001b[38;5;241m=\u001b[39m get_new_description(\u001b[38;5;28mself\u001b[39m\u001b[38;5;241m.\u001b[39m_cursor)\n",
      "File \u001b[1;32mc:\\Users\\Luan Lima\\AppData\\Local\\Programs\\Python\\Python310\\lib\\site-packages\\snowflake\\snowpark\\_internal\\server_connection.py:129\u001b[0m, in \u001b[0;36mServerConnection._Decorator.wrap_exception.<locals>.wrap\u001b[1;34m(*args, **kwargs)\u001b[0m\n\u001b[0;32m    125\u001b[0m     \u001b[38;5;28;01mraise\u001b[39;00m SnowparkClientExceptionMessages\u001b[38;5;241m.\u001b[39mSERVER_SESSION_EXPIRED(\n\u001b[0;32m    126\u001b[0m         ex\u001b[38;5;241m.\u001b[39mcause\n\u001b[0;32m    127\u001b[0m     )\n\u001b[0;32m    128\u001b[0m \u001b[38;5;28;01mexcept\u001b[39;00m \u001b[38;5;167;01mException\u001b[39;00m \u001b[38;5;28;01mas\u001b[39;00m ex:\n\u001b[1;32m--> 129\u001b[0m     \u001b[38;5;28;01mraise\u001b[39;00m ex\n",
      "File \u001b[1;32mc:\\Users\\Luan Lima\\AppData\\Local\\Programs\\Python\\Python310\\lib\\site-packages\\snowflake\\snowpark\\_internal\\server_connection.py:123\u001b[0m, in \u001b[0;36mServerConnection._Decorator.wrap_exception.<locals>.wrap\u001b[1;34m(*args, **kwargs)\u001b[0m\n\u001b[0;32m    121\u001b[0m     \u001b[38;5;28;01mraise\u001b[39;00m SnowparkClientExceptionMessages\u001b[38;5;241m.\u001b[39mSERVER_SESSION_HAS_BEEN_CLOSED()\n\u001b[0;32m    122\u001b[0m \u001b[38;5;28;01mtry\u001b[39;00m:\n\u001b[1;32m--> 123\u001b[0m     \u001b[38;5;28;01mreturn\u001b[39;00m func(\u001b[38;5;241m*\u001b[39margs, \u001b[38;5;241m*\u001b[39m\u001b[38;5;241m*\u001b[39mkwargs)\n\u001b[0;32m    124\u001b[0m \u001b[38;5;28;01mexcept\u001b[39;00m ReauthenticationRequest \u001b[38;5;28;01mas\u001b[39;00m ex:\n\u001b[0;32m    125\u001b[0m     \u001b[38;5;28;01mraise\u001b[39;00m SnowparkClientExceptionMessages\u001b[38;5;241m.\u001b[39mSERVER_SESSION_EXPIRED(\n\u001b[0;32m    126\u001b[0m         ex\u001b[38;5;241m.\u001b[39mcause\n\u001b[0;32m    127\u001b[0m     )\n",
      "File \u001b[1;32mc:\\Users\\Luan Lima\\AppData\\Local\\Programs\\Python\\Python310\\lib\\site-packages\\snowflake\\snowpark\\_internal\\server_connection.py:505\u001b[0m, in \u001b[0;36mServerConnection.run_query\u001b[1;34m(self, query, to_pandas, to_iter, is_ddl_on_temp_object, block, data_type, async_job_plan, log_on_exception, case_sensitive, params, num_statements, ignore_results, async_post_actions, **kwargs)\u001b[0m\n\u001b[0;32m    503\u001b[0m         query_id_log \u001b[38;5;241m=\u001b[39m \u001b[38;5;124mf\u001b[39m\u001b[38;5;124m\"\u001b[39m\u001b[38;5;124m [queryID: \u001b[39m\u001b[38;5;132;01m{\u001b[39;00mex\u001b[38;5;241m.\u001b[39msfqid\u001b[38;5;132;01m}\u001b[39;00m\u001b[38;5;124m]\u001b[39m\u001b[38;5;124m\"\u001b[39m \u001b[38;5;28;01mif\u001b[39;00m \u001b[38;5;28mhasattr\u001b[39m(ex, \u001b[38;5;124m\"\u001b[39m\u001b[38;5;124msfqid\u001b[39m\u001b[38;5;124m\"\u001b[39m) \u001b[38;5;28;01melse\u001b[39;00m \u001b[38;5;124m\"\u001b[39m\u001b[38;5;124m\"\u001b[39m\n\u001b[0;32m    504\u001b[0m         logger\u001b[38;5;241m.\u001b[39merror(\u001b[38;5;124mf\u001b[39m\u001b[38;5;124m\"\u001b[39m\u001b[38;5;124mFailed to execute query\u001b[39m\u001b[38;5;132;01m{\u001b[39;00mquery_id_log\u001b[38;5;132;01m}\u001b[39;00m\u001b[38;5;124m \u001b[39m\u001b[38;5;132;01m{\u001b[39;00mquery\u001b[38;5;132;01m}\u001b[39;00m\u001b[38;5;130;01m\\n\u001b[39;00m\u001b[38;5;132;01m{\u001b[39;00mex\u001b[38;5;132;01m}\u001b[39;00m\u001b[38;5;124m\"\u001b[39m)\n\u001b[1;32m--> 505\u001b[0m     \u001b[38;5;28;01mraise\u001b[39;00m ex\n\u001b[0;32m    507\u001b[0m \u001b[38;5;66;03m# fetch_pandas_all/batches() only works for SELECT statements\u001b[39;00m\n\u001b[0;32m    508\u001b[0m \u001b[38;5;66;03m# We call fetchall() if fetch_pandas_all/batches() fails,\u001b[39;00m\n\u001b[0;32m    509\u001b[0m \u001b[38;5;66;03m# because when the query plan has multiple queries, it will\u001b[39;00m\n\u001b[0;32m    510\u001b[0m \u001b[38;5;66;03m# have non-select statements, and it shouldn't fail if the user\u001b[39;00m\n\u001b[0;32m    511\u001b[0m \u001b[38;5;66;03m# calls to_pandas() to execute the query.\u001b[39;00m\n\u001b[0;32m    512\u001b[0m \u001b[38;5;28;01mif\u001b[39;00m block:\n",
      "File \u001b[1;32mc:\\Users\\Luan Lima\\AppData\\Local\\Programs\\Python\\Python310\\lib\\site-packages\\snowflake\\snowpark\\_internal\\server_connection.py:490\u001b[0m, in \u001b[0;36mServerConnection.run_query\u001b[1;34m(self, query, to_pandas, to_iter, is_ddl_on_temp_object, block, data_type, async_job_plan, log_on_exception, case_sensitive, params, num_statements, ignore_results, async_post_actions, **kwargs)\u001b[0m\n\u001b[0;32m    488\u001b[0m     kwargs[\u001b[38;5;124m\"\u001b[39m\u001b[38;5;124m_statement_params\u001b[39m\u001b[38;5;124m\"\u001b[39m][\u001b[38;5;124m\"\u001b[39m\u001b[38;5;124mSNOWPARK_SKIP_TXN_COMMIT_IN_DDL\u001b[39m\u001b[38;5;124m\"\u001b[39m] \u001b[38;5;241m=\u001b[39m \u001b[38;5;28;01mTrue\u001b[39;00m\n\u001b[0;32m    489\u001b[0m \u001b[38;5;28;01mif\u001b[39;00m block:\n\u001b[1;32m--> 490\u001b[0m     results_cursor \u001b[38;5;241m=\u001b[39m \u001b[38;5;28mself\u001b[39m\u001b[38;5;241m.\u001b[39mexecute_and_notify_query_listener(\n\u001b[0;32m    491\u001b[0m         query, params\u001b[38;5;241m=\u001b[39mparams, \u001b[38;5;241m*\u001b[39m\u001b[38;5;241m*\u001b[39mkwargs\n\u001b[0;32m    492\u001b[0m     )\n\u001b[0;32m    493\u001b[0m     logger\u001b[38;5;241m.\u001b[39mdebug(\u001b[38;5;124mf\u001b[39m\u001b[38;5;124m\"\u001b[39m\u001b[38;5;124mExecute query [queryID: \u001b[39m\u001b[38;5;132;01m{\u001b[39;00mresults_cursor\u001b[38;5;241m.\u001b[39msfqid\u001b[38;5;132;01m}\u001b[39;00m\u001b[38;5;124m] \u001b[39m\u001b[38;5;132;01m{\u001b[39;00mquery\u001b[38;5;132;01m}\u001b[39;00m\u001b[38;5;124m\"\u001b[39m)\n\u001b[0;32m    494\u001b[0m \u001b[38;5;28;01melse\u001b[39;00m:\n",
      "File \u001b[1;32mc:\\Users\\Luan Lima\\AppData\\Local\\Programs\\Python\\Python310\\lib\\site-packages\\snowflake\\snowpark\\_internal\\server_connection.py:434\u001b[0m, in \u001b[0;36mServerConnection.execute_and_notify_query_listener\u001b[1;34m(self, query, **kwargs)\u001b[0m\n\u001b[0;32m    430\u001b[0m \u001b[38;5;28;01mexcept\u001b[39;00m Error \u001b[38;5;28;01mas\u001b[39;00m err:\n\u001b[0;32m    431\u001b[0m     \u001b[38;5;28mself\u001b[39m\u001b[38;5;241m.\u001b[39mnotify_query_listeners(\n\u001b[0;32m    432\u001b[0m         QueryRecord(err\u001b[38;5;241m.\u001b[39msfqid, err\u001b[38;5;241m.\u001b[39mquery), is_error\u001b[38;5;241m=\u001b[39m\u001b[38;5;28;01mTrue\u001b[39;00m\n\u001b[0;32m    433\u001b[0m     )\n\u001b[1;32m--> 434\u001b[0m     \u001b[38;5;28;01mraise\u001b[39;00m err\n\u001b[0;32m    435\u001b[0m \u001b[38;5;28mself\u001b[39m\u001b[38;5;241m.\u001b[39mnotify_query_listeners(\n\u001b[0;32m    436\u001b[0m     QueryRecord(results_cursor\u001b[38;5;241m.\u001b[39msfqid, results_cursor\u001b[38;5;241m.\u001b[39mquery)\n\u001b[0;32m    437\u001b[0m )\n\u001b[0;32m    438\u001b[0m \u001b[38;5;28;01mreturn\u001b[39;00m results_cursor\n",
      "File \u001b[1;32mc:\\Users\\Luan Lima\\AppData\\Local\\Programs\\Python\\Python310\\lib\\site-packages\\snowflake\\snowpark\\_internal\\server_connection.py:429\u001b[0m, in \u001b[0;36mServerConnection.execute_and_notify_query_listener\u001b[1;34m(self, query, **kwargs)\u001b[0m\n\u001b[0;32m    425\u001b[0m \u001b[38;5;28;01mdef\u001b[39;00m \u001b[38;5;21mexecute_and_notify_query_listener\u001b[39m(\n\u001b[0;32m    426\u001b[0m     \u001b[38;5;28mself\u001b[39m, query: \u001b[38;5;28mstr\u001b[39m, \u001b[38;5;241m*\u001b[39m\u001b[38;5;241m*\u001b[39mkwargs: Any\n\u001b[0;32m    427\u001b[0m ) \u001b[38;5;241m-\u001b[39m\u001b[38;5;241m>\u001b[39m SnowflakeCursor:\n\u001b[0;32m    428\u001b[0m     \u001b[38;5;28;01mtry\u001b[39;00m:\n\u001b[1;32m--> 429\u001b[0m         results_cursor \u001b[38;5;241m=\u001b[39m \u001b[38;5;28mself\u001b[39m\u001b[38;5;241m.\u001b[39m_cursor\u001b[38;5;241m.\u001b[39mexecute(query, \u001b[38;5;241m*\u001b[39m\u001b[38;5;241m*\u001b[39mkwargs)\n\u001b[0;32m    430\u001b[0m     \u001b[38;5;28;01mexcept\u001b[39;00m Error \u001b[38;5;28;01mas\u001b[39;00m err:\n\u001b[0;32m    431\u001b[0m         \u001b[38;5;28mself\u001b[39m\u001b[38;5;241m.\u001b[39mnotify_query_listeners(\n\u001b[0;32m    432\u001b[0m             QueryRecord(err\u001b[38;5;241m.\u001b[39msfqid, err\u001b[38;5;241m.\u001b[39mquery), is_error\u001b[38;5;241m=\u001b[39m\u001b[38;5;28;01mTrue\u001b[39;00m\n\u001b[0;32m    433\u001b[0m         )\n",
      "File \u001b[1;32mc:\\Users\\Luan Lima\\AppData\\Local\\Programs\\Python\\Python310\\lib\\site-packages\\snowflake\\connector\\cursor.py:1097\u001b[0m, in \u001b[0;36mSnowflakeCursor.execute\u001b[1;34m(self, command, params, _bind_stage, timeout, _exec_async, _no_retry, _do_reset, _put_callback, _put_azure_callback, _put_callback_output_stream, _get_callback, _get_azure_callback, _get_callback_output_stream, _show_progress_bar, _statement_params, _is_internal, _describe_only, _no_results, _is_put_get, _raise_put_get_error, _force_put_overwrite, _skip_upload_on_content_match, file_stream, num_statements, _dataframe_ast)\u001b[0m\n\u001b[0;32m   1093\u001b[0m     is_integrity_error \u001b[38;5;241m=\u001b[39m (\n\u001b[0;32m   1094\u001b[0m         code \u001b[38;5;241m==\u001b[39m \u001b[38;5;124m\"\u001b[39m\u001b[38;5;124m100072\u001b[39m\u001b[38;5;124m\"\u001b[39m\n\u001b[0;32m   1095\u001b[0m     )  \u001b[38;5;66;03m# NULL result in a non-nullable column\u001b[39;00m\n\u001b[0;32m   1096\u001b[0m     error_class \u001b[38;5;241m=\u001b[39m IntegrityError \u001b[38;5;28;01mif\u001b[39;00m is_integrity_error \u001b[38;5;28;01melse\u001b[39;00m ProgrammingError\n\u001b[1;32m-> 1097\u001b[0m     \u001b[43mError\u001b[49m\u001b[38;5;241;43m.\u001b[39;49m\u001b[43merrorhandler_wrapper\u001b[49m\u001b[43m(\u001b[49m\u001b[38;5;28;43mself\u001b[39;49m\u001b[38;5;241;43m.\u001b[39;49m\u001b[43mconnection\u001b[49m\u001b[43m,\u001b[49m\u001b[43m \u001b[49m\u001b[38;5;28;43mself\u001b[39;49m\u001b[43m,\u001b[49m\u001b[43m \u001b[49m\u001b[43merror_class\u001b[49m\u001b[43m,\u001b[49m\u001b[43m \u001b[49m\u001b[43merrvalue\u001b[49m\u001b[43m)\u001b[49m\n\u001b[0;32m   1098\u001b[0m \u001b[38;5;28;01mreturn\u001b[39;00m \u001b[38;5;28mself\u001b[39m\n",
      "File \u001b[1;32mc:\\Users\\Luan Lima\\AppData\\Local\\Programs\\Python\\Python310\\lib\\site-packages\\snowflake\\connector\\errors.py:284\u001b[0m, in \u001b[0;36mError.errorhandler_wrapper\u001b[1;34m(connection, cursor, error_class, error_value)\u001b[0m\n\u001b[0;32m    261\u001b[0m \u001b[38;5;129m@staticmethod\u001b[39m\n\u001b[0;32m    262\u001b[0m \u001b[38;5;28;01mdef\u001b[39;00m \u001b[38;5;21merrorhandler_wrapper\u001b[39m(\n\u001b[0;32m    263\u001b[0m     connection: SnowflakeConnection \u001b[38;5;241m|\u001b[39m \u001b[38;5;28;01mNone\u001b[39;00m,\n\u001b[1;32m   (...)\u001b[0m\n\u001b[0;32m    266\u001b[0m     error_value: \u001b[38;5;28mdict\u001b[39m[\u001b[38;5;28mstr\u001b[39m, Any],\n\u001b[0;32m    267\u001b[0m ) \u001b[38;5;241m-\u001b[39m\u001b[38;5;241m>\u001b[39m \u001b[38;5;28;01mNone\u001b[39;00m:\n\u001b[0;32m    268\u001b[0m \u001b[38;5;250m    \u001b[39m\u001b[38;5;124;03m\"\"\"Error handler wrapper that calls the errorhandler method.\u001b[39;00m\n\u001b[0;32m    269\u001b[0m \n\u001b[0;32m    270\u001b[0m \u001b[38;5;124;03m    Args:\u001b[39;00m\n\u001b[1;32m   (...)\u001b[0m\n\u001b[0;32m    281\u001b[0m \u001b[38;5;124;03m        exception to the first handler in that order.\u001b[39;00m\n\u001b[0;32m    282\u001b[0m \u001b[38;5;124;03m    \"\"\"\u001b[39;00m\n\u001b[1;32m--> 284\u001b[0m     handed_over \u001b[38;5;241m=\u001b[39m \u001b[43mError\u001b[49m\u001b[38;5;241;43m.\u001b[39;49m\u001b[43mhand_to_other_handler\u001b[49m\u001b[43m(\u001b[49m\n\u001b[0;32m    285\u001b[0m \u001b[43m        \u001b[49m\u001b[43mconnection\u001b[49m\u001b[43m,\u001b[49m\n\u001b[0;32m    286\u001b[0m \u001b[43m        \u001b[49m\u001b[43mcursor\u001b[49m\u001b[43m,\u001b[49m\n\u001b[0;32m    287\u001b[0m \u001b[43m        \u001b[49m\u001b[43merror_class\u001b[49m\u001b[43m,\u001b[49m\n\u001b[0;32m    288\u001b[0m \u001b[43m        \u001b[49m\u001b[43merror_value\u001b[49m\u001b[43m,\u001b[49m\n\u001b[0;32m    289\u001b[0m \u001b[43m    \u001b[49m\u001b[43m)\u001b[49m\n\u001b[0;32m    290\u001b[0m     \u001b[38;5;28;01mif\u001b[39;00m \u001b[38;5;129;01mnot\u001b[39;00m handed_over:\n\u001b[0;32m    291\u001b[0m         \u001b[38;5;28;01mraise\u001b[39;00m Error\u001b[38;5;241m.\u001b[39merrorhandler_make_exception(\n\u001b[0;32m    292\u001b[0m             error_class,\n\u001b[0;32m    293\u001b[0m             error_value,\n\u001b[0;32m    294\u001b[0m         )\n",
      "File \u001b[1;32mc:\\Users\\Luan Lima\\AppData\\Local\\Programs\\Python\\Python310\\lib\\site-packages\\snowflake\\connector\\errors.py:339\u001b[0m, in \u001b[0;36mError.hand_to_other_handler\u001b[1;34m(connection, cursor, error_class, error_value)\u001b[0m\n\u001b[0;32m    337\u001b[0m \u001b[38;5;28;01mif\u001b[39;00m cursor \u001b[38;5;129;01mis\u001b[39;00m \u001b[38;5;129;01mnot\u001b[39;00m \u001b[38;5;28;01mNone\u001b[39;00m:\n\u001b[0;32m    338\u001b[0m     cursor\u001b[38;5;241m.\u001b[39mmessages\u001b[38;5;241m.\u001b[39mappend((error_class, error_value))\n\u001b[1;32m--> 339\u001b[0m     \u001b[43mcursor\u001b[49m\u001b[38;5;241;43m.\u001b[39;49m\u001b[43merrorhandler\u001b[49m\u001b[43m(\u001b[49m\u001b[43mconnection\u001b[49m\u001b[43m,\u001b[49m\u001b[43m \u001b[49m\u001b[43mcursor\u001b[49m\u001b[43m,\u001b[49m\u001b[43m \u001b[49m\u001b[43merror_class\u001b[49m\u001b[43m,\u001b[49m\u001b[43m \u001b[49m\u001b[43merror_value\u001b[49m\u001b[43m)\u001b[49m\n\u001b[0;32m    340\u001b[0m     \u001b[38;5;28;01mreturn\u001b[39;00m \u001b[38;5;28;01mTrue\u001b[39;00m\n\u001b[0;32m    341\u001b[0m \u001b[38;5;28;01melif\u001b[39;00m connection \u001b[38;5;129;01mis\u001b[39;00m \u001b[38;5;129;01mnot\u001b[39;00m \u001b[38;5;28;01mNone\u001b[39;00m:\n",
      "File \u001b[1;32mc:\\Users\\Luan Lima\\AppData\\Local\\Programs\\Python\\Python310\\lib\\site-packages\\snowflake\\connector\\errors.py:215\u001b[0m, in \u001b[0;36mError.default_errorhandler\u001b[1;34m(connection, cursor, error_class, error_value)\u001b[0m\n\u001b[0;32m    213\u001b[0m errno \u001b[38;5;241m=\u001b[39m error_value\u001b[38;5;241m.\u001b[39mget(\u001b[38;5;124m\"\u001b[39m\u001b[38;5;124merrno\u001b[39m\u001b[38;5;124m\"\u001b[39m)\n\u001b[0;32m    214\u001b[0m done_format_msg \u001b[38;5;241m=\u001b[39m error_value\u001b[38;5;241m.\u001b[39mget(\u001b[38;5;124m\"\u001b[39m\u001b[38;5;124mdone_format_msg\u001b[39m\u001b[38;5;124m\"\u001b[39m)\n\u001b[1;32m--> 215\u001b[0m \u001b[38;5;28;01mraise\u001b[39;00m error_class(\n\u001b[0;32m    216\u001b[0m     msg\u001b[38;5;241m=\u001b[39merror_value\u001b[38;5;241m.\u001b[39mget(\u001b[38;5;124m\"\u001b[39m\u001b[38;5;124mmsg\u001b[39m\u001b[38;5;124m\"\u001b[39m),\n\u001b[0;32m    217\u001b[0m     errno\u001b[38;5;241m=\u001b[39m\u001b[38;5;28;01mNone\u001b[39;00m \u001b[38;5;28;01mif\u001b[39;00m errno \u001b[38;5;129;01mis\u001b[39;00m \u001b[38;5;28;01mNone\u001b[39;00m \u001b[38;5;28;01melse\u001b[39;00m \u001b[38;5;28mint\u001b[39m(errno),\n\u001b[0;32m    218\u001b[0m     sqlstate\u001b[38;5;241m=\u001b[39merror_value\u001b[38;5;241m.\u001b[39mget(\u001b[38;5;124m\"\u001b[39m\u001b[38;5;124msqlstate\u001b[39m\u001b[38;5;124m\"\u001b[39m),\n\u001b[0;32m    219\u001b[0m     sfqid\u001b[38;5;241m=\u001b[39merror_value\u001b[38;5;241m.\u001b[39mget(\u001b[38;5;124m\"\u001b[39m\u001b[38;5;124msfqid\u001b[39m\u001b[38;5;124m\"\u001b[39m),\n\u001b[0;32m    220\u001b[0m     query\u001b[38;5;241m=\u001b[39merror_value\u001b[38;5;241m.\u001b[39mget(\u001b[38;5;124m\"\u001b[39m\u001b[38;5;124mquery\u001b[39m\u001b[38;5;124m\"\u001b[39m),\n\u001b[0;32m    221\u001b[0m     done_format_msg\u001b[38;5;241m=\u001b[39m(\n\u001b[0;32m    222\u001b[0m         \u001b[38;5;28;01mNone\u001b[39;00m \u001b[38;5;28;01mif\u001b[39;00m done_format_msg \u001b[38;5;129;01mis\u001b[39;00m \u001b[38;5;28;01mNone\u001b[39;00m \u001b[38;5;28;01melse\u001b[39;00m \u001b[38;5;28mbool\u001b[39m(done_format_msg)\n\u001b[0;32m    223\u001b[0m     ),\n\u001b[0;32m    224\u001b[0m     connection\u001b[38;5;241m=\u001b[39mconnection,\n\u001b[0;32m    225\u001b[0m     cursor\u001b[38;5;241m=\u001b[39mcursor,\n\u001b[0;32m    226\u001b[0m )\n",
      "\u001b[1;31mSnowparkSQLException\u001b[0m: (1304): 01ba1e69-0000-c7b4-0000-7d5d0004001a: 002002 (42710): SQL compilation error:\nObject 'TEST_DEMO_APPEND' already exists."
     ]
    }
   ],
   "source": [
    "# This mode throws an error if the table already exists.\n",
    "# This is the default mode in Snowpark DataFrame.\n",
    "\n",
    "df_Final.write.mode(\"errorifexists\").saveAsTable(\"Test_Demo_Append\")"
   ]
  }
 ],
 "metadata": {
  "kernelspec": {
   "display_name": "Python 3",
   "language": "python",
   "name": "python3"
  },
  "language_info": {
   "codemirror_mode": {
    "name": "ipython",
    "version": 3
   },
   "file_extension": ".py",
   "mimetype": "text/x-python",
   "name": "python",
   "nbconvert_exporter": "python",
   "pygments_lexer": "ipython3",
   "version": "3.10.7"
  }
 },
 "nbformat": 4,
 "nbformat_minor": 2
}
