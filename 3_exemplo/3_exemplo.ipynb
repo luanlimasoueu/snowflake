{
 "cells": [
  {
   "cell_type": "code",
   "execution_count": 4,
   "metadata": {},
   "outputs": [
    {
     "name": "stdout",
     "output_type": "stream",
     "text": [
      "Collecting snowflake-connector-python\n",
      "  Downloading snowflake_connector_python-3.12.3-cp310-cp310-win_amd64.whl (917 kB)\n",
      "     -------------------------------------- 917.5/917.5 kB 1.7 MB/s eta 0:00:00\n",
      "Requirement already satisfied: pytz in c:\\users\\luan lima\\appdata\\local\\programs\\python\\python310\\lib\\site-packages (from snowflake-connector-python) (2023.3)\n",
      "Requirement already satisfied: platformdirs<5.0.0,>=2.6.0 in c:\\users\\luan lima\\appdata\\roaming\\python\\python310\\site-packages (from snowflake-connector-python) (3.9.1)\n",
      "Requirement already satisfied: cffi<2.0.0,>=1.9 in c:\\users\\luan lima\\appdata\\local\\programs\\python\\python310\\lib\\site-packages (from snowflake-connector-python) (1.15.1)\n",
      "Requirement already satisfied: sortedcontainers>=2.4.0 in c:\\users\\luan lima\\appdata\\local\\programs\\python\\python310\\lib\\site-packages (from snowflake-connector-python) (2.4.0)\n",
      "Requirement already satisfied: cryptography>=3.1.0 in c:\\users\\luan lima\\appdata\\local\\programs\\python\\python310\\lib\\site-packages (from snowflake-connector-python) (42.0.5)\n",
      "Collecting asn1crypto<2.0.0,>0.24.0\n",
      "  Downloading asn1crypto-1.5.1-py2.py3-none-any.whl (105 kB)\n",
      "     -------------------------------------- 105.0/105.0 kB 1.5 MB/s eta 0:00:00\n",
      "Requirement already satisfied: packaging in c:\\users\\luan lima\\appdata\\local\\programs\\python\\python310\\lib\\site-packages (from snowflake-connector-python) (23.2)\n",
      "Requirement already satisfied: charset-normalizer<4,>=2 in c:\\users\\luan lima\\appdata\\local\\programs\\python\\python310\\lib\\site-packages (from snowflake-connector-python) (3.2.0)\n",
      "Requirement already satisfied: certifi>=2017.4.17 in c:\\users\\luan lima\\appdata\\local\\programs\\python\\python310\\lib\\site-packages (from snowflake-connector-python) (2023.7.22)\n",
      "Requirement already satisfied: pyOpenSSL<25.0.0,>=16.2.0 in c:\\users\\luan lima\\appdata\\local\\programs\\python\\python310\\lib\\site-packages (from snowflake-connector-python) (24.1.0)\n",
      "Requirement already satisfied: filelock<4,>=3.5 in c:\\users\\luan lima\\appdata\\local\\programs\\python\\python310\\lib\\site-packages (from snowflake-connector-python) (3.13.1)\n",
      "Requirement already satisfied: idna<4,>=2.5 in c:\\users\\luan lima\\appdata\\local\\programs\\python\\python310\\lib\\site-packages (from snowflake-connector-python) (3.4)\n",
      "Collecting tomlkit\n",
      "  Downloading tomlkit-0.13.2-py3-none-any.whl (37 kB)\n",
      "Requirement already satisfied: requests<3.0.0 in c:\\users\\luan lima\\appdata\\local\\programs\\python\\python310\\lib\\site-packages (from snowflake-connector-python) (2.31.0)\n",
      "Collecting pyjwt<3.0.0\n",
      "  Downloading PyJWT-2.10.0-py3-none-any.whl (23 kB)\n",
      "Requirement already satisfied: typing-extensions<5,>=4.3 in c:\\users\\luan lima\\appdata\\local\\programs\\python\\python310\\lib\\site-packages (from snowflake-connector-python) (4.7.1)\n",
      "Requirement already satisfied: pycparser in c:\\users\\luan lima\\appdata\\local\\programs\\python\\python310\\lib\\site-packages (from cffi<2.0.0,>=1.9->snowflake-connector-python) (2.21)\n",
      "Requirement already satisfied: urllib3<3,>=1.21.1 in c:\\users\\luan lima\\appdata\\local\\programs\\python\\python310\\lib\\site-packages (from requests<3.0.0->snowflake-connector-python) (2.0.4)\n",
      "Installing collected packages: asn1crypto, tomlkit, pyjwt, snowflake-connector-python\n",
      "Successfully installed asn1crypto-1.5.1 pyjwt-2.10.0 snowflake-connector-python-3.12.3 tomlkit-0.13.2\n",
      "Note: you may need to restart the kernel to use updated packages.\n"
     ]
    },
    {
     "name": "stderr",
     "output_type": "stream",
     "text": [
      "\n",
      "[notice] A new release of pip available: 22.2.2 -> 24.3.1\n",
      "[notice] To update, run: python.exe -m pip install --upgrade pip\n"
     ]
    }
   ],
   "source": [
    "pip install snowflake-connector-python"
   ]
  },
  {
   "cell_type": "code",
   "execution_count": 26,
   "metadata": {},
   "outputs": [],
   "source": [
    "import snowflake.connector"
   ]
  },
  {
   "cell_type": "code",
   "execution_count": 30,
   "metadata": {},
   "outputs": [],
   "source": [
    "import os\n",
    "from dotenv import load_dotenv\n",
    "\n",
    "load_dotenv() # will search for .env file in local folder and load variables \n",
    "\n",
    "user = os.getenv('user_snow')\n",
    "password = os.getenv('password_snow')\n",
    "account = os.getenv('account_snow')\n",
    "\n",
    "con = snowflake.connector.connect(\n",
    "    user=user ,\n",
    "    password=password,\n",
    "    account=account,\n",
    ")\n"
   ]
  },
  {
   "cell_type": "code",
   "execution_count": 31,
   "metadata": {},
   "outputs": [],
   "source": [
    "cx = con.cursor()"
   ]
  }
 ],
 "metadata": {
  "kernelspec": {
   "display_name": "Python 3",
   "language": "python",
   "name": "python3"
  },
  "language_info": {
   "codemirror_mode": {
    "name": "ipython",
    "version": 3
   },
   "file_extension": ".py",
   "mimetype": "text/x-python",
   "name": "python",
   "nbconvert_exporter": "python",
   "pygments_lexer": "ipython3",
   "version": "3.10.7"
  }
 },
 "nbformat": 4,
 "nbformat_minor": 2
}
