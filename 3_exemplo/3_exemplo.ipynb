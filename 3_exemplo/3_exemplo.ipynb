{
 "cells": [
  {
   "cell_type": "code",
   "execution_count": 4,
   "metadata": {},
   "outputs": [
    {
     "name": "stdout",
     "output_type": "stream",
     "text": [
      "Collecting snowflake-connector-python\n",
      "  Downloading snowflake_connector_python-3.12.3-cp310-cp310-win_amd64.whl (917 kB)\n",
      "     -------------------------------------- 917.5/917.5 kB 1.7 MB/s eta 0:00:00\n",
      "Requirement already satisfied: pytz in c:\\users\\luan lima\\appdata\\local\\programs\\python\\python310\\lib\\site-packages (from snowflake-connector-python) (2023.3)\n",
      "Requirement already satisfied: platformdirs<5.0.0,>=2.6.0 in c:\\users\\luan lima\\appdata\\roaming\\python\\python310\\site-packages (from snowflake-connector-python) (3.9.1)\n",
      "Requirement already satisfied: cffi<2.0.0,>=1.9 in c:\\users\\luan lima\\appdata\\local\\programs\\python\\python310\\lib\\site-packages (from snowflake-connector-python) (1.15.1)\n",
      "Requirement already satisfied: sortedcontainers>=2.4.0 in c:\\users\\luan lima\\appdata\\local\\programs\\python\\python310\\lib\\site-packages (from snowflake-connector-python) (2.4.0)\n",
      "Requirement already satisfied: cryptography>=3.1.0 in c:\\users\\luan lima\\appdata\\local\\programs\\python\\python310\\lib\\site-packages (from snowflake-connector-python) (42.0.5)\n",
      "Collecting asn1crypto<2.0.0,>0.24.0\n",
      "  Downloading asn1crypto-1.5.1-py2.py3-none-any.whl (105 kB)\n",
      "     -------------------------------------- 105.0/105.0 kB 1.5 MB/s eta 0:00:00\n",
      "Requirement already satisfied: packaging in c:\\users\\luan lima\\appdata\\local\\programs\\python\\python310\\lib\\site-packages (from snowflake-connector-python) (23.2)\n",
      "Requirement already satisfied: charset-normalizer<4,>=2 in c:\\users\\luan lima\\appdata\\local\\programs\\python\\python310\\lib\\site-packages (from snowflake-connector-python) (3.2.0)\n",
      "Requirement already satisfied: certifi>=2017.4.17 in c:\\users\\luan lima\\appdata\\local\\programs\\python\\python310\\lib\\site-packages (from snowflake-connector-python) (2023.7.22)\n",
      "Requirement already satisfied: pyOpenSSL<25.0.0,>=16.2.0 in c:\\users\\luan lima\\appdata\\local\\programs\\python\\python310\\lib\\site-packages (from snowflake-connector-python) (24.1.0)\n",
      "Requirement already satisfied: filelock<4,>=3.5 in c:\\users\\luan lima\\appdata\\local\\programs\\python\\python310\\lib\\site-packages (from snowflake-connector-python) (3.13.1)\n",
      "Requirement already satisfied: idna<4,>=2.5 in c:\\users\\luan lima\\appdata\\local\\programs\\python\\python310\\lib\\site-packages (from snowflake-connector-python) (3.4)\n",
      "Collecting tomlkit\n",
      "  Downloading tomlkit-0.13.2-py3-none-any.whl (37 kB)\n",
      "Requirement already satisfied: requests<3.0.0 in c:\\users\\luan lima\\appdata\\local\\programs\\python\\python310\\lib\\site-packages (from snowflake-connector-python) (2.31.0)\n",
      "Collecting pyjwt<3.0.0\n",
      "  Downloading PyJWT-2.10.0-py3-none-any.whl (23 kB)\n",
      "Requirement already satisfied: typing-extensions<5,>=4.3 in c:\\users\\luan lima\\appdata\\local\\programs\\python\\python310\\lib\\site-packages (from snowflake-connector-python) (4.7.1)\n",
      "Requirement already satisfied: pycparser in c:\\users\\luan lima\\appdata\\local\\programs\\python\\python310\\lib\\site-packages (from cffi<2.0.0,>=1.9->snowflake-connector-python) (2.21)\n",
      "Requirement already satisfied: urllib3<3,>=1.21.1 in c:\\users\\luan lima\\appdata\\local\\programs\\python\\python310\\lib\\site-packages (from requests<3.0.0->snowflake-connector-python) (2.0.4)\n",
      "Installing collected packages: asn1crypto, tomlkit, pyjwt, snowflake-connector-python\n",
      "Successfully installed asn1crypto-1.5.1 pyjwt-2.10.0 snowflake-connector-python-3.12.3 tomlkit-0.13.2\n",
      "Note: you may need to restart the kernel to use updated packages.\n"
     ]
    },
    {
     "name": "stderr",
     "output_type": "stream",
     "text": [
      "\n",
      "[notice] A new release of pip available: 22.2.2 -> 24.3.1\n",
      "[notice] To update, run: python.exe -m pip install --upgrade pip\n"
     ]
    }
   ],
   "source": [
    "pip install snowflake-connector-python"
   ]
  },
  {
   "cell_type": "code",
   "execution_count": 37,
   "metadata": {},
   "outputs": [
    {
     "name": "stdout",
     "output_type": "stream",
     "text": [
      "Collecting snowflake-sqlalchemy\n",
      "  Downloading snowflake_sqlalchemy-1.6.1-py3-none-any.whl (43 kB)\n",
      "     ---------------------------------------- 43.7/43.7 kB 1.1 MB/s eta 0:00:00\n",
      "Requirement already satisfied: sqlalchemy>=1.4.19 in c:\\users\\luan lima\\appdata\\local\\programs\\python\\python310\\lib\\site-packages (from snowflake-sqlalchemy) (2.0.25)\n",
      "Requirement already satisfied: snowflake-connector-python<4.0.0 in c:\\users\\luan lima\\appdata\\local\\programs\\python\\python310\\lib\\site-packages (from snowflake-sqlalchemy) (3.12.3)\n",
      "Requirement already satisfied: requests<3.0.0 in c:\\users\\luan lima\\appdata\\local\\programs\\python\\python310\\lib\\site-packages (from snowflake-connector-python<4.0.0->snowflake-sqlalchemy) (2.31.0)\n",
      "Requirement already satisfied: sortedcontainers>=2.4.0 in c:\\users\\luan lima\\appdata\\local\\programs\\python\\python310\\lib\\site-packages (from snowflake-connector-python<4.0.0->snowflake-sqlalchemy) (2.4.0)\n",
      "Requirement already satisfied: platformdirs<5.0.0,>=2.6.0 in c:\\users\\luan lima\\appdata\\roaming\\python\\python310\\site-packages (from snowflake-connector-python<4.0.0->snowflake-sqlalchemy) (3.9.1)\n",
      "Requirement already satisfied: pyjwt<3.0.0 in c:\\users\\luan lima\\appdata\\local\\programs\\python\\python310\\lib\\site-packages (from snowflake-connector-python<4.0.0->snowflake-sqlalchemy) (2.10.0)\n",
      "Requirement already satisfied: asn1crypto<2.0.0,>0.24.0 in c:\\users\\luan lima\\appdata\\local\\programs\\python\\python310\\lib\\site-packages (from snowflake-connector-python<4.0.0->snowflake-sqlalchemy) (1.5.1)\n",
      "Requirement already satisfied: idna<4,>=2.5 in c:\\users\\luan lima\\appdata\\local\\programs\\python\\python310\\lib\\site-packages (from snowflake-connector-python<4.0.0->snowflake-sqlalchemy) (3.4)\n",
      "Requirement already satisfied: pytz in c:\\users\\luan lima\\appdata\\local\\programs\\python\\python310\\lib\\site-packages (from snowflake-connector-python<4.0.0->snowflake-sqlalchemy) (2023.3)\n",
      "Requirement already satisfied: pyOpenSSL<25.0.0,>=16.2.0 in c:\\users\\luan lima\\appdata\\local\\programs\\python\\python310\\lib\\site-packages (from snowflake-connector-python<4.0.0->snowflake-sqlalchemy) (24.1.0)\n",
      "Requirement already satisfied: typing-extensions<5,>=4.3 in c:\\users\\luan lima\\appdata\\local\\programs\\python\\python310\\lib\\site-packages (from snowflake-connector-python<4.0.0->snowflake-sqlalchemy) (4.7.1)\n",
      "Requirement already satisfied: charset-normalizer<4,>=2 in c:\\users\\luan lima\\appdata\\local\\programs\\python\\python310\\lib\\site-packages (from snowflake-connector-python<4.0.0->snowflake-sqlalchemy) (3.2.0)\n",
      "Requirement already satisfied: certifi>=2017.4.17 in c:\\users\\luan lima\\appdata\\local\\programs\\python\\python310\\lib\\site-packages (from snowflake-connector-python<4.0.0->snowflake-sqlalchemy) (2023.7.22)\n",
      "Requirement already satisfied: filelock<4,>=3.5 in c:\\users\\luan lima\\appdata\\local\\programs\\python\\python310\\lib\\site-packages (from snowflake-connector-python<4.0.0->snowflake-sqlalchemy) (3.13.1)\n",
      "Requirement already satisfied: tomlkit in c:\\users\\luan lima\\appdata\\local\\programs\\python\\python310\\lib\\site-packages (from snowflake-connector-python<4.0.0->snowflake-sqlalchemy) (0.13.2)\n",
      "Requirement already satisfied: cffi<2.0.0,>=1.9 in c:\\users\\luan lima\\appdata\\local\\programs\\python\\python310\\lib\\site-packages (from snowflake-connector-python<4.0.0->snowflake-sqlalchemy) (1.15.1)\n",
      "Requirement already satisfied: packaging in c:\\users\\luan lima\\appdata\\local\\programs\\python\\python310\\lib\\site-packages (from snowflake-connector-python<4.0.0->snowflake-sqlalchemy) (23.2)\n",
      "Requirement already satisfied: cryptography>=3.1.0 in c:\\users\\luan lima\\appdata\\local\\programs\\python\\python310\\lib\\site-packages (from snowflake-connector-python<4.0.0->snowflake-sqlalchemy) (42.0.5)\n",
      "Requirement already satisfied: greenlet!=0.4.17 in c:\\users\\luan lima\\appdata\\local\\programs\\python\\python310\\lib\\site-packages (from sqlalchemy>=1.4.19->snowflake-sqlalchemy) (3.0.3)\n",
      "Requirement already satisfied: pycparser in c:\\users\\luan lima\\appdata\\local\\programs\\python\\python310\\lib\\site-packages (from cffi<2.0.0,>=1.9->snowflake-connector-python<4.0.0->snowflake-sqlalchemy) (2.21)\n",
      "Requirement already satisfied: urllib3<3,>=1.21.1 in c:\\users\\luan lima\\appdata\\local\\programs\\python\\python310\\lib\\site-packages (from requests<3.0.0->snowflake-connector-python<4.0.0->snowflake-sqlalchemy) (2.0.4)\n",
      "Installing collected packages: snowflake-sqlalchemy\n",
      "Successfully installed snowflake-sqlalchemy-1.6.1\n",
      "Note: you may need to restart the kernel to use updated packages.\n"
     ]
    },
    {
     "name": "stderr",
     "output_type": "stream",
     "text": [
      "\n",
      "[notice] A new release of pip available: 22.2.2 -> 24.3.1\n",
      "[notice] To update, run: python.exe -m pip install --upgrade pip\n"
     ]
    }
   ],
   "source": [
    "pip install snowflake-sqlalchemy"
   ]
  },
  {
   "cell_type": "code",
   "execution_count": 32,
   "metadata": {},
   "outputs": [],
   "source": [
    "import snowflake.connector"
   ]
  },
  {
   "cell_type": "code",
   "execution_count": 33,
   "metadata": {},
   "outputs": [],
   "source": [
    "import os\n",
    "from dotenv import load_dotenv\n",
    "\n",
    "load_dotenv() # will search for .env file in local folder and load variables \n",
    "\n",
    "user = os.getenv('user_snow')\n",
    "password = os.getenv('password_snow')\n",
    "account = os.getenv('account_snow')\n",
    "\n",
    "con = snowflake.connector.connect(\n",
    "    user=user ,\n",
    "    password=password,\n",
    "    account=account,\n",
    ")\n"
   ]
  },
  {
   "cell_type": "code",
   "execution_count": 53,
   "metadata": {},
   "outputs": [
    {
     "name": "stdout",
     "output_type": "stream",
     "text": [
      "absl-py==2.1.0\n",
      "accelerate==0.26.1\n",
      "access==1.1.9\n",
      "affine==2.4.0\n",
      "aiohttp==3.9.1\n",
      "aiosignal==1.3.1\n",
      "altair==5.1.1\n",
      "annotated-types==0.6.0\n",
      "anyio==4.0.0\n",
      "appdirs==1.4.4\n",
      "argon2-cffi==23.1.0\n",
      "argon2-cffi-bindings==21.2.0\n",
      "arrow==1.2.3\n",
      "asgiref==3.8.1\n",
      "asn1crypto==1.5.1\n",
      "astor==0.8.1\n",
      "asttokens==2.2.1\n",
      "astunparse==1.6.3\n",
      "async-lru==2.0.4\n",
      "async-timeout==4.0.3\n",
      "attrs==23.1.0\n",
      "audioread==3.0.1\n",
      "Automat==22.10.0\n",
      "Babel==2.12.1\n",
      "backcall==0.2.0\n",
      "backoff==2.2.1\n",
      "bardapi==0.1.39\n",
      "basemap==1.3.8\n",
      "basemap-data==1.3.2\n",
      "bcrypt==4.1.3\n",
      "beautifulsoup4==4.12.2\n",
      "bitsandbytes==0.42.0\n",
      "bleach==6.0.0\n",
      "bokeh==3.2.2\n",
      "boto3==1.34.23\n",
      "botocore==1.34.23\n",
      "bottle==0.13.2\n",
      "branca==0.6.0\n",
      "brazilcep==6.0.0\n",
      "build==1.2.1\n",
      "cachetools==5.3.2\n",
      "category-encoders==2.6.2\n",
      "certifi==2023.7.22\n",
      "cffi==1.15.1\n",
      "chardet==5.2.0\n",
      "charset-normalizer==3.2.0\n",
      "chroma-hnswlib==0.7.3\n",
      "chromadb==0.5.3\n",
      "click==8.1.7\n",
      "click-plugins==1.1.1\n",
      "cligj==0.7.2\n",
      "colorama==0.4.6\n",
      "coloredlogs==15.0.1\n",
      "comm==0.1.3\n",
      "constantly==23.10.4\n",
      "Consulta-Correios==1.0.1\n",
      "contourpy==1.1.0\n",
      "cryptography==42.0.5\n",
      "cssselect==1.2.0\n",
      "cycler==0.11.0\n",
      "dataclasses-json==0.6.7\n",
      "datasets==2.16.1\n",
      "debugpy==1.6.7\n",
      "decorator==5.1.1\n",
      "deepdiff==7.0.1\n",
      "defusedxml==0.7.1\n",
      "Deprecated==1.2.14\n",
      "deprecation==2.1.0\n",
      "dill==0.3.7\n",
      "distro==1.9.0\n",
      "dmba==0.2.4\n",
      "dnspython==2.6.1\n",
      "docstring-parser==0.15\n",
      "duckdb==0.9.2\n",
      "email_validator==2.2.0\n",
      "emoji==2.12.1\n",
      "esda==2.5.1\n",
      "et-xmlfile==1.1.0\n",
      "exceptiongroup==1.1.3\n",
      "executing==1.2.0\n",
      "faiss-cpu==1.7.4\n",
      "Faker==19.13.0\n",
      "fastapi==0.111.0\n",
      "fastapi-cli==0.0.4\n",
      "fastjsonschema==2.18.0\n",
      "filelock==3.13.1\n",
      "filetype==1.2.0\n",
      "findspark==2.0.1\n",
      "fiona==1.9.5\n",
      "flatbuffers==24.3.7\n",
      "folium==0.14.0\n",
      "fonttools==4.42.1\n",
      "fqdn==1.5.1\n",
      "frozendict==2.4.0\n",
      "frozenlist==1.4.1\n",
      "fsspec==2023.10.0\n",
      "future==0.18.3\n",
      "gast==0.5.4\n",
      "geographiclib==2.0\n",
      "geopandas==0.14.1\n",
      "geopy==2.4.0\n",
      "giddy==2.3.4\n",
      "google-ai-generativelanguage==0.4.0\n",
      "google-api-core==2.15.0\n",
      "google-auth==2.27.0\n",
      "google-cloud-aiplatform==1.40.0\n",
      "google-cloud-bigquery==3.17.1\n",
      "google-cloud-core==2.4.1\n",
      "google-cloud-resource-manager==1.11.0\n",
      "google-cloud-storage==2.14.0\n",
      "google-crc32c==1.5.0\n",
      "google-generativeai==0.3.2\n",
      "google-pasta==0.2.0\n",
      "google-resumable-media==2.7.0\n",
      "googleapis-common-protos==1.62.0\n",
      "googlemaps==4.10.0\n",
      "graphviz==0.20.1\n",
      "greenlet==3.0.3\n",
      "grpc-google-iam-v1==0.13.0\n",
      "grpcio==1.60.0\n",
      "grpcio-status==1.60.0\n",
      "h11==0.14.0\n",
      "h2==4.1.0\n",
      "h5py==3.10.0\n",
      "handcalcs==1.6.5\n",
      "hpack==4.0.0\n",
      "html5lib==1.1\n",
      "httpcore==1.0.2\n",
      "httptools==0.6.1\n",
      "httpx==0.27.0\n",
      "huggingface-hub==0.26.2\n",
      "humanfriendly==10.0\n",
      "hyperframe==6.0.1\n",
      "hyperlink==21.0.0\n",
      "idna==3.4\n",
      "imageio==2.31.3\n",
      "importlib_metadata==7.1.0\n",
      "importlib_resources==6.4.0\n",
      "incremental==22.10.0\n",
      "inequality==1.0.1\n",
      "innerscope==0.7.0\n",
      "inquirerpy==0.3.4\n",
      "InstructorEmbedding==1.0.1\n",
      "ipykernel==6.24.0\n",
      "ipython==8.14.0\n",
      "ipywidgets==8.1.3\n",
      "iso8601==2.1.0\n",
      "isodate==0.6.1\n",
      "isoduration==20.11.0\n",
      "itemadapter==0.8.0\n",
      "itemloaders==1.1.0\n",
      "jedi==0.18.2\n",
      "Jinja2==3.1.2\n",
      "jmespath==1.0.1\n",
      "joblib==1.3.2\n",
      "json5==0.9.14\n",
      "jsonpatch==1.33\n",
      "jsonpath-python==1.0.6\n",
      "jsonpointer==2.4\n",
      "jsonschema==4.19.0\n",
      "jsonschema-specifications==2023.7.1\n",
      "jupyter-events==0.7.0\n",
      "jupyter-lsp==2.2.0\n",
      "jupyter_client==8.3.0\n",
      "jupyter_core==5.3.1\n",
      "jupyter_server==2.7.3\n",
      "jupyter_server_terminals==0.4.4\n",
      "jupyterlab==4.0.5\n",
      "jupyterlab-pygments==0.2.2\n",
      "jupyterlab_server==2.24.0\n",
      "jupyterlab_widgets==3.0.11\n",
      "jupyterthemes==0.20.0\n",
      "kagglehub==0.3.4\n",
      "keras==3.1.1\n",
      "kiwisolver==1.4.5\n",
      "kubernetes==30.1.0\n",
      "langchain==0.1.1\n",
      "langchain-chroma==0.1.1\n",
      "langchain-community==0.0.13\n",
      "langchain-core==0.2.10\n",
      "langchain-experimental==0.0.49\n",
      "langchain-google-vertexai==0.0.3\n",
      "langchain-openai==0.0.3\n",
      "langchain-text-splitters==0.2.2\n",
      "langchainhub==0.1.20\n",
      "langdetect==1.0.9\n",
      "langsmith==0.1.81\n",
      "latexify-py==0.4.2\n",
      "lazy_loader==0.4\n",
      "lesscpy==0.15.1\n",
      "libclang==18.1.1\n",
      "libpysal==4.9.2\n",
      "librosa==0.10.2.post1\n",
      "llama-index==0.9.34\n",
      "llvmlite==0.41.0\n",
      "lxml==4.9.3\n",
      "mapclassify==2.6.1\n",
      "Markdown==3.6\n",
      "markdown-it-py==3.0.0\n",
      "MarkupSafe==2.1.3\n",
      "marshmallow==3.20.2\n",
      "matplotlib==3.7.2\n",
      "matplotlib-inline==0.1.6\n",
      "mdurl==0.1.2\n",
      "mglearn==0.2.0\n",
      "mgwr==2.1.2\n",
      "mistune==3.0.1\n",
      "mizani==0.9.3\n",
      "ml-dtypes==0.3.2\n",
      "mlxtend==0.22.0\n",
      "mmh3==4.1.0\n",
      "momepy==0.7.0\n",
      "monotonic==1.6\n",
      "more-itertools==10.2.0\n",
      "mpmath==1.3.0\n",
      "msgpack==1.0.8\n",
      "multidict==6.0.4\n",
      "multiprocess==0.70.15\n",
      "multitasking==0.0.11\n",
      "mypy-extensions==1.0.0\n",
      "mysql-connector-python==8.2.0\n",
      "namex==0.0.7\n",
      "nbclient==0.8.0\n",
      "nbconvert==7.8.0\n",
      "nbformat==5.9.2\n",
      "nest-asyncio==1.6.0\n",
      "networkx==3.1\n",
      "nltk==3.8.1\n",
      "nnfs==0.5.1\n",
      "notebook==7.0.3\n",
      "notebook_shim==0.2.3\n",
      "numba==0.58.0\n",
      "numexpr==2.9.0\n",
      "numpy==1.25.1\n",
      "oauthlib==3.2.2\n",
      "onnxruntime==1.18.0\n",
      "openai==1.9.0\n",
      "opencv-python==4.9.0.80\n",
      "openpyxl==3.1.2\n",
      "opentelemetry-api==1.25.0\n",
      "opentelemetry-exporter-otlp-proto-common==1.25.0\n",
      "opentelemetry-exporter-otlp-proto-grpc==1.25.0\n",
      "opentelemetry-instrumentation==0.46b0\n",
      "opentelemetry-instrumentation-asgi==0.46b0\n",
      "opentelemetry-instrumentation-fastapi==0.46b0\n",
      "opentelemetry-proto==1.25.0\n",
      "opentelemetry-sdk==1.25.0\n",
      "opentelemetry-semantic-conventions==0.46b0\n",
      "opentelemetry-util-http==0.46b0\n",
      "opt-einsum==3.3.0\n",
      "optree==0.11.0\n",
      "ordered-set==4.1.0\n",
      "orjson==3.10.5\n",
      "outcome==1.3.0.post0\n",
      "overrides==7.4.0\n",
      "packaging==23.2\n",
      "pandas==1.5.3\n",
      "pandas-datareader==0.10.0\n",
      "pandasai==1.5.17\n",
      "pandasql==0.7.3\n",
      "pandocfilters==1.5.0\n",
      "parsel==1.8.1\n",
      "parso==0.8.3\n",
      "patsy==0.5.3\n",
      "pdf2image==1.17.0\n",
      "peewee==3.17.1\n",
      "peft==0.8.1\n",
      "pfzy==0.3.4\n",
      "pickleshare==0.7.5\n",
      "pillow==10.2.0\n",
      "platformdirs==3.9.1\n",
      "plotly==5.16.1\n",
      "plotnine==0.12.3\n",
      "ply==3.11\n",
      "pointpats==2.4.0\n",
      "polars==0.20.3\n",
      "pooch==1.8.1\n",
      "posthog==3.5.0\n",
      "prometheus-client==0.17.1\n",
      "prompt-toolkit==3.0.39\n",
      "Protego==0.3.0\n",
      "proto-plus==1.23.0\n",
      "protobuf==4.21.12\n",
      "psutil==5.9.5\n",
      "psycopg2==2.9.9\n",
      "PuLP==2.7.0\n",
      "pure-eval==0.2.2\n",
      "py4j==0.10.9.7\n",
      "pyarrow==14.0.2\n",
      "pyarrow-hotfix==0.6\n",
      "pyasn1==0.5.1\n",
      "pyasn1-modules==0.3.0\n",
      "pycep-correios==4.0.3\n",
      "pycparser==2.21\n",
      "pydantic==1.10.14\n",
      "pydantic_core==2.14.6\n",
      "pydataset==0.2.0\n",
      "PyDispatcher==2.0.7\n",
      "pydotplus==2.0.2\n",
      "Pygments==2.15.1\n",
      "PyJWT==2.10.0\n",
      "pymongo==4.6.2\n",
      "pyod==1.1.0\n",
      "pyodbc==5.0.1\n",
      "pyOpenSSL==24.1.0\n",
      "pyparsing==3.0.9\n",
      "pypdf==4.2.0\n",
      "PyPDF2==3.0.1\n",
      "PyPika==0.48.9\n",
      "pypolars==0.0.1\n",
      "pyproj==3.6.0\n",
      "pyproject_hooks==1.1.0\n",
      "pyquery==2.0.1\n",
      "pyreadline3==3.4.1\n",
      "pysal==23.7\n",
      "pyshp==2.3.1\n",
      "PySocks==1.7.1\n",
      "pyspark==3.5.0\n",
      "python-dateutil==2.8.2\n",
      "python-dotenv==1.0.1\n",
      "python-iso639==2024.4.27\n",
      "python-json-logger==2.0.7\n",
      "python-magic==0.4.27\n",
      "python-memcached==1.62\n",
      "python-multipart==0.0.9\n",
      "pytz==2023.3\n",
      "pywin32==306\n",
      "pywinpty==2.0.11\n",
      "PyYAML==6.0.1\n",
      "pyzmq==25.1.0\n",
      "quantecon==0.7.1\n",
      "queuelib==1.6.2\n",
      "rapidfuzz==3.9.3\n",
      "rasterio==1.3.9\n",
      "rasterstats==0.19.0\n",
      "redis==5.1.1\n",
      "referencing==0.30.2\n",
      "regex==2023.12.25\n",
      "requests==2.31.0\n",
      "requests-file==1.5.1\n",
      "requests-oauthlib==2.0.0\n",
      "requests-toolbelt==1.0.0\n",
      "rfc3339-validator==0.1.4\n",
      "rfc3986-validator==0.1.1\n",
      "rich==13.7.0\n",
      "rpds-py==0.10.2\n",
      "rsa==4.9\n",
      "Rtree==1.1.0\n",
      "s3transfer==0.10.0\n",
      "safetensors==0.4.2\n",
      "scikit-learn==1.3.1\n",
      "scipy==1.11.2\n",
      "Scrapy==2.11.1\n",
      "seaborn==0.12.2\n",
      "segregation==2.5\n",
      "selenium==4.15.2\n",
      "Send2Trash==1.8.2\n",
      "sentence-transformers==2.3.1\n",
      "sentencepiece==0.1.99\n",
      "service-identity==24.1.0\n",
      "shapely==2.0.2\n",
      "shellingham==1.5.4\n",
      "shtab==1.6.5\n",
      "simplejson==3.19.2\n",
      "six==1.16.0\n",
      "sniffio==1.3.0\n",
      "snowflake-connector-python==3.12.3\n",
      "snowflake-sqlalchemy==1.6.1\n",
      "snuggs==1.4.7\n",
      "sortedcontainers==2.4.0\n",
      "soundfile==0.12.1\n",
      "soupsieve==2.5\n",
      "soxr==0.3.7\n",
      "spaghetti==1.7.4\n",
      "spglm==1.1.0\n",
      "spint==1.0.7\n",
      "splot==1.1.5.post1\n",
      "spopt==0.5.0\n",
      "spreg==1.4.2\n",
      "spvcm==0.3.0\n",
      "SQLAlchemy==2.0.25\n",
      "stack-data==0.6.2\n",
      "starlette==0.37.2\n",
      "statsmodels==0.14.0\n",
      "svm==0.1.0\n",
      "sympy==1.12\n",
      "tabula-py==2.9.0\n",
      "tabulate==0.9.0\n",
      "tenacity==8.2.3\n",
      "tensorboard==2.16.2\n",
      "tensorboard-data-server==0.7.2\n",
      "tensorflow==2.16.1\n",
      "tensorflow-intel==2.16.1\n",
      "tensorflow-io-gcs-filesystem==0.31.0\n",
      "termcolor==2.4.0\n",
      "terminado==0.17.1\n",
      "threadpoolctl==3.2.0\n",
      "tiktoken==0.5.2\n",
      "tinycss2==1.2.1\n",
      "tldextract==5.1.1\n",
      "tobler==0.11.2\n",
      "tokenizers==0.15.1\n",
      "tomli==2.0.1\n",
      "tomlkit==0.13.2\n",
      "toolz==0.12.0\n",
      "torch==2.1.2\n",
      "tornado==6.3.2\n",
      "tqdm==4.66.1\n",
      "traitlets==5.9.0\n",
      "transformers==4.37.2\n",
      "trio==0.23.1\n",
      "trio-websocket==0.11.1\n",
      "trl==0.7.10\n",
      "Twisted==24.3.0\n",
      "twisted-iocpsupport==1.0.4\n",
      "typer==0.12.3\n",
      "types-protobuf==4.24.0.20240129\n",
      "types-requests==2.31.0.20240125\n",
      "typing-inspect==0.9.0\n",
      "typing_extensions==4.7.1\n",
      "tyro==0.7.0\n",
      "tzdata==2023.3\n",
      "ucimlrepo==0.0.2\n",
      "ujson==5.10.0\n",
      "Unidecode==1.3.6\n",
      "unstructured==0.14.9\n",
      "unstructured-client==0.23.7\n",
      "uri-template==1.3.0\n",
      "urllib3==2.0.4\n",
      "uvicorn==0.30.1\n",
      "vega-datasets==0.9.0\n",
      "viacep==1.3.1\n",
      "w3lib==2.1.2\n",
      "watchfiles==0.22.0\n",
      "wcwidth==0.2.6\n",
      "webcolors==1.13\n",
      "webencodings==0.5.1\n",
      "websocket-client==1.6.2\n",
      "websockets==12.0\n",
      "Werkzeug==3.0.1\n",
      "widgetsnbextension==4.0.11\n",
      "wikipedia==1.4.0\n",
      "wquantiles==0.6\n",
      "wrapt==1.15.0\n",
      "wsproto==1.2.0\n",
      "xgboost==1.7.6\n",
      "xmltodict==0.13.0\n",
      "xxhash==3.4.1\n",
      "xyzservices==2023.7.0\n",
      "yarl==1.9.4\n",
      "yfinance==0.2.37\n",
      "zeep==4.2.1\n",
      "zipp==3.19.2\n",
      "zope.interface==6.2\n",
      "Note: you may need to restart the kernel to use updated packages.\n"
     ]
    }
   ],
   "source": [
    "pip freeze"
   ]
  },
  {
   "cell_type": "code",
   "execution_count": 57,
   "metadata": {},
   "outputs": [
    {
     "name": "stdout",
     "output_type": "stream",
     "text": [
      "Note: you may need to restart the kernel to use updated packages.\n"
     ]
    },
    {
     "name": "stderr",
     "output_type": "stream",
     "text": [
      "O sistema n�o pode encontrar o arquivo especificado.\n"
     ]
    }
   ],
   "source": [
    "pip install --force-reinstall 'sqlalchemy<2.0.0'"
   ]
  },
  {
   "cell_type": "code",
   "execution_count": null,
   "metadata": {},
   "outputs": [],
   "source": [
    "from snowflake.sqlalchemy import URL\n",
    "from sqlalchemy import create_engine,text\n",
    "import pandas as pd\n",
    "\n",
    "my_conn = create_engine(URL(\n",
    "    account = account,\n",
    "    user = user ,\n",
    "    password = password\n",
    ")).connect()\n"
   ]
  },
  {
   "cell_type": "code",
   "execution_count": 44,
   "metadata": {},
   "outputs": [],
   "source": [
    "try:\n",
    "    con.close()\n",
    "except Exception as e:\n",
    "    print(e)"
   ]
  },
  {
   "cell_type": "code",
   "execution_count": 60,
   "metadata": {},
   "outputs": [
    {
     "name": "stdout",
     "output_type": "stream",
     "text": [
      "Collecting snowflake-snowpark-python\n",
      "  Downloading snowflake_snowpark_python-1.25.0-py3-none-any.whl (1.4 MB)\n",
      "     ---------------------------------------- 1.4/1.4 MB 1.9 MB/s eta 0:00:00\n",
      "Requirement already satisfied: setuptools>=40.6.0 in c:\\users\\luan lima\\appdata\\local\\programs\\python\\python310\\lib\\site-packages (from snowflake-snowpark-python) (63.2.0)\n",
      "Requirement already satisfied: wheel in c:\\users\\luan lima\\appdata\\local\\programs\\python\\python310\\lib\\site-packages (from snowflake-snowpark-python) (0.43.0)\n",
      "Collecting cloudpickle!=2.1.0,!=2.2.0,<=2.2.1,>=1.6.0\n",
      "  Downloading cloudpickle-2.2.1-py3-none-any.whl (25 kB)\n",
      "Requirement already satisfied: pyyaml in c:\\users\\luan lima\\appdata\\local\\programs\\python\\python310\\lib\\site-packages (from snowflake-snowpark-python) (6.0.1)\n",
      "Requirement already satisfied: snowflake-connector-python<4.0.0,>=3.12.0 in c:\\users\\luan lima\\appdata\\local\\programs\\python\\python310\\lib\\site-packages (from snowflake-snowpark-python) (3.12.3)\n",
      "Collecting tzlocal\n",
      "  Using cached tzlocal-5.2-py3-none-any.whl (17 kB)\n",
      "Requirement already satisfied: typing-extensions<5.0.0,>=4.1.0 in c:\\users\\luan lima\\appdata\\local\\programs\\python\\python310\\lib\\site-packages (from snowflake-snowpark-python) (4.7.1)\n",
      "Requirement already satisfied: protobuf<6,>=3.20 in c:\\users\\luan lima\\appdata\\local\\programs\\python\\python310\\lib\\site-packages (from snowflake-snowpark-python) (4.21.12)\n",
      "Requirement already satisfied: cffi<2.0.0,>=1.9 in c:\\users\\luan lima\\appdata\\local\\programs\\python\\python310\\lib\\site-packages (from snowflake-connector-python<4.0.0,>=3.12.0->snowflake-snowpark-python) (1.15.1)\n",
      "Requirement already satisfied: pyjwt<3.0.0 in c:\\users\\luan lima\\appdata\\local\\programs\\python\\python310\\lib\\site-packages (from snowflake-connector-python<4.0.0,>=3.12.0->snowflake-snowpark-python) (2.10.0)\n",
      "Requirement already satisfied: asn1crypto<2.0.0,>0.24.0 in c:\\users\\luan lima\\appdata\\local\\programs\\python\\python310\\lib\\site-packages (from snowflake-connector-python<4.0.0,>=3.12.0->snowflake-snowpark-python) (1.5.1)\n",
      "Requirement already satisfied: tomlkit in c:\\users\\luan lima\\appdata\\local\\programs\\python\\python310\\lib\\site-packages (from snowflake-connector-python<4.0.0,>=3.12.0->snowflake-snowpark-python) (0.13.2)\n",
      "Requirement already satisfied: certifi>=2017.4.17 in c:\\users\\luan lima\\appdata\\local\\programs\\python\\python310\\lib\\site-packages (from snowflake-connector-python<4.0.0,>=3.12.0->snowflake-snowpark-python) (2023.7.22)\n",
      "Requirement already satisfied: packaging in c:\\users\\luan lima\\appdata\\local\\programs\\python\\python310\\lib\\site-packages (from snowflake-connector-python<4.0.0,>=3.12.0->snowflake-snowpark-python) (23.2)\n",
      "Requirement already satisfied: idna<4,>=2.5 in c:\\users\\luan lima\\appdata\\local\\programs\\python\\python310\\lib\\site-packages (from snowflake-connector-python<4.0.0,>=3.12.0->snowflake-snowpark-python) (3.4)\n",
      "Requirement already satisfied: cryptography>=3.1.0 in c:\\users\\luan lima\\appdata\\local\\programs\\python\\python310\\lib\\site-packages (from snowflake-connector-python<4.0.0,>=3.12.0->snowflake-snowpark-python) (42.0.5)\n",
      "Requirement already satisfied: charset-normalizer<4,>=2 in c:\\users\\luan lima\\appdata\\local\\programs\\python\\python310\\lib\\site-packages (from snowflake-connector-python<4.0.0,>=3.12.0->snowflake-snowpark-python) (3.2.0)\n",
      "Requirement already satisfied: filelock<4,>=3.5 in c:\\users\\luan lima\\appdata\\local\\programs\\python\\python310\\lib\\site-packages (from snowflake-connector-python<4.0.0,>=3.12.0->snowflake-snowpark-python) (3.13.1)\n",
      "Requirement already satisfied: platformdirs<5.0.0,>=2.6.0 in c:\\users\\luan lima\\appdata\\roaming\\python\\python310\\site-packages (from snowflake-connector-python<4.0.0,>=3.12.0->snowflake-snowpark-python) (3.9.1)\n",
      "Requirement already satisfied: requests<3.0.0 in c:\\users\\luan lima\\appdata\\local\\programs\\python\\python310\\lib\\site-packages (from snowflake-connector-python<4.0.0,>=3.12.0->snowflake-snowpark-python) (2.31.0)\n",
      "Requirement already satisfied: sortedcontainers>=2.4.0 in c:\\users\\luan lima\\appdata\\local\\programs\\python\\python310\\lib\\site-packages (from snowflake-connector-python<4.0.0,>=3.12.0->snowflake-snowpark-python) (2.4.0)\n",
      "Requirement already satisfied: pytz in c:\\users\\luan lima\\appdata\\local\\programs\\python\\python310\\lib\\site-packages (from snowflake-connector-python<4.0.0,>=3.12.0->snowflake-snowpark-python) (2023.3)\n",
      "Requirement already satisfied: pyOpenSSL<25.0.0,>=16.2.0 in c:\\users\\luan lima\\appdata\\local\\programs\\python\\python310\\lib\\site-packages (from snowflake-connector-python<4.0.0,>=3.12.0->snowflake-snowpark-python) (24.1.0)\n",
      "Requirement already satisfied: tzdata in c:\\users\\luan lima\\appdata\\local\\programs\\python\\python310\\lib\\site-packages (from tzlocal->snowflake-snowpark-python) (2023.3)\n",
      "Requirement already satisfied: pycparser in c:\\users\\luan lima\\appdata\\local\\programs\\python\\python310\\lib\\site-packages (from cffi<2.0.0,>=1.9->snowflake-connector-python<4.0.0,>=3.12.0->snowflake-snowpark-python) (2.21)\n",
      "Requirement already satisfied: urllib3<3,>=1.21.1 in c:\\users\\luan lima\\appdata\\local\\programs\\python\\python310\\lib\\site-packages (from requests<3.0.0->snowflake-connector-python<4.0.0,>=3.12.0->snowflake-snowpark-python) (2.0.4)\n",
      "Installing collected packages: tzlocal, cloudpickle, snowflake-snowpark-python\n",
      "Successfully installed cloudpickle-2.2.1 snowflake-snowpark-python-1.25.0 tzlocal-5.2\n",
      "Note: you may need to restart the kernel to use updated packages.\n"
     ]
    },
    {
     "name": "stderr",
     "output_type": "stream",
     "text": [
      "\n",
      "[notice] A new release of pip available: 22.2.2 -> 24.3.1\n",
      "[notice] To update, run: python.exe -m pip install --upgrade pip\n"
     ]
    }
   ],
   "source": [
    "pip install snowflake-snowpark-python"
   ]
  },
  {
   "cell_type": "code",
   "execution_count": 98,
   "metadata": {},
   "outputs": [],
   "source": [
    "\n",
    "\n",
    "# To create a snowpark session\n",
    "from snowflake.snowpark.session import Session"
   ]
  },
  {
   "cell_type": "code",
   "execution_count": 62,
   "metadata": {},
   "outputs": [],
   "source": [
    "from snowflake.snowpark import Session"
   ]
  },
  {
   "cell_type": "code",
   "execution_count": 100,
   "metadata": {},
   "outputs": [],
   "source": [
    "CONNECTION_PARAMETERS = {\n",
    "     \"account\": account,\n",
    "   \"user\": user,\n",
    "   \"password\":password,\n",
    "}\n",
    "session = Session.builder.configs(CONNECTION_PARAMETERS).create()"
   ]
  },
  {
   "cell_type": "code",
   "execution_count": 102,
   "metadata": {},
   "outputs": [
    {
     "ename": "RuntimeError",
     "evalue": "The pandas version installed (1.5.3) does not match the supported pandas version in Snowpark pandas (2.2.x). Run `pip install \"snowflake-snowpark-python[modin]\"` to resolve.",
     "output_type": "error",
     "traceback": [
      "\u001b[1;31m---------------------------------------------------------------------------\u001b[0m",
      "\u001b[1;31mRuntimeError\u001b[0m                              Traceback (most recent call last)",
      "Cell \u001b[1;32mIn[102], line 4\u001b[0m\n\u001b[0;32m      1\u001b[0m snowpark_df \u001b[38;5;241m=\u001b[39m session\u001b[38;5;241m.\u001b[39mtable(\u001b[38;5;124m\"\u001b[39m\u001b[38;5;124mSNOW1.SCHEMA1SNOW1.BUG_REPORT_DATA\u001b[39m\u001b[38;5;124m\"\u001b[39m)\n\u001b[0;32m      3\u001b[0m \u001b[38;5;66;03m# converting Snowpark dataframe to snowpark pandas dataframe\u001b[39;00m\n\u001b[1;32m----> 4\u001b[0m snowpark_pandas_df \u001b[38;5;241m=\u001b[39m \u001b[43msnowpark_df\u001b[49m\u001b[38;5;241;43m.\u001b[39;49m\u001b[43mto_snowpark_pandas\u001b[49m\u001b[43m(\u001b[49m\u001b[43m)\u001b[49m\n",
      "File \u001b[1;32mc:\\Users\\Luan Lima\\AppData\\Local\\Programs\\Python\\Python310\\lib\\site-packages\\snowflake\\snowpark\\_internal\\telemetry.py:172\u001b[0m, in \u001b[0;36mdf_collect_api_telemetry.<locals>.wrap\u001b[1;34m(*args, **kwargs)\u001b[0m\n\u001b[0;32m    169\u001b[0m \u001b[38;5;129m@functools\u001b[39m\u001b[38;5;241m.\u001b[39mwraps(func)\n\u001b[0;32m    170\u001b[0m \u001b[38;5;28;01mdef\u001b[39;00m \u001b[38;5;21mwrap\u001b[39m(\u001b[38;5;241m*\u001b[39margs, \u001b[38;5;241m*\u001b[39m\u001b[38;5;241m*\u001b[39mkwargs):\n\u001b[0;32m    171\u001b[0m     \u001b[38;5;28;01mwith\u001b[39;00m args[\u001b[38;5;241m0\u001b[39m]\u001b[38;5;241m.\u001b[39m_session\u001b[38;5;241m.\u001b[39mquery_history() \u001b[38;5;28;01mas\u001b[39;00m query_history:\n\u001b[1;32m--> 172\u001b[0m         result \u001b[38;5;241m=\u001b[39m func(\u001b[38;5;241m*\u001b[39margs, \u001b[38;5;241m*\u001b[39m\u001b[38;5;241m*\u001b[39mkwargs)\n\u001b[0;32m    173\u001b[0m     plan \u001b[38;5;241m=\u001b[39m args[\u001b[38;5;241m0\u001b[39m]\u001b[38;5;241m.\u001b[39m_select_statement \u001b[38;5;129;01mor\u001b[39;00m args[\u001b[38;5;241m0\u001b[39m]\u001b[38;5;241m.\u001b[39m_plan\n\u001b[0;32m    174\u001b[0m     api_calls \u001b[38;5;241m=\u001b[39m [\n\u001b[0;32m    175\u001b[0m         \u001b[38;5;241m*\u001b[39mplan\u001b[38;5;241m.\u001b[39mapi_calls,\n\u001b[0;32m    176\u001b[0m         {TelemetryField\u001b[38;5;241m.\u001b[39mNAME\u001b[38;5;241m.\u001b[39mvalue: \u001b[38;5;124mf\u001b[39m\u001b[38;5;124m\"\u001b[39m\u001b[38;5;124mDataFrame.\u001b[39m\u001b[38;5;132;01m{\u001b[39;00mfunc\u001b[38;5;241m.\u001b[39m\u001b[38;5;18m__name__\u001b[39m\u001b[38;5;132;01m}\u001b[39;00m\u001b[38;5;124m\"\u001b[39m},\n\u001b[0;32m    177\u001b[0m     ]\n",
      "File \u001b[1;32mc:\\Users\\Luan Lima\\AppData\\Local\\Programs\\Python\\Python310\\lib\\site-packages\\snowflake\\snowpark\\dataframe.py:1027\u001b[0m, in \u001b[0;36mDataFrame.to_snowpark_pandas\u001b[1;34m(self, index_col, columns)\u001b[0m\n\u001b[0;32m    957\u001b[0m \u001b[38;5;250m\u001b[39m\u001b[38;5;124;03m\"\"\"\u001b[39;00m\n\u001b[0;32m    958\u001b[0m \u001b[38;5;124;03mConvert the Snowpark DataFrame to Snowpark pandas DataFrame.\u001b[39;00m\n\u001b[0;32m    959\u001b[0m \n\u001b[1;32m   (...)\u001b[0m\n\u001b[0;32m   1023\u001b[0m \u001b[38;5;124;03m    2 1  1  3  1\u001b[39;00m\n\u001b[0;32m   1024\u001b[0m \u001b[38;5;124;03m\"\"\"\u001b[39;00m\n\u001b[0;32m   1025\u001b[0m \u001b[38;5;66;03m# black and isort disagree on how to format this section with isort: skip\u001b[39;00m\n\u001b[0;32m   1026\u001b[0m \u001b[38;5;66;03m# fmt: off\u001b[39;00m\n\u001b[1;32m-> 1027\u001b[0m \u001b[38;5;28;01mimport\u001b[39;00m \u001b[38;5;21;01msnowflake\u001b[39;00m\u001b[38;5;21;01m.\u001b[39;00m\u001b[38;5;21;01msnowpark\u001b[39;00m\u001b[38;5;21;01m.\u001b[39;00m\u001b[38;5;21;01mmodin\u001b[39;00m\u001b[38;5;21;01m.\u001b[39;00m\u001b[38;5;21;01mplugin\u001b[39;00m  \u001b[38;5;66;03m# isort: skip  # noqa: F401\u001b[39;00m\n\u001b[0;32m   1028\u001b[0m \u001b[38;5;66;03m# If snowflake.snowpark.modin.plugin was successfully imported, then modin.pandas is available\u001b[39;00m\n\u001b[0;32m   1029\u001b[0m \u001b[38;5;28;01mimport\u001b[39;00m \u001b[38;5;21;01mmodin\u001b[39;00m\u001b[38;5;21;01m.\u001b[39;00m\u001b[38;5;21;01mpandas\u001b[39;00m \u001b[38;5;28;01mas\u001b[39;00m \u001b[38;5;21;01mpd\u001b[39;00m  \u001b[38;5;66;03m# isort: skip\u001b[39;00m\n",
      "File \u001b[1;32mc:\\Users\\Luan Lima\\AppData\\Local\\Programs\\Python\\Python310\\lib\\site-packages\\snowflake\\snowpark\\modin\\plugin\\__init__.py:32\u001b[0m\n\u001b[0;32m     27\u001b[0m actual_pandas_version \u001b[38;5;241m=\u001b[39m version\u001b[38;5;241m.\u001b[39mparse(pandas\u001b[38;5;241m.\u001b[39m__version__)\n\u001b[0;32m     28\u001b[0m \u001b[38;5;28;01mif\u001b[39;00m (\n\u001b[0;32m     29\u001b[0m     actual_pandas_version\u001b[38;5;241m.\u001b[39mmajor \u001b[38;5;241m!=\u001b[39m supported_pandas_major_version\n\u001b[0;32m     30\u001b[0m     \u001b[38;5;129;01mand\u001b[39;00m actual_pandas_version\u001b[38;5;241m.\u001b[39mminor \u001b[38;5;241m!=\u001b[39m supported_pandas_minor_version\n\u001b[0;32m     31\u001b[0m ):\n\u001b[1;32m---> 32\u001b[0m     \u001b[38;5;28;01mraise\u001b[39;00m \u001b[38;5;167;01mRuntimeError\u001b[39;00m(\n\u001b[0;32m     33\u001b[0m         \u001b[38;5;124mf\u001b[39m\u001b[38;5;124m\"\u001b[39m\u001b[38;5;124mThe pandas version installed (\u001b[39m\u001b[38;5;132;01m{\u001b[39;00mpandas\u001b[38;5;241m.\u001b[39m__version__\u001b[38;5;132;01m}\u001b[39;00m\u001b[38;5;124m) does not match the supported pandas version in\u001b[39m\u001b[38;5;124m\"\u001b[39m\n\u001b[0;32m     34\u001b[0m         \u001b[38;5;241m+\u001b[39m \u001b[38;5;124mf\u001b[39m\u001b[38;5;124m\"\u001b[39m\u001b[38;5;124m Snowpark pandas (\u001b[39m\u001b[38;5;132;01m{\u001b[39;00msupported_pandas_major_version\u001b[38;5;132;01m}\u001b[39;00m\u001b[38;5;124m.\u001b[39m\u001b[38;5;132;01m{\u001b[39;00msupported_pandas_minor_version\u001b[38;5;132;01m}\u001b[39;00m\u001b[38;5;124m.x). \u001b[39m\u001b[38;5;124m\"\u001b[39m\n\u001b[0;32m     35\u001b[0m         \u001b[38;5;241m+\u001b[39m install_msg\n\u001b[0;32m     36\u001b[0m     )  \u001b[38;5;66;03m# pragma: no cover\u001b[39;00m\n\u001b[0;32m     38\u001b[0m \u001b[38;5;28;01mtry\u001b[39;00m:\n\u001b[0;32m     39\u001b[0m     \u001b[38;5;28;01mimport\u001b[39;00m \u001b[38;5;21;01mmodin\u001b[39;00m  \u001b[38;5;66;03m# type: ignore\u001b[39;00m\n",
      "\u001b[1;31mRuntimeError\u001b[0m: The pandas version installed (1.5.3) does not match the supported pandas version in Snowpark pandas (2.2.x). Run `pip install \"snowflake-snowpark-python[modin]\"` to resolve."
     ]
    }
   ],
   "source": [
    "snowpark_df = session.table(\"SNOW1.SCHEMA1SNOW1.BUG_REPORT_DATA\")\n",
    "\n",
    "# converting Snowpark dataframe to snowpark pandas dataframe\n",
    "snowpark_pandas_df = snowpark_df.to_snowpark_pandas()"
   ]
  },
  {
   "cell_type": "code",
   "execution_count": 101,
   "metadata": {},
   "outputs": [
    {
     "ename": "AttributeError",
     "evalue": "module 'pandas' has no attribute 'read_snowflake'",
     "output_type": "error",
     "traceback": [
      "\u001b[1;31m---------------------------------------------------------------------------\u001b[0m",
      "\u001b[1;31mAttributeError\u001b[0m                            Traceback (most recent call last)",
      "Cell \u001b[1;32mIn[101], line 1\u001b[0m\n\u001b[1;32m----> 1\u001b[0m cust_df \u001b[38;5;241m=\u001b[39m \u001b[43mpd\u001b[49m\u001b[38;5;241;43m.\u001b[39;49m\u001b[43mread_snowflake\u001b[49m(\u001b[38;5;124m'\u001b[39m\u001b[38;5;124mSNOW1.SCHEMA1SNOW1.BUG_REPORT_DATA\u001b[39m\u001b[38;5;124m'\u001b[39m)\n\u001b[0;32m      2\u001b[0m cust_df\u001b[38;5;241m.\u001b[39mhead()\n",
      "File \u001b[1;32mc:\\Users\\Luan Lima\\AppData\\Local\\Programs\\Python\\Python310\\lib\\site-packages\\pandas\\__init__.py:264\u001b[0m, in \u001b[0;36m__getattr__\u001b[1;34m(name)\u001b[0m\n\u001b[0;32m    260\u001b[0m     \u001b[38;5;28;01mfrom\u001b[39;00m \u001b[38;5;21;01mpandas\u001b[39;00m\u001b[38;5;21;01m.\u001b[39;00m\u001b[38;5;21;01mcore\u001b[39;00m\u001b[38;5;21;01m.\u001b[39;00m\u001b[38;5;21;01marrays\u001b[39;00m\u001b[38;5;21;01m.\u001b[39;00m\u001b[38;5;21;01msparse\u001b[39;00m \u001b[38;5;28;01mimport\u001b[39;00m SparseArray \u001b[38;5;28;01mas\u001b[39;00m _SparseArray\n\u001b[0;32m    262\u001b[0m     \u001b[38;5;28;01mreturn\u001b[39;00m _SparseArray\n\u001b[1;32m--> 264\u001b[0m \u001b[38;5;28;01mraise\u001b[39;00m \u001b[38;5;167;01mAttributeError\u001b[39;00m(\u001b[38;5;124mf\u001b[39m\u001b[38;5;124m\"\u001b[39m\u001b[38;5;124mmodule \u001b[39m\u001b[38;5;124m'\u001b[39m\u001b[38;5;124mpandas\u001b[39m\u001b[38;5;124m'\u001b[39m\u001b[38;5;124m has no attribute \u001b[39m\u001b[38;5;124m'\u001b[39m\u001b[38;5;132;01m{\u001b[39;00mname\u001b[38;5;132;01m}\u001b[39;00m\u001b[38;5;124m'\u001b[39m\u001b[38;5;124m\"\u001b[39m)\n",
      "\u001b[1;31mAttributeError\u001b[0m: module 'pandas' has no attribute 'read_snowflake'"
     ]
    }
   ],
   "source": [
    "cust_df = pd.read_snowflake('SNOW1.SCHEMA1SNOW1.BUG_REPORT_DATA')\n",
    "cust_df.head()"
   ]
  },
  {
   "cell_type": "code",
   "execution_count": 63,
   "metadata": {},
   "outputs": [],
   "source": [
    "connection_parameters = {\n",
    "   \"account\": account,\n",
    "   \"user\": user,\n",
    "   \"password\":password,\n",
    "}"
   ]
  },
  {
   "cell_type": "code",
   "execution_count": 83,
   "metadata": {},
   "outputs": [],
   "source": [
    "new_session = Session.builder.configs(connection_parameters).create()\n",
    "new_session = new_session.sql(\"select * from SNOW1.SCHEMA1SNOW1.BUG_REPORT_DATA\").collect()"
   ]
  },
  {
   "cell_type": "code",
   "execution_count": 94,
   "metadata": {},
   "outputs": [
    {
     "name": "stdout",
     "output_type": "stream",
     "text": [
      "   stud_age stud_id stud_name\n",
      "0        12      21       ABC\n",
      "1         6      23       PQR\n",
      "2         7      25       XYZ\n"
     ]
    }
   ],
   "source": [
    "import pyspark\n",
    "from pyspark.sql import SparkSession\n",
    "py_spark = SparkSession.builder.appName ('pyspark to pandas').getOrCreate()\n",
    "stud =[{'stud_id' : '21', 'stud_name' : 'ABC', 'stud_age' : 12},\n",
    "   \t\t\t{'stud_id' : '23', 'stud_name' : 'PQR', 'stud_age' : 6},\n",
    "   \t\t\t{'stud_id' : '25', 'stud_name' : 'XYZ', 'stud_age' : 7}]\n",
    "panda = py_spark.createDataFrame( stud)\n",
    "print (panda.toPandas())"
   ]
  },
  {
   "cell_type": "code",
   "execution_count": 95,
   "metadata": {},
   "outputs": [
    {
     "data": {
      "text/plain": [
       "DataFrame[stud_age: bigint, stud_id: string, stud_name: string]"
      ]
     },
     "execution_count": 95,
     "metadata": {},
     "output_type": "execute_result"
    }
   ],
   "source": [
    "panda"
   ]
  },
  {
   "cell_type": "code",
   "execution_count": null,
   "metadata": {},
   "outputs": [],
   "source": []
  },
  {
   "cell_type": "code",
   "execution_count": 93,
   "metadata": {},
   "outputs": [
    {
     "ename": "AttributeError",
     "evalue": "'list' object has no attribute 'toPandas'",
     "output_type": "error",
     "traceback": [
      "\u001b[1;31m---------------------------------------------------------------------------\u001b[0m",
      "\u001b[1;31mAttributeError\u001b[0m                            Traceback (most recent call last)",
      "Cell \u001b[1;32mIn[93], line 1\u001b[0m\n\u001b[1;32m----> 1\u001b[0m \u001b[43mnew_session\u001b[49m\u001b[38;5;241;43m.\u001b[39;49m\u001b[43mtoPandas\u001b[49m()\n",
      "\u001b[1;31mAttributeError\u001b[0m: 'list' object has no attribute 'toPandas'"
     ]
    }
   ],
   "source": [
    "new_session.toPandas()"
   ]
  },
  {
   "cell_type": "code",
   "execution_count": null,
   "metadata": {},
   "outputs": [],
   "source": [
    "AUTHOR, BUG_TYPE COMMENT DATE BUG_SEVERITY"
   ]
  },
  {
   "cell_type": "markdown",
   "metadata": {},
   "source": []
  },
  {
   "cell_type": "code",
   "execution_count": 91,
   "metadata": {},
   "outputs": [
    {
     "ename": "TypeError",
     "evalue": "Session.range() missing 1 required positional argument: 'start'",
     "output_type": "error",
     "traceback": [
      "\u001b[1;31m---------------------------------------------------------------------------\u001b[0m",
      "\u001b[1;31mTypeError\u001b[0m                                 Traceback (most recent call last)",
      "Cell \u001b[1;32mIn[91], line 1\u001b[0m\n\u001b[1;32m----> 1\u001b[0m df_range \u001b[38;5;241m=\u001b[39m \u001b[43mSession\u001b[49m\u001b[38;5;241;43m.\u001b[39;49m\u001b[43mrange\u001b[49m\u001b[43m(\u001b[49m\u001b[43m[\u001b[49m\u001b[38;5;241;43m1\u001b[39;49m\u001b[43m,\u001b[49m\u001b[43m \u001b[49m\u001b[38;5;241;43m10\u001b[39;49m\u001b[43m,\u001b[49m\u001b[43m \u001b[49m\u001b[38;5;241;43m2\u001b[39;49m\u001b[43m]\u001b[49m\u001b[43m)\u001b[49m\u001b[38;5;241m.\u001b[39mto_df(\u001b[38;5;124m\"\u001b[39m\u001b[38;5;124ma\u001b[39m\u001b[38;5;124m\"\u001b[39m)\n\u001b[0;32m      2\u001b[0m df_range\u001b[38;5;241m.\u001b[39mshow()\n",
      "\u001b[1;31mTypeError\u001b[0m: Session.range() missing 1 required positional argument: 'start'"
     ]
    }
   ],
   "source": [
    "df_range = Session.range([1, 10, 2]).to_df(\"a\")\n",
    "df_range.show()"
   ]
  },
  {
   "cell_type": "code",
   "execution_count": 92,
   "metadata": {},
   "outputs": [
    {
     "ename": "TypeError",
     "evalue": "Session.create_dataframe() missing 1 required positional argument: 'data'",
     "output_type": "error",
     "traceback": [
      "\u001b[1;31m---------------------------------------------------------------------------\u001b[0m",
      "\u001b[1;31mTypeError\u001b[0m                                 Traceback (most recent call last)",
      "Cell \u001b[1;32mIn[92], line 2\u001b[0m\n\u001b[0;32m      1\u001b[0m \u001b[38;5;28;01mfrom\u001b[39;00m \u001b[38;5;21;01msnowflake\u001b[39;00m\u001b[38;5;21;01m.\u001b[39;00m\u001b[38;5;21;01msnowpark\u001b[39;00m \u001b[38;5;28;01mimport\u001b[39;00m Row,Session\n\u001b[1;32m----> 2\u001b[0m df3 \u001b[38;5;241m=\u001b[39m \u001b[43mSession\u001b[49m\u001b[38;5;241;43m.\u001b[39;49m\u001b[43mcreate_dataframe\u001b[49m\u001b[43m(\u001b[49m\u001b[43m[\u001b[49m\u001b[43mRow\u001b[49m\u001b[43m(\u001b[49m\u001b[43ma\u001b[49m\u001b[38;5;241;43m=\u001b[39;49m\u001b[38;5;241;43m1\u001b[39;49m\u001b[43m,\u001b[49m\u001b[43m \u001b[49m\u001b[43mb\u001b[49m\u001b[38;5;241;43m=\u001b[39;49m\u001b[38;5;241;43m2\u001b[39;49m\u001b[43m,\u001b[49m\u001b[43m \u001b[49m\u001b[43mc\u001b[49m\u001b[38;5;241;43m=\u001b[39;49m\u001b[38;5;241;43m3\u001b[39;49m\u001b[43m,\u001b[49m\u001b[43m \u001b[49m\u001b[43md\u001b[49m\u001b[38;5;241;43m=\u001b[39;49m\u001b[38;5;241;43m4\u001b[39;49m\u001b[43m)\u001b[49m\u001b[43m]\u001b[49m\u001b[43m)\u001b[49m\n\u001b[0;32m      3\u001b[0m df3\u001b[38;5;241m.\u001b[39mshow()\n",
      "\u001b[1;31mTypeError\u001b[0m: Session.create_dataframe() missing 1 required positional argument: 'data'"
     ]
    }
   ],
   "source": [
    "from snowflake.snowpark import Row,Session\n",
    "df3 = Session.create_dataframe([Row(a=1, b=2, c=3, d=4)])\n",
    "df3.show()"
   ]
  },
  {
   "cell_type": "code",
   "execution_count": 84,
   "metadata": {},
   "outputs": [
    {
     "ename": "AttributeError",
     "evalue": "'list' object has no attribute 'show'",
     "output_type": "error",
     "traceback": [
      "\u001b[1;31m---------------------------------------------------------------------------\u001b[0m",
      "\u001b[1;31mAttributeError\u001b[0m                            Traceback (most recent call last)",
      "Cell \u001b[1;32mIn[84], line 1\u001b[0m\n\u001b[1;32m----> 1\u001b[0m \u001b[43mnew_session\u001b[49m\u001b[38;5;241;43m.\u001b[39;49m\u001b[43mshow\u001b[49m()\n",
      "\u001b[1;31mAttributeError\u001b[0m: 'list' object has no attribute 'show'"
     ]
    }
   ],
   "source": [
    "new_session.show()"
   ]
  },
  {
   "cell_type": "code",
   "execution_count": 81,
   "metadata": {},
   "outputs": [
    {
     "ename": "TypeError",
     "evalue": "Session.create_dataframe() missing 1 required positional argument: 'data'",
     "output_type": "error",
     "traceback": [
      "\u001b[1;31m---------------------------------------------------------------------------\u001b[0m",
      "\u001b[1;31mTypeError\u001b[0m                                 Traceback (most recent call last)",
      "Cell \u001b[1;32mIn[81], line 1\u001b[0m\n\u001b[1;32m----> 1\u001b[0m \u001b[43mSession\u001b[49m\u001b[38;5;241;43m.\u001b[39;49m\u001b[43mcreate_dataframe\u001b[49m\u001b[43m(\u001b[49m\u001b[43mnew_session\u001b[49m\u001b[43m)\u001b[49m\n",
      "\u001b[1;31mTypeError\u001b[0m: Session.create_dataframe() missing 1 required positional argument: 'data'"
     ]
    }
   ],
   "source": [
    "Session.create_dataframe(new_session)"
   ]
  },
  {
   "cell_type": "code",
   "execution_count": null,
   "metadata": {},
   "outputs": [],
   "source": [
    "    account = account,\n",
    "    user = user ,\n",
    "    password = password"
   ]
  },
  {
   "cell_type": "code",
   "execution_count": 52,
   "metadata": {},
   "outputs": [
    {
     "ename": "AttributeError",
     "evalue": "'OptionEngine' object has no attribute 'execute'",
     "output_type": "error",
     "traceback": [
      "\u001b[1;31m---------------------------------------------------------------------------\u001b[0m",
      "\u001b[1;31mAttributeError\u001b[0m                            Traceback (most recent call last)",
      "Cell \u001b[1;32mIn[52], line 2\u001b[0m\n\u001b[0;32m      1\u001b[0m query \u001b[38;5;241m=\u001b[39m \u001b[38;5;124m\"\u001b[39m\u001b[38;5;124mselect * from SNOW1.SCHEMA1SNOW1.BUG_REPORT_DATA\u001b[39m\u001b[38;5;124m\"\u001b[39m\n\u001b[1;32m----> 2\u001b[0m table_df \u001b[38;5;241m=\u001b[39m \u001b[43mpd\u001b[49m\u001b[38;5;241;43m.\u001b[39;49m\u001b[43mread_sql\u001b[49m\u001b[43m(\u001b[49m\u001b[43mquery\u001b[49m\u001b[43m,\u001b[49m\u001b[43m \u001b[49m\u001b[43mcon\u001b[49m\u001b[38;5;241;43m=\u001b[39;49m\u001b[43mmy_conn\u001b[49m\u001b[43m)\u001b[49m\n",
      "File \u001b[1;32mc:\\Users\\Luan Lima\\AppData\\Local\\Programs\\Python\\Python310\\lib\\site-packages\\pandas\\io\\sql.py:590\u001b[0m, in \u001b[0;36mread_sql\u001b[1;34m(sql, con, index_col, coerce_float, params, parse_dates, columns, chunksize)\u001b[0m\n\u001b[0;32m    581\u001b[0m     \u001b[38;5;28;01mreturn\u001b[39;00m pandas_sql\u001b[38;5;241m.\u001b[39mread_table(\n\u001b[0;32m    582\u001b[0m         sql,\n\u001b[0;32m    583\u001b[0m         index_col\u001b[38;5;241m=\u001b[39mindex_col,\n\u001b[1;32m   (...)\u001b[0m\n\u001b[0;32m    587\u001b[0m         chunksize\u001b[38;5;241m=\u001b[39mchunksize,\n\u001b[0;32m    588\u001b[0m     )\n\u001b[0;32m    589\u001b[0m \u001b[38;5;28;01melse\u001b[39;00m:\n\u001b[1;32m--> 590\u001b[0m     \u001b[38;5;28;01mreturn\u001b[39;00m \u001b[43mpandas_sql\u001b[49m\u001b[38;5;241;43m.\u001b[39;49m\u001b[43mread_query\u001b[49m\u001b[43m(\u001b[49m\n\u001b[0;32m    591\u001b[0m \u001b[43m        \u001b[49m\u001b[43msql\u001b[49m\u001b[43m,\u001b[49m\n\u001b[0;32m    592\u001b[0m \u001b[43m        \u001b[49m\u001b[43mindex_col\u001b[49m\u001b[38;5;241;43m=\u001b[39;49m\u001b[43mindex_col\u001b[49m\u001b[43m,\u001b[49m\n\u001b[0;32m    593\u001b[0m \u001b[43m        \u001b[49m\u001b[43mparams\u001b[49m\u001b[38;5;241;43m=\u001b[39;49m\u001b[43mparams\u001b[49m\u001b[43m,\u001b[49m\n\u001b[0;32m    594\u001b[0m \u001b[43m        \u001b[49m\u001b[43mcoerce_float\u001b[49m\u001b[38;5;241;43m=\u001b[39;49m\u001b[43mcoerce_float\u001b[49m\u001b[43m,\u001b[49m\n\u001b[0;32m    595\u001b[0m \u001b[43m        \u001b[49m\u001b[43mparse_dates\u001b[49m\u001b[38;5;241;43m=\u001b[39;49m\u001b[43mparse_dates\u001b[49m\u001b[43m,\u001b[49m\n\u001b[0;32m    596\u001b[0m \u001b[43m        \u001b[49m\u001b[43mchunksize\u001b[49m\u001b[38;5;241;43m=\u001b[39;49m\u001b[43mchunksize\u001b[49m\u001b[43m,\u001b[49m\n\u001b[0;32m    597\u001b[0m \u001b[43m    \u001b[49m\u001b[43m)\u001b[49m\n",
      "File \u001b[1;32mc:\\Users\\Luan Lima\\AppData\\Local\\Programs\\Python\\Python310\\lib\\site-packages\\pandas\\io\\sql.py:1560\u001b[0m, in \u001b[0;36mSQLDatabase.read_query\u001b[1;34m(self, sql, index_col, coerce_float, parse_dates, params, chunksize, dtype)\u001b[0m\n\u001b[0;32m   1512\u001b[0m \u001b[38;5;250m\u001b[39m\u001b[38;5;124;03m\"\"\"\u001b[39;00m\n\u001b[0;32m   1513\u001b[0m \u001b[38;5;124;03mRead SQL query into a DataFrame.\u001b[39;00m\n\u001b[0;32m   1514\u001b[0m \n\u001b[1;32m   (...)\u001b[0m\n\u001b[0;32m   1556\u001b[0m \n\u001b[0;32m   1557\u001b[0m \u001b[38;5;124;03m\"\"\"\u001b[39;00m\n\u001b[0;32m   1558\u001b[0m args \u001b[38;5;241m=\u001b[39m _convert_params(sql, params)\n\u001b[1;32m-> 1560\u001b[0m result \u001b[38;5;241m=\u001b[39m \u001b[38;5;28;43mself\u001b[39;49m\u001b[38;5;241;43m.\u001b[39;49m\u001b[43mexecute\u001b[49m\u001b[43m(\u001b[49m\u001b[38;5;241;43m*\u001b[39;49m\u001b[43margs\u001b[49m\u001b[43m)\u001b[49m\n\u001b[0;32m   1561\u001b[0m columns \u001b[38;5;241m=\u001b[39m result\u001b[38;5;241m.\u001b[39mkeys()\n\u001b[0;32m   1563\u001b[0m \u001b[38;5;28;01mif\u001b[39;00m chunksize \u001b[38;5;129;01mis\u001b[39;00m \u001b[38;5;129;01mnot\u001b[39;00m \u001b[38;5;28;01mNone\u001b[39;00m:\n",
      "File \u001b[1;32mc:\\Users\\Luan Lima\\AppData\\Local\\Programs\\Python\\Python310\\lib\\site-packages\\pandas\\io\\sql.py:1405\u001b[0m, in \u001b[0;36mSQLDatabase.execute\u001b[1;34m(self, *args, **kwargs)\u001b[0m\n\u001b[0;32m   1403\u001b[0m \u001b[38;5;28;01mdef\u001b[39;00m \u001b[38;5;21mexecute\u001b[39m(\u001b[38;5;28mself\u001b[39m, \u001b[38;5;241m*\u001b[39margs, \u001b[38;5;241m*\u001b[39m\u001b[38;5;241m*\u001b[39mkwargs):\n\u001b[0;32m   1404\u001b[0m \u001b[38;5;250m    \u001b[39m\u001b[38;5;124;03m\"\"\"Simple passthrough to SQLAlchemy connectable\"\"\"\u001b[39;00m\n\u001b[1;32m-> 1405\u001b[0m     \u001b[38;5;28;01mreturn\u001b[39;00m \u001b[38;5;28;43mself\u001b[39;49m\u001b[38;5;241;43m.\u001b[39;49m\u001b[43mconnectable\u001b[49m\u001b[38;5;241;43m.\u001b[39;49m\u001b[43mexecution_options\u001b[49m\u001b[43m(\u001b[49m\u001b[43m)\u001b[49m\u001b[38;5;241;43m.\u001b[39;49m\u001b[43mexecute\u001b[49m(\u001b[38;5;241m*\u001b[39margs, \u001b[38;5;241m*\u001b[39m\u001b[38;5;241m*\u001b[39mkwargs)\n",
      "\u001b[1;31mAttributeError\u001b[0m: 'OptionEngine' object has no attribute 'execute'"
     ]
    }
   ],
   "source": [
    "query = \"select * from SNOW1.SCHEMA1SNOW1.BUG_REPORT_DATA\"\n",
    "table_df = pd.read_sql(query, con=my_conn)\n"
   ]
  },
  {
   "cell_type": "code",
   "execution_count": 35,
   "metadata": {},
   "outputs": [
    {
     "name": "stderr",
     "output_type": "stream",
     "text": [
      "C:\\Users\\Luan Lima\\AppData\\Local\\Temp\\ipykernel_9788\\1910151105.py:2: UserWarning: pandas only supports SQLAlchemy connectable (engine/connection) or database string URI or sqlite3 DBAPI2 connection. Other DBAPI2 objects are not tested. Please consider using SQLAlchemy.\n",
      "  sql_query = pd.read_sql_query(\n"
     ]
    },
    {
     "ename": "AttributeError",
     "evalue": "'SnowflakeCursor' object has no attribute 'cursor'",
     "output_type": "error",
     "traceback": [
      "\u001b[1;31m---------------------------------------------------------------------------\u001b[0m",
      "\u001b[1;31mAttributeError\u001b[0m                            Traceback (most recent call last)",
      "Cell \u001b[1;32mIn[35], line 2\u001b[0m\n\u001b[0;32m      1\u001b[0m \u001b[38;5;28;01mimport\u001b[39;00m \u001b[38;5;21;01mpandas\u001b[39;00m \u001b[38;5;28;01mas\u001b[39;00m \u001b[38;5;21;01mpd\u001b[39;00m\n\u001b[1;32m----> 2\u001b[0m sql_query \u001b[38;5;241m=\u001b[39m \u001b[43mpd\u001b[49m\u001b[38;5;241;43m.\u001b[39;49m\u001b[43mread_sql_query\u001b[49m\u001b[43m(\u001b[49m\n\u001b[0;32m      3\u001b[0m \u001b[38;5;250;43m    \u001b[39;49m\u001b[38;5;124;43;03m\"\"\"\u001b[39;49;00m\n\u001b[0;32m      4\u001b[0m \u001b[38;5;124;43;03m    select * from SNOW1.SCHEMA1SNOW1.BUG_REPORT_DATA\u001b[39;49;00m\n\u001b[0;32m      5\u001b[0m \u001b[38;5;124;43;03m    \"\"\"\u001b[39;49;00m\u001b[43m,\u001b[49m\n\u001b[0;32m      6\u001b[0m \u001b[43m    \u001b[49m\u001b[43mcx\u001b[49m\u001b[43m,\u001b[49m\n\u001b[0;32m      7\u001b[0m \u001b[43m)\u001b[49m\n",
      "File \u001b[1;32mc:\\Users\\Luan Lima\\AppData\\Local\\Programs\\Python\\Python310\\lib\\site-packages\\pandas\\io\\sql.py:397\u001b[0m, in \u001b[0;36mread_sql_query\u001b[1;34m(sql, con, index_col, coerce_float, params, parse_dates, chunksize, dtype)\u001b[0m\n\u001b[0;32m    339\u001b[0m \u001b[38;5;250m\u001b[39m\u001b[38;5;124;03m\"\"\"\u001b[39;00m\n\u001b[0;32m    340\u001b[0m \u001b[38;5;124;03mRead SQL query into a DataFrame.\u001b[39;00m\n\u001b[0;32m    341\u001b[0m \n\u001b[1;32m   (...)\u001b[0m\n\u001b[0;32m    394\u001b[0m \u001b[38;5;124;03mparameter will be converted to UTC.\u001b[39;00m\n\u001b[0;32m    395\u001b[0m \u001b[38;5;124;03m\"\"\"\u001b[39;00m\n\u001b[0;32m    396\u001b[0m pandas_sql \u001b[38;5;241m=\u001b[39m pandasSQL_builder(con)\n\u001b[1;32m--> 397\u001b[0m \u001b[38;5;28;01mreturn\u001b[39;00m \u001b[43mpandas_sql\u001b[49m\u001b[38;5;241;43m.\u001b[39;49m\u001b[43mread_query\u001b[49m\u001b[43m(\u001b[49m\n\u001b[0;32m    398\u001b[0m \u001b[43m    \u001b[49m\u001b[43msql\u001b[49m\u001b[43m,\u001b[49m\n\u001b[0;32m    399\u001b[0m \u001b[43m    \u001b[49m\u001b[43mindex_col\u001b[49m\u001b[38;5;241;43m=\u001b[39;49m\u001b[43mindex_col\u001b[49m\u001b[43m,\u001b[49m\n\u001b[0;32m    400\u001b[0m \u001b[43m    \u001b[49m\u001b[43mparams\u001b[49m\u001b[38;5;241;43m=\u001b[39;49m\u001b[43mparams\u001b[49m\u001b[43m,\u001b[49m\n\u001b[0;32m    401\u001b[0m \u001b[43m    \u001b[49m\u001b[43mcoerce_float\u001b[49m\u001b[38;5;241;43m=\u001b[39;49m\u001b[43mcoerce_float\u001b[49m\u001b[43m,\u001b[49m\n\u001b[0;32m    402\u001b[0m \u001b[43m    \u001b[49m\u001b[43mparse_dates\u001b[49m\u001b[38;5;241;43m=\u001b[39;49m\u001b[43mparse_dates\u001b[49m\u001b[43m,\u001b[49m\n\u001b[0;32m    403\u001b[0m \u001b[43m    \u001b[49m\u001b[43mchunksize\u001b[49m\u001b[38;5;241;43m=\u001b[39;49m\u001b[43mchunksize\u001b[49m\u001b[43m,\u001b[49m\n\u001b[0;32m    404\u001b[0m \u001b[43m    \u001b[49m\u001b[43mdtype\u001b[49m\u001b[38;5;241;43m=\u001b[39;49m\u001b[43mdtype\u001b[49m\u001b[43m,\u001b[49m\n\u001b[0;32m    405\u001b[0m \u001b[43m\u001b[49m\u001b[43m)\u001b[49m\n",
      "File \u001b[1;32mc:\\Users\\Luan Lima\\AppData\\Local\\Programs\\Python\\Python310\\lib\\site-packages\\pandas\\io\\sql.py:2078\u001b[0m, in \u001b[0;36mSQLiteDatabase.read_query\u001b[1;34m(self, sql, index_col, coerce_float, params, parse_dates, chunksize, dtype)\u001b[0m\n\u001b[0;32m   2066\u001b[0m \u001b[38;5;28;01mdef\u001b[39;00m \u001b[38;5;21mread_query\u001b[39m(\n\u001b[0;32m   2067\u001b[0m     \u001b[38;5;28mself\u001b[39m,\n\u001b[0;32m   2068\u001b[0m     sql,\n\u001b[1;32m   (...)\u001b[0m\n\u001b[0;32m   2074\u001b[0m     dtype: DtypeArg \u001b[38;5;241m|\u001b[39m \u001b[38;5;28;01mNone\u001b[39;00m \u001b[38;5;241m=\u001b[39m \u001b[38;5;28;01mNone\u001b[39;00m,\n\u001b[0;32m   2075\u001b[0m ) \u001b[38;5;241m-\u001b[39m\u001b[38;5;241m>\u001b[39m DataFrame \u001b[38;5;241m|\u001b[39m Iterator[DataFrame]:\n\u001b[0;32m   2077\u001b[0m     args \u001b[38;5;241m=\u001b[39m _convert_params(sql, params)\n\u001b[1;32m-> 2078\u001b[0m     cursor \u001b[38;5;241m=\u001b[39m \u001b[38;5;28;43mself\u001b[39;49m\u001b[38;5;241;43m.\u001b[39;49m\u001b[43mexecute\u001b[49m\u001b[43m(\u001b[49m\u001b[38;5;241;43m*\u001b[39;49m\u001b[43margs\u001b[49m\u001b[43m)\u001b[49m\n\u001b[0;32m   2079\u001b[0m     columns \u001b[38;5;241m=\u001b[39m [col_desc[\u001b[38;5;241m0\u001b[39m] \u001b[38;5;28;01mfor\u001b[39;00m col_desc \u001b[38;5;129;01min\u001b[39;00m cursor\u001b[38;5;241m.\u001b[39mdescription]\n\u001b[0;32m   2081\u001b[0m     \u001b[38;5;28;01mif\u001b[39;00m chunksize \u001b[38;5;129;01mis\u001b[39;00m \u001b[38;5;129;01mnot\u001b[39;00m \u001b[38;5;28;01mNone\u001b[39;00m:\n",
      "File \u001b[1;32mc:\\Users\\Luan Lima\\AppData\\Local\\Programs\\Python\\Python310\\lib\\site-packages\\pandas\\io\\sql.py:2016\u001b[0m, in \u001b[0;36mSQLiteDatabase.execute\u001b[1;34m(self, *args, **kwargs)\u001b[0m\n\u001b[0;32m   2015\u001b[0m \u001b[38;5;28;01mdef\u001b[39;00m \u001b[38;5;21mexecute\u001b[39m(\u001b[38;5;28mself\u001b[39m, \u001b[38;5;241m*\u001b[39margs, \u001b[38;5;241m*\u001b[39m\u001b[38;5;241m*\u001b[39mkwargs):\n\u001b[1;32m-> 2016\u001b[0m     cur \u001b[38;5;241m=\u001b[39m \u001b[38;5;28;43mself\u001b[39;49m\u001b[38;5;241;43m.\u001b[39;49m\u001b[43mcon\u001b[49m\u001b[38;5;241;43m.\u001b[39;49m\u001b[43mcursor\u001b[49m()\n\u001b[0;32m   2017\u001b[0m     \u001b[38;5;28;01mtry\u001b[39;00m:\n\u001b[0;32m   2018\u001b[0m         cur\u001b[38;5;241m.\u001b[39mexecute(\u001b[38;5;241m*\u001b[39margs, \u001b[38;5;241m*\u001b[39m\u001b[38;5;241m*\u001b[39mkwargs)\n",
      "\u001b[1;31mAttributeError\u001b[0m: 'SnowflakeCursor' object has no attribute 'cursor'"
     ]
    }
   ],
   "source": [
    "\n",
    "import pandas as pd\n",
    "sql_query = pd.read_sql_query(\n",
    "    \"\"\"\n",
    "    select * from SNOW1.SCHEMA1SNOW1.BUG_REPORT_DATA\n",
    "    \"\"\",\n",
    "    cx,\n",
    ")"
   ]
  }
 ],
 "metadata": {
  "kernelspec": {
   "display_name": "Python 3",
   "language": "python",
   "name": "python3"
  },
  "language_info": {
   "codemirror_mode": {
    "name": "ipython",
    "version": 3
   },
   "file_extension": ".py",
   "mimetype": "text/x-python",
   "name": "python",
   "nbconvert_exporter": "python",
   "pygments_lexer": "ipython3",
   "version": "3.10.7"
  }
 },
 "nbformat": 4,
 "nbformat_minor": 2
}
