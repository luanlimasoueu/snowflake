{
 "cells": [
  {
   "cell_type": "code",
   "execution_count": 7,
   "metadata": {},
   "outputs": [],
   "source": [
    "import snowflake.snowpark as snowpark\n",
    "from snowflake.snowpark import Session\n",
    "from dotenv import load_dotenv\n",
    "import os\n",
    "\n",
    "load_dotenv()\n",
    "\n",
    "\n",
    "connection_parameters = {\n",
    "   \"account\": os.getenv('account_snow'),\n",
    "   \"user\": os.getenv('user_snow'),\n",
    "   \"password\":os.getenv('password_snow'),\n",
    "   \"role\": \"ACCOUNTADMIN\"\n",
    "  \n",
    "}  \n",
    "\n",
    "session = Session.builder.configs(connection_parameters).create()"
   ]
  },
  {
   "cell_type": "code",
   "execution_count": 8,
   "metadata": {},
   "outputs": [
    {
     "name": "stdout",
     "output_type": "stream",
     "text": [
      "------------------------------------------------\n",
      "|\"EMP_ID\"  |\"EMP_NAME\"  |\"SALARY\"  |\"DEPT_ID\"  |\n",
      "------------------------------------------------\n",
      "|1         |TONY        |24000     |10         |\n",
      "|2         |STEVE       |17000     |10         |\n",
      "|3         |BRUCE       |9000      |20         |\n",
      "|4         |WANDA       |20000     |20         |\n",
      "------------------------------------------------\n",
      "\n"
     ]
    }
   ],
   "source": [
    "employee_data = [\n",
    "    [1,'TONY',24000,10],\n",
    "    [2,'STEVE',17000,10],\n",
    "    [3,'BRUCE',9000,20],\n",
    "    [4,'WANDA',20000,20]\n",
    "]\n",
    "\n",
    "employee_schema = [\"EMP_ID\", \"EMP_NAME\", \"SALARY\", \"DEPT_ID\"]\n",
    "\n",
    "df_emp = session.createDataFrame(employee_data, schema=employee_schema)\n",
    "df_emp.show()"
   ]
  },
  {
   "cell_type": "code",
   "execution_count": 9,
   "metadata": {},
   "outputs": [],
   "source": [
    "# create a temp table\n",
    "df_emp.write.mode(\"overwrite\").save_as_table(\"NEW_DB.PUBLIC.tmp_emp\", table_type=\"temp\")"
   ]
  },
  {
   "cell_type": "code",
   "execution_count": 11,
   "metadata": {},
   "outputs": [
    {
     "name": "stdout",
     "output_type": "stream",
     "text": [
      "------------------------------------------------\n",
      "|\"EMP_ID\"  |\"EMP_NAME\"  |\"SALARY\"  |\"DEPT_ID\"  |\n",
      "------------------------------------------------\n",
      "|1         |TONY        |24000     |10         |\n",
      "|2         |STEVE       |17000     |10         |\n",
      "|3         |BRUCE       |9000      |20         |\n",
      "|4         |WANDA       |20000     |20         |\n",
      "------------------------------------------------\n",
      "\n"
     ]
    }
   ],
   "source": [
    "df_tmp_emp = session.table(\"NEW_DB.PUBLIC.tmp_emp\")\n",
    "df_tmp_emp.show()"
   ]
  },
  {
   "cell_type": "code",
   "execution_count": 12,
   "metadata": {},
   "outputs": [
    {
     "data": {
      "text/plain": [
       "DeleteResult(rows_deleted=4)"
      ]
     },
     "execution_count": 12,
     "metadata": {},
     "output_type": "execute_result"
    }
   ],
   "source": [
    "df_tmp_emp.delete()"
   ]
  },
  {
   "cell_type": "code",
   "execution_count": 13,
   "metadata": {},
   "outputs": [
    {
     "name": "stdout",
     "output_type": "stream",
     "text": [
      "------------------------------------------------\n",
      "|\"EMP_ID\"  |\"EMP_NAME\"  |\"SALARY\"  |\"DEPT_ID\"  |\n",
      "------------------------------------------------\n",
      "|          |            |          |           |\n",
      "------------------------------------------------\n",
      "\n"
     ]
    }
   ],
   "source": [
    "# display updated DataFrame\n",
    "df_tmp_emp.show()"
   ]
  },
  {
   "cell_type": "code",
   "execution_count": 14,
   "metadata": {},
   "outputs": [
    {
     "data": {
      "text/plain": [
       "DeleteResult(rows_deleted=0)"
      ]
     },
     "execution_count": 14,
     "metadata": {},
     "output_type": "execute_result"
    }
   ],
   "source": [
    "df_tmp_emp.delete(df_tmp_emp[\"DEPT_ID\"] == '10')"
   ]
  },
  {
   "cell_type": "code",
   "execution_count": 16,
   "metadata": {},
   "outputs": [],
   "source": [
    "employee_data = [\n",
    "    [1,'TONY',24000,10],\n",
    "    [2,'STEVE',17000,10],\n",
    "    [3,'BRUCE',9000,20],\n",
    "    [4,'WANDA',20000,20]\n",
    "]\n",
    "employee_schema = [\"EMP_ID\", \"EMP_NAME\", \"SALARY\", \"DEPT_ID\"]\n",
    "df_emp =session.createDataFrame(employee_data, schema=employee_schema)\n",
    "\n",
    "# create temporary table\n",
    "df_emp.write.mode(\"overwrite\").save_as_table(\"NEW_DB.PUBLIC.tmp_emp\", table_type=\"temp\")"
   ]
  },
  {
   "cell_type": "code",
   "execution_count": 17,
   "metadata": {},
   "outputs": [
    {
     "name": "stdout",
     "output_type": "stream",
     "text": [
      "------------------------------------------------\n",
      "|\"EMP_ID\"  |\"EMP_NAME\"  |\"SALARY\"  |\"DEPT_ID\"  |\n",
      "------------------------------------------------\n",
      "|1         |TONY        |24000     |10         |\n",
      "|2         |STEVE       |17000     |10         |\n",
      "|3         |BRUCE       |9000      |20         |\n",
      "|4         |WANDA       |20000     |20         |\n",
      "------------------------------------------------\n",
      "\n"
     ]
    }
   ],
   "source": [
    "df_emp.show()"
   ]
  },
  {
   "cell_type": "code",
   "execution_count": 21,
   "metadata": {},
   "outputs": [],
   "source": [
    "session.sql(\"DELETE FROM NEW_DB.PUBLIC.tmp_emp WHERE EMP_ID = 3\").collect()\n",
    "# Output: [Row(number of rows deleted=1)]\n",
    "\n",
    "# create DataFrame to read contents of updated temp table\n",
    "df_tmp_emp = session.table(\"NEW_DB.PUBLIC.tmp_emp\")"
   ]
  },
  {
   "cell_type": "code",
   "execution_count": 23,
   "metadata": {},
   "outputs": [
    {
     "name": "stdout",
     "output_type": "stream",
     "text": [
      "------------------------------------------------\n",
      "|\"EMP_ID\"  |\"EMP_NAME\"  |\"SALARY\"  |\"DEPT_ID\"  |\n",
      "------------------------------------------------\n",
      "|1         |TONY        |24000     |10         |\n",
      "|2         |STEVE       |17000     |10         |\n",
      "|4         |WANDA       |20000     |20         |\n",
      "------------------------------------------------\n",
      "\n"
     ]
    }
   ],
   "source": [
    "df_tmp_emp.show()"
   ]
  }
 ],
 "metadata": {
  "kernelspec": {
   "display_name": "Python 3",
   "language": "python",
   "name": "python3"
  },
  "language_info": {
   "codemirror_mode": {
    "name": "ipython",
    "version": 3
   },
   "file_extension": ".py",
   "mimetype": "text/x-python",
   "name": "python",
   "nbconvert_exporter": "python",
   "pygments_lexer": "ipython3",
   "version": "3.10.7"
  }
 },
 "nbformat": 4,
 "nbformat_minor": 2
}
