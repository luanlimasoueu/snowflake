{
 "cells": [
  {
   "cell_type": "code",
   "execution_count": 2,
   "metadata": {},
   "outputs": [],
   "source": [
    "import snowflake.snowpark as snowpark\n",
    "from snowflake.snowpark import Session\n",
    "from dotenv import load_dotenv\n",
    "import os\n",
    "\n",
    "load_dotenv()\n",
    "\n",
    "\n",
    "connection_parameters = {\n",
    "   \"account\": os.getenv('account_snow'),\n",
    "   \"user\": os.getenv('user_snow'),\n",
    "   \"password\":os.getenv('password_snow'),\n",
    "   \"role\": \"ACCOUNTADMIN\",\n",
    "   \"database\": \"NEW_DB\", \n",
    "   \"schema\": \"PUBLIC\"\n",
    "  \n",
    "}  \n",
    "\n",
    "session = Session.builder.configs(connection_parameters).create()"
   ]
  },
  {
   "cell_type": "code",
   "execution_count": 3,
   "metadata": {},
   "outputs": [
    {
     "name": "stdout",
     "output_type": "stream",
     "text": [
      "------------------------------------------------\n",
      "|\"EMP_ID\"  |\"EMP_NAME\"  |\"SALARY\"  |\"DEPT_ID\"  |\n",
      "------------------------------------------------\n",
      "|1         |TONY        |24000     |101        |\n",
      "|2         |STEVE       |17000     |101        |\n",
      "|3         |BRUCE       |9000      |101        |\n",
      "|4         |WANDA       |20000     |102        |\n",
      "|5         |VICTOR      |12000     |102        |\n",
      "|6         |STEPHEN     |10000     |103        |\n",
      "|7         |HANK        |15000     |103        |\n",
      "|8         |THOR        |21000     |103        |\n",
      "------------------------------------------------\n",
      "\n"
     ]
    }
   ],
   "source": [
    "employee_data = [\n",
    "    [1,'TONY',24000,101],\n",
    "    [2,'STEVE',17000,101],\n",
    "    [3,'BRUCE',9000,101],\n",
    "    [4,'WANDA',20000,102],\n",
    "    [5,'VICTOR',12000,102],\n",
    "    [6,'STEPHEN',10000,103],\n",
    "    [7,'HANK',15000,103],\n",
    "    [8,'THOR',21000,103]\n",
    "]\n",
    "\n",
    "employee_schema = [\"EMP_ID\", \"EMP_NAME\", \"SALARY\", \"DEPT_ID\"]\n",
    "\n",
    "df_employee =session.createDataFrame(employee_data, schema=employee_schema)\n",
    "df_employee.show()"
   ]
  },
  {
   "cell_type": "code",
   "execution_count": 4,
   "metadata": {},
   "outputs": [
    {
     "name": "stdout",
     "output_type": "stream",
     "text": [
      "-------------------------------\n",
      "|\"DEPT_ID\"  |\"COUNT(EMP_ID)\"  |\n",
      "-------------------------------\n",
      "|101        |3                |\n",
      "|102        |2                |\n",
      "|103        |3                |\n",
      "-------------------------------\n",
      "\n"
     ]
    }
   ],
   "source": [
    "from snowflake.snowpark.functions import count\n",
    "df_employee.group_by(\"DEPT_ID\").agg(count(\"EMP_ID\")).show()"
   ]
  },
  {
   "cell_type": "code",
   "execution_count": 5,
   "metadata": {},
   "outputs": [
    {
     "name": "stdout",
     "output_type": "stream",
     "text": [
      "---------------------------------------------\n",
      "|\"DEPT_ID\"  |\"MAX(SALARY)\"  |\"MIN(SALARY)\"  |\n",
      "---------------------------------------------\n",
      "|101        |24000          |9000           |\n",
      "|102        |20000          |12000          |\n",
      "|103        |21000          |10000          |\n",
      "---------------------------------------------\n",
      "\n"
     ]
    }
   ],
   "source": [
    "from snowflake.snowpark.functions import max, min\n",
    "df_employee.group_by(\"DEPT_ID\").agg(max(\"SALARY\"), min(\"SALARY\")).show()"
   ]
  },
  {
   "cell_type": "code",
   "execution_count": 6,
   "metadata": {},
   "outputs": [
    {
     "name": "stdout",
     "output_type": "stream",
     "text": [
      "-------------------------------------------\n",
      "|\"DEPT_ID\"  |\"MAX_SALARY\"  |\"MIN_SALARY\"  |\n",
      "-------------------------------------------\n",
      "|101        |24000         |9000          |\n",
      "|102        |20000         |12000         |\n",
      "|103        |21000         |10000         |\n",
      "-------------------------------------------\n",
      "\n"
     ]
    }
   ],
   "source": [
    "df_employee.group_by(\"DEPT_ID\").agg(max(\"SALARY\").alias(\"MAX_SALARY\"), min(\"SALARY\").alias(\"MIN_SALARY\")).show()"
   ]
  },
  {
   "cell_type": "code",
   "execution_count": 7,
   "metadata": {},
   "outputs": [
    {
     "name": "stdout",
     "output_type": "stream",
     "text": [
      "---------------------------\n",
      "|\"DEPT_ID\"  |\"EMP_COUNT\"  |\n",
      "---------------------------\n",
      "|101        |3            |\n",
      "|102        |2            |\n",
      "|103        |3            |\n",
      "---------------------------\n",
      "\n"
     ]
    }
   ],
   "source": [
    "df1 = df_employee.group_by(\"DEPT_ID\").agg(count(\"EMP_ID\").alias(\"EMP_COUNT\"))\n",
    "df1.show()"
   ]
  },
  {
   "cell_type": "code",
   "execution_count": 8,
   "metadata": {},
   "outputs": [],
   "source": [
    "from snowflake.snowpark.functions import col"
   ]
  },
  {
   "cell_type": "code",
   "execution_count": 9,
   "metadata": {},
   "outputs": [
    {
     "name": "stdout",
     "output_type": "stream",
     "text": [
      "---------------------------\n",
      "|\"DEPT_ID\"  |\"EMP_COUNT\"  |\n",
      "---------------------------\n",
      "|101        |3            |\n",
      "|103        |3            |\n",
      "---------------------------\n",
      "\n"
     ]
    }
   ],
   "source": [
    "df2 = df1.filter(col(\"EMP_COUNT\") > 2)\n",
    "df2.show()"
   ]
  },
  {
   "cell_type": "code",
   "execution_count": 10,
   "metadata": {},
   "outputs": [
    {
     "name": "stdout",
     "output_type": "stream",
     "text": [
      "-------------\n",
      "|\"DEPT_ID\"  |\n",
      "-------------\n",
      "|101        |\n",
      "|103        |\n",
      "-------------\n",
      "\n"
     ]
    }
   ],
   "source": [
    "df3 = df2.select(\"DEPT_ID\")\n",
    "df3.show()"
   ]
  },
  {
   "cell_type": "code",
   "execution_count": 11,
   "metadata": {},
   "outputs": [
    {
     "name": "stdout",
     "output_type": "stream",
     "text": [
      "-------------\n",
      "|\"DEPT_ID\"  |\n",
      "-------------\n",
      "|101        |\n",
      "|103        |\n",
      "-------------\n",
      "\n"
     ]
    }
   ],
   "source": [
    "df_employee.group_by(\"DEPT_ID\").agg(count(\"EMP_ID\").alias(\"EMP_COUNT\")).\\\n",
    "    filter(col(\"EMP_COUNT\")>2).select(\"DEPT_ID\").show()"
   ]
  }
 ],
 "metadata": {
  "kernelspec": {
   "display_name": "Python 3",
   "language": "python",
   "name": "python3"
  },
  "language_info": {
   "codemirror_mode": {
    "name": "ipython",
    "version": 3
   },
   "file_extension": ".py",
   "mimetype": "text/x-python",
   "name": "python",
   "nbconvert_exporter": "python",
   "pygments_lexer": "ipython3",
   "version": "3.10.7"
  }
 },
 "nbformat": 4,
 "nbformat_minor": 2
}
