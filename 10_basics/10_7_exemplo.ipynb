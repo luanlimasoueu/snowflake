{
 "cells": [
  {
   "cell_type": "code",
   "execution_count": 11,
   "metadata": {},
   "outputs": [],
   "source": [
    "import snowflake.snowpark as snowpark\n",
    "from snowflake.snowpark import Session\n",
    "from dotenv import load_dotenv\n",
    "import os\n",
    "\n",
    "load_dotenv()\n",
    "\n",
    "\n",
    "connection_parameters = {\n",
    "   \"account\": os.getenv('account_snow'),\n",
    "   \"user\": os.getenv('user_snow'),\n",
    "   \"password\":os.getenv('password_snow'),\n",
    "   \"role\": \"ACCOUNTADMIN\",\n",
    "   \"database\": \"NEW_DB\", \n",
    "   \"schema\": \"PUBLIC\"\n",
    "  \n",
    "}  \n",
    "\n",
    "session = Session.builder.configs(connection_parameters).create()"
   ]
  },
  {
   "cell_type": "code",
   "execution_count": 12,
   "metadata": {},
   "outputs": [
    {
     "name": "stdout",
     "output_type": "stream",
     "text": [
      "------------------------------------\n",
      "|\"EMP_ID\"  |\"EMP_NAME\"  |\"SALARY\"  |\n",
      "------------------------------------\n",
      "|1         |TONY        |24000     |\n",
      "|2         |STEVE       |17000     |\n",
      "|3         |BRUCE       |9000      |\n",
      "|4         |WANDA       |20000     |\n",
      "------------------------------------\n",
      "\n"
     ]
    }
   ],
   "source": [
    "employee_data = [\n",
    "    [1,'TONY',24000],\n",
    "    [2,'STEVE',17000],\n",
    "    [3,'BRUCE',9000],\n",
    "    [4,'WANDA',20000]\n",
    "]\n",
    "\n",
    "employee_schema = [\"EMP_ID\", \"EMP_NAME\", \"SALARY\"]\n",
    "\n",
    "df_emp = session.createDataFrame(employee_data, schema=employee_schema)\n",
    "df_emp.show()"
   ]
  },
  {
   "cell_type": "code",
   "execution_count": 13,
   "metadata": {},
   "outputs": [
    {
     "name": "stdout",
     "output_type": "stream",
     "text": [
      "------------------------------------\n",
      "|\"EMP_ID\"  |\"EMP_NAME\"  |\"SALARY\"  |\n",
      "------------------------------------\n",
      "|1         |TONY        |25000     |\n",
      "|3         |BRUCE       |10000     |\n",
      "|5         |PETER       |15000     |\n",
      "------------------------------------\n",
      "\n"
     ]
    }
   ],
   "source": [
    "employee_raw_data = [\n",
    "    [1,'TONY',25000],\n",
    "    [3,'BRUCE',10000],\n",
    "    [5,'PETER',15000]\n",
    "]\n",
    "\n",
    "df_emp_raw = session.createDataFrame(employee_raw_data, schema=employee_schema)\n",
    "df_emp_raw.show()"
   ]
  },
  {
   "cell_type": "code",
   "execution_count": 14,
   "metadata": {},
   "outputs": [],
   "source": [
    "# Create temporary table for Target DataFrame\n",
    "df_emp.write.mode(\"overwrite\").save_as_table(\"tmp_emp\", table_type=\"temp\")"
   ]
  },
  {
   "cell_type": "code",
   "execution_count": 15,
   "metadata": {},
   "outputs": [],
   "source": [
    "# Read the temp table as Snowpark Table object\n",
    "df_tmp_emp = session.table(\"tmp_emp\")"
   ]
  },
  {
   "cell_type": "code",
   "execution_count": 17,
   "metadata": {},
   "outputs": [
    {
     "data": {
      "text/plain": [
       "MergeResult(rows_inserted=1, rows_updated=2, rows_deleted=0)"
      ]
     },
     "execution_count": 17,
     "metadata": {},
     "output_type": "execute_result"
    }
   ],
   "source": [
    "# Merge contents of source DataFrame into temporary table\n",
    "from snowflake.snowpark.functions import when_matched, when_not_matched\n",
    "\n",
    "df_tmp_emp.merge(\n",
    "df_emp_raw,\n",
    "(df_tmp_emp[\"EMP_ID\"] == df_emp_raw[\"EMP_ID\"]),\n",
    "[\n",
    "when_matched().update({\n",
    "\"EMP_NAME\": df_emp_raw[\"EMP_NAME\"],\n",
    "\"SALARY\": df_emp_raw[\"SALARY\"]\n",
    "}),\n",
    "when_not_matched().insert({\n",
    "\"EMP_ID\": df_emp_raw[\"EMP_ID\"],\n",
    "\"EMP_NAME\": df_emp_raw[\"EMP_NAME\"],\n",
    "\"SALARY\": df_emp_raw[\"SALARY\"]\n",
    "})\n",
    "]\n",
    ")# output: MergeResult(rows_inserted=1, rows_updated=2, rows_deleted=0)"
   ]
  },
  {
   "cell_type": "code",
   "execution_count": 18,
   "metadata": {},
   "outputs": [
    {
     "name": "stdout",
     "output_type": "stream",
     "text": [
      "------------------------------------\n",
      "|\"EMP_ID\"  |\"EMP_NAME\"  |\"SALARY\"  |\n",
      "------------------------------------\n",
      "|5         |PETER       |15000     |\n",
      "|2         |STEVE       |17000     |\n",
      "|1         |TONY        |25000     |\n",
      "|3         |BRUCE       |10000     |\n",
      "|4         |WANDA       |20000     |\n",
      "------------------------------------\n",
      "\n"
     ]
    }
   ],
   "source": [
    "df_tmp_emp.show()"
   ]
  },
  {
   "cell_type": "code",
   "execution_count": 22,
   "metadata": {},
   "outputs": [],
   "source": [
    "from snowflake.snowpark.functions import when_matched, when_not_matched"
   ]
  },
  {
   "cell_type": "code",
   "execution_count": 24,
   "metadata": {},
   "outputs": [
    {
     "ename": "TypeError",
     "evalue": "Table.merge() missing 2 required positional arguments: 'join_expr' and 'clauses'",
     "output_type": "error",
     "traceback": [
      "\u001b[1;31m---------------------------------------------------------------------------\u001b[0m",
      "\u001b[1;31mTypeError\u001b[0m                                 Traceback (most recent call last)",
      "Cell \u001b[1;32mIn[24], line 1\u001b[0m\n\u001b[1;32m----> 1\u001b[0m \u001b[43mdf_tmp_emp\u001b[49m\u001b[38;5;241;43m.\u001b[39;49m\u001b[43mmerge\u001b[49m\u001b[43m(\u001b[49m\n\u001b[0;32m      2\u001b[0m \u001b[43mdf_emp_raw\u001b[49m\u001b[43m)\u001b[49m\n",
      "\u001b[1;31mTypeError\u001b[0m: Table.merge() missing 2 required positional arguments: 'join_expr' and 'clauses'"
     ]
    }
   ],
   "source": [
    "df_tmp_emp.merge(\n",
    "df_emp_raw)"
   ]
  }
 ],
 "metadata": {
  "kernelspec": {
   "display_name": "Python 3",
   "language": "python",
   "name": "python3"
  },
  "language_info": {
   "codemirror_mode": {
    "name": "ipython",
    "version": 3
   },
   "file_extension": ".py",
   "mimetype": "text/x-python",
   "name": "python",
   "nbconvert_exporter": "python",
   "pygments_lexer": "ipython3",
   "version": "3.10.7"
  }
 },
 "nbformat": 4,
 "nbformat_minor": 2
}
