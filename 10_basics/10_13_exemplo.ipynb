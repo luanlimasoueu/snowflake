{
 "cells": [
  {
   "cell_type": "code",
   "execution_count": 1,
   "metadata": {},
   "outputs": [],
   "source": [
    "import snowflake.snowpark as snowpark\n",
    "from snowflake.snowpark import Session\n",
    "from dotenv import load_dotenv\n",
    "import os\n",
    "\n",
    "load_dotenv()\n",
    "\n",
    "\n",
    "connection_parameters = {\n",
    "   \"account\": os.getenv('account_snow'),\n",
    "   \"user\": os.getenv('user_snow'),\n",
    "   \"password\":os.getenv('password_snow'),\n",
    "   \"role\": \"ACCOUNTADMIN\",\n",
    "   \"database\": \"NEW_DB\", \n",
    "   \"schema\": \"PUBLIC\"\n",
    "  \n",
    "}  \n",
    "\n",
    "session = Session.builder.configs(connection_parameters).create()"
   ]
  },
  {
   "cell_type": "code",
   "execution_count": 2,
   "metadata": {},
   "outputs": [
    {
     "name": "stdout",
     "output_type": "stream",
     "text": [
      "------------------------------------\n",
      "|\"EMP_ID\"  |\"EMP_NAME\"  |\"SALARY\"  |\n",
      "------------------------------------\n",
      "|1         |TONY        |24000     |\n",
      "|2         |STEVE       |17000     |\n",
      "|3         |BRUCE       |9000      |\n",
      "|4         |WANDA       |20000     |\n",
      "|5         |VICTOR      |12000     |\n",
      "|6         |STEPHEN     |10000     |\n",
      "------------------------------------\n",
      "\n"
     ]
    }
   ],
   "source": [
    "employee_data = [\n",
    "  [1,'TONY',24000],\n",
    "  [2,'STEVE',17000],\n",
    "  [3,'BRUCE',9000],\n",
    "  [4,'WANDA',20000],\n",
    "  [5,'VICTOR',12000],\n",
    "  [6,'STEPHEN',10000]\n",
    "]\n",
    "\n",
    "employee_schema = [\"EMP_ID\", \"EMP_NAME\", \"SALARY\"]\n",
    "\n",
    "df_employee =session.createDataFrame(employee_data, schema=employee_schema)\n",
    "df_employee.show()"
   ]
  },
  {
   "cell_type": "code",
   "execution_count": 3,
   "metadata": {},
   "outputs": [
    {
     "name": "stdout",
     "output_type": "stream",
     "text": [
      "---------------------------------\n",
      "|\"MAX(SALARY)\"  |\"MIN(SALARY)\"  |\n",
      "---------------------------------\n",
      "|24000          |9000           |\n",
      "---------------------------------\n",
      "\n"
     ]
    }
   ],
   "source": [
    "#// Importing the Aggregate Function methods\n",
    "from snowflake.snowpark.functions import col, min, max, avg#// Passing a Column object to DataFrame.agg method\n",
    "df_employee.agg(max(\"SALARY\"), min(\"SALARY\")).show()\n"
   ]
  },
  {
   "cell_type": "code",
   "execution_count": 4,
   "metadata": {},
   "outputs": [
    {
     "name": "stdout",
     "output_type": "stream",
     "text": [
      "---------------------------------\n",
      "|\"MAX(SALARY)\"  |\"MIN(SALARY)\"  |\n",
      "---------------------------------\n",
      "|24000          |9000           |\n",
      "---------------------------------\n",
      "\n"
     ]
    }
   ],
   "source": [
    "df_employee.agg(max(col(\"SALARY\")), min(col(\"SALARY\"))).show()"
   ]
  },
  {
   "cell_type": "code",
   "execution_count": 5,
   "metadata": {},
   "outputs": [
    {
     "name": "stdout",
     "output_type": "stream",
     "text": [
      "---------------------------------\n",
      "|\"MAX(SALARY)\"  |\"MIN(SALARY)\"  |\n",
      "---------------------------------\n",
      "|24000          |9000           |\n",
      "---------------------------------\n",
      "\n"
     ]
    }
   ],
   "source": [
    "df_employee.agg((\"SALARY\", \"max\"), (\"SALARY\", \"min\")).show()"
   ]
  },
  {
   "cell_type": "code",
   "execution_count": 6,
   "metadata": {},
   "outputs": [
    {
     "name": "stdout",
     "output_type": "stream",
     "text": [
      "-------------------------\n",
      "|\"MIN_SAL\"  |\"MAX_SAL\"  |\n",
      "-------------------------\n",
      "|9000       |24000      |\n",
      "-------------------------\n",
      "\n"
     ]
    }
   ],
   "source": [
    "df_employee.agg(min(\"SALARY\").as_(\"min_sal\"), max(\"SALARY\").alias(\"max_sal\")).show()"
   ]
  },
  {
   "cell_type": "code",
   "execution_count": 13,
   "metadata": {},
   "outputs": [],
   "source": [
    "max_sal = df_employee.agg(max(\"SALARY\").alias(\"MAX_SALARY\")).collect()"
   ]
  },
  {
   "cell_type": "code",
   "execution_count": 8,
   "metadata": {},
   "outputs": [],
   "source": [
    "max_sal = max_sal [0]['MAX_SALARY']"
   ]
  },
  {
   "cell_type": "code",
   "execution_count": 9,
   "metadata": {},
   "outputs": [
    {
     "data": {
      "text/plain": [
       "24000"
      ]
     },
     "execution_count": 9,
     "metadata": {},
     "output_type": "execute_result"
    }
   ],
   "source": [
    "max_sal"
   ]
  },
  {
   "cell_type": "code",
   "execution_count": 15,
   "metadata": {},
   "outputs": [
    {
     "name": "stdout",
     "output_type": "stream",
     "text": [
      "------------------------------------\n",
      "|\"EMP_ID\"  |\"EMP_NAME\"  |\"SALARY\"  |\n",
      "------------------------------------\n",
      "|1         |TONY        |24000     |\n",
      "------------------------------------\n",
      "\n"
     ]
    }
   ],
   "source": [
    "df_employee.filter(col(\"SALARY\") == max_sal).show()"
   ]
  }
 ],
 "metadata": {
  "kernelspec": {
   "display_name": "Python 3",
   "language": "python",
   "name": "python3"
  },
  "language_info": {
   "codemirror_mode": {
    "name": "ipython",
    "version": 3
   },
   "file_extension": ".py",
   "mimetype": "text/x-python",
   "name": "python",
   "nbconvert_exporter": "python",
   "pygments_lexer": "ipython3",
   "version": "3.10.7"
  }
 },
 "nbformat": 4,
 "nbformat_minor": 2
}
