{
 "cells": [
  {
   "cell_type": "markdown",
   "metadata": {},
   "source": [
    "UDFs in Snowflake Snowpark"
   ]
  },
  {
   "cell_type": "markdown",
   "metadata": {},
   "source": [
    "Snowpark.functions.udf(\n",
    "    func = <Python function used for creating UDF>\n",
    "  , return_type = <Snowpark DataType object representing returned value of UDF>\n",
    "  , input_types = [<List of DataType objects representing input parameters of UDF>]\n",
    "  , is_permanent = <Create a Permanent UDF? True or False>\n",
    "  , name = '<UDF name>'\n",
    "  , replace = <Replace an existing UDF? True or False>\n",
    "  , stage_location = '@<UDF stage name>'\n",
    ")"
   ]
  },
  {
   "cell_type": "code",
   "execution_count": 1,
   "metadata": {},
   "outputs": [],
   "source": [
    "import snowflake.snowpark as snowpark\n",
    "from snowflake.snowpark import Session\n",
    "from dotenv import load_dotenv\n",
    "import os\n",
    "\n",
    "load_dotenv()\n",
    "\n",
    "\n",
    "connection_parameters = {\n",
    "   \"account\": os.getenv('account_snow'),\n",
    "   \"user\": os.getenv('user_snow'),\n",
    "   \"password\":os.getenv('password_snow'),\n",
    "   \"role\": \"ACCOUNTADMIN\",\n",
    "   \"database\": \"NEW_DB\", \n",
    "   \"schema\": \"PUBLIC\"\n",
    "  \n",
    "}  \n",
    "\n",
    "session = Session.builder.configs(connection_parameters).create()"
   ]
  },
  {
   "cell_type": "code",
   "execution_count": 2,
   "metadata": {},
   "outputs": [],
   "source": [
    "from snowflake.snowpark.functions import udf\n",
    "\n",
    "from snowflake.snowpark.types import IntegerType\n",
    "def addone(a:int) -> int:\n",
    "    return a+1\n",
    "\n",
    "add_one = udf(func=addone, return_type=IntegerType(), input_types=[IntegerType()])"
   ]
  },
  {
   "cell_type": "code",
   "execution_count": 3,
   "metadata": {},
   "outputs": [
    {
     "name": "stdout",
     "output_type": "stream",
     "text": [
      "-------\n",
      "|\"A\"  |\n",
      "-------\n",
      "|1    |\n",
      "|2    |\n",
      "|3    |\n",
      "-------\n",
      "\n"
     ]
    }
   ],
   "source": [
    "from snowflake.snowpark.functions import col\n",
    "\n",
    "df = session.createDataFrame([1,2,3], schema=[\"a\"])\n",
    "df.show()"
   ]
  },
  {
   "cell_type": "code",
   "execution_count": 4,
   "metadata": {},
   "outputs": [
    {
     "name": "stdout",
     "output_type": "stream",
     "text": [
      "----------------------\n",
      "|\"A\"  |\"A_PLUS_ONE\"  |\n",
      "----------------------\n",
      "|1    |2             |\n",
      "|2    |3             |\n",
      "|3    |4             |\n",
      "----------------------\n",
      "\n"
     ]
    }
   ],
   "source": [
    "df.select(col(\"a\"), add_one(col(\"a\")).alias(\"A_PLUS_ONE\")).show()"
   ]
  },
  {
   "cell_type": "code",
   "execution_count": 5,
   "metadata": {},
   "outputs": [
    {
     "name": "stdout",
     "output_type": "stream",
     "text": [
      "----------------------\n",
      "|\"A\"  |\"A_PLUS_ONE\"  |\n",
      "----------------------\n",
      "|2    |3             |\n",
      "|1    |2             |\n",
      "|3    |4             |\n",
      "----------------------\n",
      "\n"
     ]
    }
   ],
   "source": [
    "@udf\n",
    "def udf_addone(a:int) -> int:\n",
    "    return a+1\n",
    "\n",
    "df = session.createDataFrame([1,2,3], schema=[\"a\"])\n",
    "df.select(col(\"a\"), udf_addone(col(\"a\")).alias(\"A_PLUS_ONE\")).show()"
   ]
  }
 ],
 "metadata": {
  "kernelspec": {
   "display_name": "Python 3",
   "language": "python",
   "name": "python3"
  },
  "language_info": {
   "codemirror_mode": {
    "name": "ipython",
    "version": 3
   },
   "file_extension": ".py",
   "mimetype": "text/x-python",
   "name": "python",
   "nbconvert_exporter": "python",
   "pygments_lexer": "ipython3",
   "version": "3.10.7"
  }
 },
 "nbformat": 4,
 "nbformat_minor": 2
}
