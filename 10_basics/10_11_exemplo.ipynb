{
 "cells": [
  {
   "cell_type": "code",
   "execution_count": 1,
   "metadata": {},
   "outputs": [],
   "source": [
    "import snowflake.snowpark as snowpark\n",
    "from snowflake.snowpark import Session\n",
    "from dotenv import load_dotenv\n",
    "import os\n",
    "\n",
    "load_dotenv()\n",
    "\n",
    "\n",
    "connection_parameters = {\n",
    "   \"account\": os.getenv('account_snow'),\n",
    "   \"user\": os.getenv('user_snow'),\n",
    "   \"password\":os.getenv('password_snow'),\n",
    "   \"role\": \"ACCOUNTADMIN\",\n",
    "   \"database\": \"NEW_DB\", \n",
    "   \"schema\": \"PUBLIC\"\n",
    "  \n",
    "}  \n",
    "\n",
    "session = Session.builder.configs(connection_parameters).create()"
   ]
  },
  {
   "cell_type": "code",
   "execution_count": 2,
   "metadata": {},
   "outputs": [
    {
     "name": "stdout",
     "output_type": "stream",
     "text": [
      "--------\n",
      "|\"A\"   |\n",
      "--------\n",
      "|1     |\n",
      "|2     |\n",
      "|NULL  |\n",
      "|3     |\n",
      "--------\n",
      "\n"
     ]
    }
   ],
   "source": [
    "df = session.createDataFrame([1,2,[None],3], schema=[\"a\"])\n",
    "df.show()\n"
   ]
  },
  {
   "cell_type": "code",
   "execution_count": 3,
   "metadata": {},
   "outputs": [
    {
     "name": "stdout",
     "output_type": "stream",
     "text": [
      "-------------------\n",
      "|\"A\"   |\"RESULT\"  |\n",
      "-------------------\n",
      "|1     |A         |\n",
      "|2     |A         |\n",
      "|NULL  |B         |\n",
      "|3     |A         |\n",
      "-------------------\n",
      "\n"
     ]
    }
   ],
   "source": [
    "from snowflake.snowpark.functions import when, col\n",
    "\n",
    "df_case = df.select(col(\"a\"),\n",
    "                        when(col(\"a\") >= 0, 'A')\n",
    "                       .otherwise('B')\n",
    "                       .alias(\"Result\")\n",
    "                        )\n",
    "df_case.show()"
   ]
  },
  {
   "cell_type": "code",
   "execution_count": 4,
   "metadata": {},
   "outputs": [
    {
     "name": "stdout",
     "output_type": "stream",
     "text": [
      "-------------------\n",
      "|\"A\"   |\"RESULT\"  |\n",
      "-------------------\n",
      "|1     |A         |\n",
      "|2     |A         |\n",
      "|NULL  |NULL      |\n",
      "|3     |A         |\n",
      "-------------------\n",
      "\n"
     ]
    }
   ],
   "source": [
    "df_case = df.select(col(\"a\"),\n",
    "                        when(col(\"a\") >= 0, 'A')\n",
    "                       .alias(\"Result\")\n",
    "                        )\n",
    "\n",
    "df_case.show()"
   ]
  },
  {
   "cell_type": "code",
   "execution_count": 5,
   "metadata": {},
   "outputs": [
    {
     "name": "stdout",
     "output_type": "stream",
     "text": [
      "-------------------\n",
      "|\"A\"   |\"RESULT\"  |\n",
      "-------------------\n",
      "|1     |A         |\n",
      "|2     |B         |\n",
      "|NULL  |C         |\n",
      "|3     |D         |\n",
      "-------------------\n",
      "\n"
     ]
    }
   ],
   "source": [
    "df_multi_case = df.select(col(\"a\"),\n",
    "                              when(col(\"a\") == 1, 'A')\n",
    "                             .when(col(\"a\") == 2, 'B')\n",
    "                             .when(col(\"a\").is_null(), 'C')\n",
    "                             .otherwise('D')\n",
    "                             .alias(\"Result\")\n",
    "                             )\n",
    "\n",
    "df_multi_case.show()"
   ]
  },
  {
   "cell_type": "code",
   "execution_count": 6,
   "metadata": {},
   "outputs": [
    {
     "name": "stdout",
     "output_type": "stream",
     "text": [
      "-------------\n",
      "|\"A\"  |\"B\"  |\n",
      "-------------\n",
      "|1    |1    |\n",
      "|1    |0    |\n",
      "|0    |1    |\n",
      "|0    |0    |\n",
      "-------------\n",
      "\n"
     ]
    }
   ],
   "source": [
    "data = [[1,1],\n",
    "            [1,0],\n",
    "            [0,1],\n",
    "            [0,0]]\n",
    "\n",
    "df = session.createDataFrame(data, schema=[\"a\",\"b\"])\n",
    "df.show()"
   ]
  },
  {
   "cell_type": "code",
   "execution_count": 7,
   "metadata": {},
   "outputs": [
    {
     "name": "stdout",
     "output_type": "stream",
     "text": [
      "------------------------\n",
      "|\"A\"  |\"B\"  |\"RESULT\"  |\n",
      "------------------------\n",
      "|1    |1    |TRUE      |\n",
      "|1    |0    |FALSE     |\n",
      "|0    |1    |FALSE     |\n",
      "|0    |0    |FALSE     |\n",
      "------------------------\n",
      "\n"
     ]
    }
   ],
   "source": [
    "df_and = df.select(col(\"a\"),col(\"b\"),\n",
    "              when((col(\"a\") == 1) & (col(\"b\") == 1), 'TRUE')\n",
    "             .otherwise('FALSE')\n",
    "             .alias(\"Result\")\n",
    "              )\n",
    "\n",
    "df_and.show()"
   ]
  }
 ],
 "metadata": {
  "kernelspec": {
   "display_name": "Python 3",
   "language": "python",
   "name": "python3"
  },
  "language_info": {
   "codemirror_mode": {
    "name": "ipython",
    "version": 3
   },
   "file_extension": ".py",
   "mimetype": "text/x-python",
   "name": "python",
   "nbconvert_exporter": "python",
   "pygments_lexer": "ipython3",
   "version": "3.10.7"
  }
 },
 "nbformat": 4,
 "nbformat_minor": 2
}
