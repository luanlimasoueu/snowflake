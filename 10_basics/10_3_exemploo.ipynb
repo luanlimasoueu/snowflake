{
 "cells": [
  {
   "cell_type": "markdown",
   "metadata": {},
   "source": [
    "HOW TO: Write data into Snowflake from a Snowpark DataFrame?"
   ]
  },
  {
   "cell_type": "code",
   "execution_count": 10,
   "metadata": {},
   "outputs": [],
   "source": [
    "import snowflake.snowpark as snowpark\n",
    "from snowflake.snowpark import Session\n",
    "from dotenv import load_dotenv\n",
    "import os\n",
    "\n",
    "load_dotenv()\n",
    "\n",
    "\n",
    "connection_parameters = {\n",
    "   \"account\": os.getenv('account_snow'),\n",
    "   \"user\": os.getenv('user_snow'),\n",
    "   \"password\":os.getenv('password_snow'),\n",
    "   \"role\": \"ACCOUNTADMIN\"\n",
    "  \n",
    "}  \n",
    "\n",
    "session = Session.builder.configs(connection_parameters).create()"
   ]
  },
  {
   "cell_type": "code",
   "execution_count": 2,
   "metadata": {},
   "outputs": [],
   "source": [
    "from snowflake.snowpark.functions import col\n",
    "\n",
    "df_customer = session.table(\"SNOWFLAKE_SAMPLE_DATA.TPCH_SF1.CUSTOMER\")"
   ]
  },
  {
   "cell_type": "code",
   "execution_count": 3,
   "metadata": {},
   "outputs": [
    {
     "name": "stdout",
     "output_type": "stream",
     "text": [
      "----------------------------------------------------------------------------------------------------------------------------------------------------------------------------------------------------\n",
      "|\"C_CUSTKEY\"  |\"C_NAME\"            |\"C_ADDRESS\"                              |\"C_NATIONKEY\"  |\"C_PHONE\"        |\"C_ACCTBAL\"  |\"C_MKTSEGMENT\"  |\"C_COMMENT\"                                         |\n",
      "----------------------------------------------------------------------------------------------------------------------------------------------------------------------------------------------------\n",
      "|60001        |Customer#000060001  |9Ii4zQn9cX                               |14             |24-678-784-9652  |9957.56      |HOUSEHOLD       |l theodolites boost slyly at the platelets: per...  |\n",
      "|60002        |Customer#000060002  |ThGBMjDwKzkoOxhz                         |15             |25-782-500-8435  |742.46       |BUILDING        | beans. fluffily regular packages                   |\n",
      "|60003        |Customer#000060003  |Ed hbPtTXMTAsgGhCr4HuTzK,Md2             |16             |26-859-847-7640  |2526.92      |BUILDING        |fully pending deposits sleep quickly. blithely ...  |\n",
      "|60004        |Customer#000060004  |NivCT2RVaavl,yUnKwBjDyMvB42WayXCnky      |10             |20-573-674-7999  |7975.22      |AUTOMOBILE      | furiously above the ironic packages. slyly bra...  |\n",
      "|60005        |Customer#000060005  |1F3KM3ccEXEtI, B22XmCMOWJMl              |12             |22-741-208-1316  |2504.74      |MACHINERY       |express instructions sleep quickly. ironic brai...  |\n",
      "|60006        |Customer#000060006  |3isiXW651fa8p                            |22             |32-618-195-8029  |9051.40      |MACHINERY       | carefully quickly even theodolites. boldly         |\n",
      "|60007        |Customer#000060007  |sp6KJmx,TiSWbMPvhkQwFwTuhSi4a5OLNImpcGI  |12             |22-491-919-9470  |6017.17      |FURNITURE       |bold packages. regular sheaves mold. blit           |\n",
      "|60008        |Customer#000060008  |3VteHZYOfbgQioA96tUeL0R7i                |2              |12-693-562-7122  |5621.44      |AUTOMOBILE      |nal courts. carefully regular Tiresias lose qui...  |\n",
      "|60009        |Customer#000060009  |S60sNpR6wnacPBLeOxjxhvehf                |9              |19-578-776-2699  |9548.01      |FURNITURE       |efully even dependencies haggle furiously along...  |\n",
      "|60010        |Customer#000060010  |c4vEEaV1tdqLdw2oVuXp BN                  |21             |31-677-809-6961  |3497.91      |HOUSEHOLD       |fter the quickly silent requests. slyly special...  |\n",
      "----------------------------------------------------------------------------------------------------------------------------------------------------------------------------------------------------\n",
      "\n"
     ]
    }
   ],
   "source": [
    "df_customer.show()"
   ]
  },
  {
   "cell_type": "code",
   "execution_count": 4,
   "metadata": {},
   "outputs": [],
   "source": [
    "df_customer_filter = df_customer.filter(col(\"C_NATIONKEY\")=='15')\n",
    "df_customer_select = df_customer_filter.select(col(\"C_CUSTKEY\"),col(\"C_NAME\"))"
   ]
  },
  {
   "cell_type": "code",
   "execution_count": 15,
   "metadata": {},
   "outputs": [],
   "source": [
    "customer_wrt = df_customer_select.write.mode(\"overwrite\").save_as_table(\"SNOWPARK_DEMO_DB.SNOWPARK_DEMO_SCHEMA.CUSTOMER\")"
   ]
  },
  {
   "cell_type": "code",
   "execution_count": 16,
   "metadata": {},
   "outputs": [
    {
     "data": {
      "text/plain": [
       "5921"
      ]
     },
     "execution_count": 16,
     "metadata": {},
     "output_type": "execute_result"
    }
   ],
   "source": [
    "session.table(\"SNOWPARK_DEMO_DB.SNOWPARK_DEMO_SCHEMA.CUSTOMER\").count()"
   ]
  },
  {
   "cell_type": "code",
   "execution_count": 17,
   "metadata": {},
   "outputs": [],
   "source": [
    "customer_wrt = df_customer_select.write.mode(\"append\").save_as_table(\"SNOWPARK_DEMO_DB.SNOWPARK_DEMO_SCHEMA.CUSTOMER\")"
   ]
  },
  {
   "cell_type": "code",
   "execution_count": 18,
   "metadata": {},
   "outputs": [],
   "source": [
    "customer_wrt = df_customer_select.write.mode(\"ignore\").save_as_table(\"SNOWPARK_DEMO_DB.SNOWPARK_DEMO_SCHEMA.CUSTOMER\")"
   ]
  },
  {
   "cell_type": "code",
   "execution_count": 20,
   "metadata": {},
   "outputs": [
    {
     "data": {
      "text/plain": [
       "11842"
      ]
     },
     "execution_count": 20,
     "metadata": {},
     "output_type": "execute_result"
    }
   ],
   "source": [
    "session.table(\"SNOWPARK_DEMO_DB.SNOWPARK_DEMO_SCHEMA.CUSTOMER\").count()"
   ]
  }
 ],
 "metadata": {
  "kernelspec": {
   "display_name": "Python 3",
   "language": "python",
   "name": "python3"
  },
  "language_info": {
   "codemirror_mode": {
    "name": "ipython",
    "version": 3
   },
   "file_extension": ".py",
   "mimetype": "text/x-python",
   "name": "python",
   "nbconvert_exporter": "python",
   "pygments_lexer": "ipython3",
   "version": "3.10.7"
  }
 },
 "nbformat": 4,
 "nbformat_minor": 2
}
