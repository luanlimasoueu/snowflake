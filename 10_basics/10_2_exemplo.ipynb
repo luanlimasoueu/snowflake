{
 "cells": [
  {
   "cell_type": "markdown",
   "metadata": {},
   "source": [
    "HOW TO: Create and Read Data from Snowflake Snowpark DataFrames?"
   ]
  },
  {
   "cell_type": "code",
   "execution_count": 13,
   "metadata": {},
   "outputs": [],
   "source": [
    "import snowflake.snowpark as snowpark\n",
    "from snowflake.snowpark import Session\n",
    "from dotenv import load_dotenv\n",
    "import os\n",
    "\n",
    "load_dotenv()\n",
    "\n",
    "\n",
    "connection_parameters = {\n",
    "   \"account\": os.getenv('account_snow'),\n",
    "   \"user\": os.getenv('user_snow'),\n",
    "   \"password\":os.getenv('password_snow'),\n",
    "   \"role\": \"ACCOUNTADMIN\"\n",
    "  \n",
    "}  \n",
    "\n",
    "session = Session.builder.configs(connection_parameters).create()"
   ]
  },
  {
   "cell_type": "code",
   "execution_count": 2,
   "metadata": {},
   "outputs": [
    {
     "name": "stdout",
     "output_type": "stream",
     "text": [
      "-------\n",
      "|\"A\"  |\n",
      "-------\n",
      "|1    |\n",
      "|2    |\n",
      "|3    |\n",
      "|4    |\n",
      "-------\n",
      "\n"
     ]
    }
   ],
   "source": [
    "df1 = session.createDataFrame([1,2,3,4], schema=[\"a\"])\n",
    "df1.show()"
   ]
  },
  {
   "cell_type": "code",
   "execution_count": 3,
   "metadata": {},
   "outputs": [
    {
     "name": "stdout",
     "output_type": "stream",
     "text": [
      "-------------------------\n",
      "|\"A\"  |\"B\"  |\"C\"  |\"D\"  |\n",
      "-------------------------\n",
      "|1    |2    |3    |4    |\n",
      "|5    |6    |7    |8    |\n",
      "-------------------------\n",
      "\n"
     ]
    }
   ],
   "source": [
    "df2 = session.createDataFrame([[1,2,3,4],[5,6,7,8]], schema=[\"a\",\"b\",\"c\",\"d\"])\n",
    "df2.show()"
   ]
  },
  {
   "cell_type": "code",
   "execution_count": 4,
   "metadata": {},
   "outputs": [
    {
     "name": "stdout",
     "output_type": "stream",
     "text": [
      "---------------------------------\n",
      "|\"A\"  |\"B\"  |\"C\"   |\"D\"         |\n",
      "---------------------------------\n",
      "|1    |2    |Snow  |2024-01-01  |\n",
      "|3    |4    |Park  |2024-01-02  |\n",
      "---------------------------------\n",
      "\n"
     ]
    }
   ],
   "source": [
    "df3 = session.createDataFrame([[1, 2, 'Snow', '2024-01-01'],[3, 4, 'Park', '2024-01-02']], schema=[\"a\",\"b\",\"c\",\"d\"])\n",
    "df3.show()"
   ]
  },
  {
   "cell_type": "code",
   "execution_count": 5,
   "metadata": {},
   "outputs": [
    {
     "name": "stdout",
     "output_type": "stream",
     "text": [
      "---------------------------------\n",
      "|\"A\"  |\"B\"  |\"C\"   |\"D\"         |\n",
      "---------------------------------\n",
      "|1    |2    |Snow  |2024-01-01  |\n",
      "|3    |4    |Park  |2024-01-02  |\n",
      "---------------------------------\n",
      "\n"
     ]
    }
   ],
   "source": [
    "from snowflake.snowpark.types import IntegerType, StringType, StructField, StructType, DateType\n",
    "\n",
    "my_schema = StructType(\n",
    "    [StructField(\"a\", IntegerType()),\n",
    "     StructField(\"b\", IntegerType()),\n",
    "     StructField(\"c\", StringType()),\n",
    "     StructField(\"d\", DateType())]\n",
    "    )\n",
    "\n",
    "df4 = session.createDataFrame([[1, 2, 'Snow', '2024-01-01'],[3, 4, 'Park', '2024-01-02']], schema=my_schema)\n",
    "df4.show()"
   ]
  },
  {
   "cell_type": "code",
   "execution_count": 7,
   "metadata": {},
   "outputs": [
    {
     "name": "stdout",
     "output_type": "stream",
     "text": [
      "-------\n",
      "|\"A\"  |\n",
      "-------\n",
      "|1    |\n",
      "|2    |\n",
      "|3    |\n",
      "|4    |\n",
      "|5    |\n",
      "|6    |\n",
      "|7    |\n",
      "|8    |\n",
      "|9    |\n",
      "-------\n",
      "\n"
     ]
    }
   ],
   "source": [
    "df_range = session.range(1,10).to_df(\"a\")\n",
    "df_range.show()"
   ]
  },
  {
   "cell_type": "code",
   "execution_count": 8,
   "metadata": {},
   "outputs": [
    {
     "name": "stdout",
     "output_type": "stream",
     "text": [
      "-------\n",
      "|\"A\"  |\n",
      "-------\n",
      "|1    |\n",
      "|3    |\n",
      "|5    |\n",
      "|7    |\n",
      "|9    |\n",
      "-------\n",
      "\n"
     ]
    }
   ],
   "source": [
    "df_range2 = session.range(1,10,2).to_df(\"a\")\n",
    "df_range2.show()"
   ]
  },
  {
   "cell_type": "code",
   "execution_count": null,
   "metadata": {},
   "outputs": [],
   "source": [
    "from snowflake.snowpark.types import IntegerType, StringType, StructField, StructType\n",
    "\n",
    "schema = StructType(\n",
    "    [StructField(\"EMPLOYEE_ID\", IntegerType()),\n",
    "     StructField(\"FIRST_NAME\", StringType()),\n",
    "     StructField(\"LAST_NAME\", StringType()),\n",
    "     StructField(\"EMAIL\", StringType())\n",
    "    ])\n",
    "\n",
    "df_s3_employee = session.read.schema(schema).options({\"field_delimiter\": \",\", \"skip_header\": 1}).csv('@my_s3_stage/Inbox/')\n",
    "df_s3_employee.show(5)"
   ]
  }
 ],
 "metadata": {
  "kernelspec": {
   "display_name": "Python 3",
   "language": "python",
   "name": "python3"
  },
  "language_info": {
   "codemirror_mode": {
    "name": "ipython",
    "version": 3
   },
   "file_extension": ".py",
   "mimetype": "text/x-python",
   "name": "python",
   "nbconvert_exporter": "python",
   "pygments_lexer": "ipython3",
   "version": "3.10.7"
  }
 },
 "nbformat": 4,
 "nbformat_minor": 2
}
