{
 "cells": [
  {
   "cell_type": "code",
   "execution_count": 1,
   "metadata": {},
   "outputs": [],
   "source": [
    "import snowflake.snowpark as snowpark\n",
    "from snowflake.snowpark import Session\n",
    "from dotenv import load_dotenv\n",
    "import os\n",
    "\n",
    "load_dotenv()\n",
    "\n",
    "\n",
    "connection_parameters = {\n",
    "   \"account\": os.getenv('account_snow'),\n",
    "   \"user\": os.getenv('user_snow'),\n",
    "   \"password\":os.getenv('password_snow'),\n",
    "   \"role\": \"ACCOUNTADMIN\",\n",
    "   \"database\": \"NEW_DB\", \n",
    "   \"schema\": \"PUBLIC\"\n",
    "  \n",
    "}  \n",
    "\n",
    "session = Session.builder.configs(connection_parameters).create()"
   ]
  },
  {
   "cell_type": "code",
   "execution_count": 2,
   "metadata": {},
   "outputs": [
    {
     "name": "stdout",
     "output_type": "stream",
     "text": [
      "------------------------------------------------\n",
      "|\"EMP_ID\"  |\"EMP_NAME\"  |\"SALARY\"  |\"DEPT_ID\"  |\n",
      "------------------------------------------------\n",
      "|1         |TONY        |24000     |101        |\n",
      "|2         |STEVE       |17000     |101        |\n",
      "|3         |BRUCE       |9000      |101        |\n",
      "|4         |WANDA       |20000     |102        |\n",
      "|5         |VICTOR      |12000     |102        |\n",
      "|6         |STEPHEN     |10000     |103        |\n",
      "|7         |HANK        |15000     |103        |\n",
      "|8         |THOR        |21000     |103        |\n",
      "------------------------------------------------\n",
      "\n"
     ]
    }
   ],
   "source": [
    "employee_data = [\n",
    "    [1,'TONY',24000,101],\n",
    "    [2,'STEVE',17000,101],\n",
    "    [3,'BRUCE',9000,101],\n",
    "    [4,'WANDA',20000,102],\n",
    "    [5,'VICTOR',12000,102],\n",
    "    [6,'STEPHEN',10000,103],\n",
    "    [7,'HANK',15000,103],\n",
    "    [8,'THOR',21000,103]\n",
    "]\n",
    "\n",
    "employee_schema = [\"EMP_ID\", \"EMP_NAME\", \"SALARY\", \"DEPT_ID\"]\n",
    "\n",
    "df_emp =session.createDataFrame(employee_data, schema=employee_schema)\n",
    "df_emp.show()"
   ]
  },
  {
   "cell_type": "code",
   "execution_count": 3,
   "metadata": {},
   "outputs": [],
   "source": [
    "from snowflake.snowpark import Window\n",
    "from snowflake.snowpark.functions import row_number, desc, col, min\n",
    "\n",
    "#// creating a WindowSpec\n",
    "windowSpec = Window.partitionBy(\"DEPT_ID\").orderBy(col(\"SALARY\").desc())"
   ]
  },
  {
   "cell_type": "code",
   "execution_count": 4,
   "metadata": {},
   "outputs": [
    {
     "name": "stdout",
     "output_type": "stream",
     "text": [
      "---------------------------------------------------------\n",
      "|\"EMP_ID\"  |\"EMP_NAME\"  |\"SALARY\"  |\"DEPT_ID\"  |\"RANK\"  |\n",
      "---------------------------------------------------------\n",
      "|4         |WANDA       |20000     |102        |1       |\n",
      "|5         |VICTOR      |12000     |102        |2       |\n",
      "|1         |TONY        |24000     |101        |1       |\n",
      "|2         |STEVE       |17000     |101        |2       |\n",
      "|3         |BRUCE       |9000      |101        |3       |\n",
      "|8         |THOR        |21000     |103        |1       |\n",
      "|7         |HANK        |15000     |103        |2       |\n",
      "|6         |STEPHEN     |10000     |103        |3       |\n",
      "---------------------------------------------------------\n",
      "\n"
     ]
    }
   ],
   "source": [
    "df_emp.withColumn(\"RANK\", row_number().over(windowSpec)).show()"
   ]
  },
  {
   "cell_type": "code",
   "execution_count": 5,
   "metadata": {},
   "outputs": [
    {
     "name": "stdout",
     "output_type": "stream",
     "text": [
      "---------------------------------------------------------\n",
      "|\"EMP_ID\"  |\"EMP_NAME\"  |\"SALARY\"  |\"DEPT_ID\"  |\"RANK\"  |\n",
      "---------------------------------------------------------\n",
      "|4         |WANDA       |20000     |102        |1       |\n",
      "|5         |VICTOR      |12000     |102        |2       |\n",
      "|1         |TONY        |24000     |101        |1       |\n",
      "|2         |STEVE       |17000     |101        |2       |\n",
      "|3         |BRUCE       |9000      |101        |3       |\n",
      "|8         |THOR        |21000     |103        |1       |\n",
      "|7         |HANK        |15000     |103        |2       |\n",
      "|6         |STEPHEN     |10000     |103        |3       |\n",
      "---------------------------------------------------------\n",
      "\n"
     ]
    }
   ],
   "source": [
    "df_emp.select(\"*\", row_number().over(windowSpec).alias(\"RANK\")).show()"
   ]
  },
  {
   "cell_type": "code",
   "execution_count": 6,
   "metadata": {},
   "outputs": [
    {
     "name": "stdout",
     "output_type": "stream",
     "text": [
      "---------------------------------------------------------\n",
      "|\"EMP_ID\"  |\"EMP_NAME\"  |\"SALARY\"  |\"DEPT_ID\"  |\"RANK\"  |\n",
      "---------------------------------------------------------\n",
      "|1         |TONY        |24000     |101        |1       |\n",
      "|4         |WANDA       |20000     |102        |1       |\n",
      "|8         |THOR        |21000     |103        |1       |\n",
      "---------------------------------------------------------\n",
      "\n"
     ]
    }
   ],
   "source": [
    "df_emp.withColumn(\"RANK\", row_number().over(windowSpec)).filter(col(\"RANK\")==1).sort(\"DEPT_ID\").show()"
   ]
  },
  {
   "cell_type": "markdown",
   "metadata": {},
   "source": [
    "SELECT * FROM(\n",
    "  SELECT\n",
    "    EMP_ID, EMP_NAME, SALARY, DEPT_ID,\n",
    "    ROW_NUMBER() OVER (PARTITION BY DEPT_ID ORDER BY SALARY DESC) AS RANK\n",
    "  FROM EMPLOYEES\n",
    ")\n",
    "WHERE RANK = 1 \n",
    "ORDER BY DEPT_ID ;"
   ]
  },
  {
   "cell_type": "code",
   "execution_count": 9,
   "metadata": {},
   "outputs": [],
   "source": [
    "windowSpec = Window.partitionBy(\"DEPT_ID\")"
   ]
  },
  {
   "cell_type": "code",
   "execution_count": null,
   "metadata": {},
   "outputs": [],
   "source": [
    "df_emp.withColumn(\"TOTAL_SAL\", sum(\"SALARY\").over(windowSpec)).show()"
   ]
  },
  {
   "cell_type": "markdown",
   "metadata": {},
   "source": [
    "SELECT\n",
    "   EMP_ID, EMP_NAME, SALARY, DEPT_ID,\n",
    "   SUM(SALARY) OVER (PARTITION BY DEPT_ID) AS TOTAL_SAL\n",
    "FROM EMPLOYEES\n",
    ";"
   ]
  },
  {
   "cell_type": "code",
   "execution_count": 11,
   "metadata": {},
   "outputs": [],
   "source": [
    "windowSpec = Window.partitionBy(\"DEPT_ID\").orderBy(col(\"EMP_ID\"))\n"
   ]
  },
  {
   "cell_type": "code",
   "execution_count": null,
   "metadata": {},
   "outputs": [],
   "source": [
    "df_emp.withColumn(\"CUM_SAL\", sum(\"SALARY\").over(windowSpec)).show()"
   ]
  }
 ],
 "metadata": {
  "kernelspec": {
   "display_name": "Python 3",
   "language": "python",
   "name": "python3"
  },
  "language_info": {
   "codemirror_mode": {
    "name": "ipython",
    "version": 3
   },
   "file_extension": ".py",
   "mimetype": "text/x-python",
   "name": "python",
   "nbconvert_exporter": "python",
   "pygments_lexer": "ipython3",
   "version": "3.10.7"
  }
 },
 "nbformat": 4,
 "nbformat_minor": 2
}
