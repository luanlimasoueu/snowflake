{
 "cells": [
  {
   "cell_type": "code",
   "execution_count": 1,
   "metadata": {},
   "outputs": [],
   "source": [
    "import snowflake.snowpark as snowpark\n",
    "from snowflake.snowpark import Session\n",
    "from dotenv import load_dotenv\n",
    "import os\n",
    "\n",
    "load_dotenv()\n",
    "\n",
    "\n",
    "connection_parameters = {\n",
    "   \"account\": os.getenv('account_snow'),\n",
    "   \"user\": os.getenv('user_snow'),\n",
    "   \"password\":os.getenv('password_snow'),\n",
    "   \"role\": \"ACCOUNTADMIN\"\n",
    "  \n",
    "}  \n",
    "\n",
    "session = Session.builder.configs(connection_parameters).create()"
   ]
  },
  {
   "cell_type": "code",
   "execution_count": 2,
   "metadata": {},
   "outputs": [
    {
     "name": "stdout",
     "output_type": "stream",
     "text": [
      "-------------------\n",
      "|\"ID\"  |\"SALARY\"  |\n",
      "-------------------\n",
      "|1     |100       |\n",
      "|2     |400       |\n",
      "|3     |300       |\n",
      "|4     |200       |\n",
      "-------------------\n",
      "\n"
     ]
    }
   ],
   "source": [
    "data = [[1,100],\n",
    "        [2,400],\n",
    "        [3,300],\n",
    "        [4,200]]\n",
    "\n",
    "df = session.createDataFrame(data, schema=[\"ID\",\"SALARY\"])\n",
    "df.show()"
   ]
  },
  {
   "cell_type": "code",
   "execution_count": 3,
   "metadata": {},
   "outputs": [
    {
     "name": "stdout",
     "output_type": "stream",
     "text": [
      "-----------------------------\n",
      "|\"ID\"  |\"SALARY\"  |\"BONUS\"  |\n",
      "-----------------------------\n",
      "|1     |100       |10.0     |\n",
      "|2     |400       |40.0     |\n",
      "|3     |300       |30.0     |\n",
      "|4     |200       |20.0     |\n",
      "-----------------------------\n",
      "\n"
     ]
    }
   ],
   "source": [
    "from snowflake.snowpark.functions import col\n",
    "\n",
    "df.withColumn(\"BONUS\", col(\"SALARY\")*0.1).show()"
   ]
  },
  {
   "cell_type": "code",
   "execution_count": 4,
   "metadata": {},
   "outputs": [
    {
     "name": "stdout",
     "output_type": "stream",
     "text": [
      "-----------------------------\n",
      "|\"ID\"  |\"SALARY\"  |\"BONUS\"  |\n",
      "-----------------------------\n",
      "|1     |100       |10       |\n",
      "|2     |400       |10       |\n",
      "|3     |300       |10       |\n",
      "|4     |200       |10       |\n",
      "-----------------------------\n",
      "\n"
     ]
    }
   ],
   "source": [
    "from snowflake.snowpark.functions import lit\n",
    "\n",
    "df.withColumn(\"BONUS\", lit(10)).show()"
   ]
  },
  {
   "cell_type": "code",
   "execution_count": 5,
   "metadata": {},
   "outputs": [
    {
     "name": "stdout",
     "output_type": "stream",
     "text": [
      "-----------------------------\n",
      "|\"ID\"  |\"SALARY\"  |\"BONUS\"  |\n",
      "-----------------------------\n",
      "|1     |100       |15       |\n",
      "|2     |400       |10       |\n",
      "|3     |300       |10       |\n",
      "|4     |200       |12       |\n",
      "-----------------------------\n",
      "\n"
     ]
    }
   ],
   "source": [
    "from snowflake.snowpark.functions import col, lit, when\n",
    "\n",
    "df.withColumn(\"BONUS\",\n",
    "              when(col(\"SALARY\") <= 100, lit('15'))\n",
    "             .when((col(\"SALARY\") > 100) & (col(\"SALARY\") <= 200), lit('12'))\n",
    "             .otherwise(lit('10'))\n",
    "             ).show()"
   ]
  },
  {
   "cell_type": "code",
   "execution_count": 6,
   "metadata": {},
   "outputs": [
    {
     "name": "stdout",
     "output_type": "stream",
     "text": [
      "--------------------------------------\n",
      "|\"ID\"  |\"SALARY\"  |\"BONUS\"  |\"DEPT\"  |\n",
      "--------------------------------------\n",
      "|1     |100       |10.0     |100     |\n",
      "|2     |400       |40.0     |100     |\n",
      "|3     |300       |30.0     |100     |\n",
      "|4     |200       |20.0     |100     |\n",
      "--------------------------------------\n",
      "\n"
     ]
    }
   ],
   "source": [
    "from snowflake.snowpark.functions import col, lit\n",
    "\n",
    "df.withColumn(\"BONUS\", col(\"SALARY\")*0.1).withColumn(\"DEPT\", lit(100)).show()"
   ]
  },
  {
   "cell_type": "code",
   "execution_count": 7,
   "metadata": {},
   "outputs": [
    {
     "name": "stdout",
     "output_type": "stream",
     "text": [
      "-----------------------------\n",
      "|\"ID\"  |\"SALARY\"  |\"BONUS\"  |\n",
      "-----------------------------\n",
      "|1     |100       |10.0     |\n",
      "|2     |400       |40.0     |\n",
      "|3     |300       |30.0     |\n",
      "|4     |200       |20.0     |\n",
      "-----------------------------\n",
      "\n"
     ]
    }
   ],
   "source": [
    "from snowflake.snowpark.functions import col\n",
    "\n",
    "df.select(col(\"ID\"), col(\"SALARY\"), (col(\"SALARY\")*0.1).alias(\"BONUS\")).show()"
   ]
  }
 ],
 "metadata": {
  "kernelspec": {
   "display_name": "Python 3",
   "language": "python",
   "name": "python3"
  },
  "language_info": {
   "codemirror_mode": {
    "name": "ipython",
    "version": 3
   },
   "file_extension": ".py",
   "mimetype": "text/x-python",
   "name": "python",
   "nbconvert_exporter": "python",
   "pygments_lexer": "ipython3",
   "version": "3.10.7"
  }
 },
 "nbformat": 4,
 "nbformat_minor": 2
}
