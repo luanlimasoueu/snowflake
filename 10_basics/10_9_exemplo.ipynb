{
 "cells": [
  {
   "cell_type": "markdown",
   "metadata": {},
   "source": [
    "IN Operator in Snowflake Snowpark"
   ]
  },
  {
   "cell_type": "code",
   "execution_count": 1,
   "metadata": {},
   "outputs": [],
   "source": [
    "import snowflake.snowpark as snowpark\n",
    "from snowflake.snowpark import Session\n",
    "from dotenv import load_dotenv\n",
    "import os\n",
    "\n",
    "load_dotenv()\n",
    "\n",
    "\n",
    "connection_parameters = {\n",
    "   \"account\": os.getenv('account_snow'),\n",
    "   \"user\": os.getenv('user_snow'),\n",
    "   \"password\":os.getenv('password_snow'),\n",
    "   \"role\": \"ACCOUNTADMIN\",\n",
    "   \"database\": \"NEW_DB\", \n",
    "   \"schema\": \"PUBLIC\"\n",
    "  \n",
    "}  \n",
    "\n",
    "session = Session.builder.configs(connection_parameters).create()"
   ]
  },
  {
   "cell_type": "code",
   "execution_count": 2,
   "metadata": {},
   "outputs": [
    {
     "name": "stdout",
     "output_type": "stream",
     "text": [
      "-----------------------------\n",
      "|\"ID\"  |\"NAME\"  |\"DEPT_ID\"  |\n",
      "-----------------------------\n",
      "|1     |TONY    |101        |\n",
      "|2     |STEVE   |101        |\n",
      "|3     |BRUCE   |102        |\n",
      "|4     |WANDA   |102        |\n",
      "|5     |VICTOR  |103        |\n",
      "|6     |HANK    |105        |\n",
      "-----------------------------\n",
      "\n"
     ]
    }
   ],
   "source": [
    "employee_data = [\n",
    "    [1,'TONY',101],\n",
    "    [2,'STEVE',101],\n",
    "    [3,'BRUCE',102],\n",
    "    [4,'WANDA',102],\n",
    "    [5,'VICTOR',103],\n",
    "    [6,'HANK',105],\n",
    "]\n",
    "\n",
    "employee_schema = [\"ID\", \"NAME\", \"DEPT_ID\"]\n",
    "\n",
    "df_emp =session.createDataFrame(employee_data, schema=employee_schema)\n",
    "df_emp.show()"
   ]
  },
  {
   "cell_type": "code",
   "execution_count": 3,
   "metadata": {},
   "outputs": [
    {
     "name": "stdout",
     "output_type": "stream",
     "text": [
      "-----------------------\n",
      "|\"DEPT_ID\"  |\"NAME\"   |\n",
      "-----------------------\n",
      "|101        |HR       |\n",
      "|102        |SALES    |\n",
      "|103        |IT       |\n",
      "|104        |FINANCE  |\n",
      "-----------------------\n",
      "\n"
     ]
    }
   ],
   "source": [
    "department_data = [\n",
    "    [101,'HR'],\n",
    "    [102,'SALES'],\n",
    "    [103,'IT'],\n",
    "    [104,'FINANCE'],\n",
    "]\n",
    "\n",
    "department_schema = [\"DEPT_ID\", \"NAME\"]\n",
    "\n",
    "df_dept =session.createDataFrame(department_data, schema=department_schema)\n",
    "df_dept.show()"
   ]
  },
  {
   "cell_type": "code",
   "execution_count": 4,
   "metadata": {},
   "outputs": [],
   "source": [
    "from snowflake.snowpark.functions import col"
   ]
  },
  {
   "cell_type": "code",
   "execution_count": 5,
   "metadata": {},
   "outputs": [
    {
     "name": "stdout",
     "output_type": "stream",
     "text": [
      "-----------------------------\n",
      "|\"ID\"  |\"NAME\"  |\"DEPT_ID\"  |\n",
      "-----------------------------\n",
      "|1     |TONY    |101        |\n",
      "-----------------------------\n",
      "\n"
     ]
    }
   ],
   "source": [
    "df_emp.filter(col(\"ID\")==1).show()"
   ]
  },
  {
   "cell_type": "code",
   "execution_count": 6,
   "metadata": {},
   "outputs": [
    {
     "name": "stdout",
     "output_type": "stream",
     "text": [
      "-----------------------------\n",
      "|\"ID\"  |\"NAME\"  |\"DEPT_ID\"  |\n",
      "-----------------------------\n",
      "|1     |TONY    |101        |\n",
      "|2     |STEVE   |101        |\n",
      "|3     |BRUCE   |102        |\n",
      "|4     |WANDA   |102        |\n",
      "|5     |VICTOR  |103        |\n",
      "|6     |HANK    |105        |\n",
      "-----------------------------\n",
      "\n"
     ]
    }
   ],
   "source": [
    "df_emp.show()"
   ]
  },
  {
   "cell_type": "code",
   "execution_count": 7,
   "metadata": {},
   "outputs": [
    {
     "name": "stdout",
     "output_type": "stream",
     "text": [
      "-----------------------------\n",
      "|\"ID\"  |\"NAME\"  |\"DEPT_ID\"  |\n",
      "-----------------------------\n",
      "|1     |TONY    |101        |\n",
      "|2     |STEVE   |101        |\n",
      "|3     |BRUCE   |102        |\n",
      "-----------------------------\n",
      "\n"
     ]
    }
   ],
   "source": [
    "\n",
    "df_emp.filter(col(\"ID\").in_(1,2,3)).show()"
   ]
  },
  {
   "cell_type": "code",
   "execution_count": 8,
   "metadata": {},
   "outputs": [
    {
     "name": "stdout",
     "output_type": "stream",
     "text": [
      "-----------------------------\n",
      "|\"ID\"  |\"NAME\"  |\"DEPT_ID\"  |\n",
      "-----------------------------\n",
      "|1     |TONY    |101        |\n",
      "|2     |STEVE   |101        |\n",
      "|3     |BRUCE   |102        |\n",
      "-----------------------------\n",
      "\n"
     ]
    }
   ],
   "source": [
    "df_emp.filter(df_emp.col(\"ID\").in_(1,2,3)).show()"
   ]
  },
  {
   "cell_type": "code",
   "execution_count": 9,
   "metadata": {},
   "outputs": [
    {
     "name": "stdout",
     "output_type": "stream",
     "text": [
      "-------------\n",
      "|\"DEPT_ID\"  |\n",
      "-------------\n",
      "|102        |\n",
      "-------------\n",
      "\n"
     ]
    }
   ],
   "source": [
    "df_dept_SALES = df_dept.filter(col(\"NAME\")==\"SALES\").select(\"DEPT_ID\")\n",
    "df_dept_SALES.show()"
   ]
  },
  {
   "cell_type": "code",
   "execution_count": 10,
   "metadata": {},
   "outputs": [
    {
     "name": "stdout",
     "output_type": "stream",
     "text": [
      "-----------------------------\n",
      "|\"ID\"  |\"NAME\"  |\"DEPT_ID\"  |\n",
      "-----------------------------\n",
      "|3     |BRUCE   |102        |\n",
      "|4     |WANDA   |102        |\n",
      "-----------------------------\n",
      "\n"
     ]
    }
   ],
   "source": [
    "df_emp_SALES = df_emp.filter(col(\"DEPT_ID\").in_(df_dept_SALES))\n",
    "df_emp_SALES.show()"
   ]
  },
  {
   "cell_type": "code",
   "execution_count": 11,
   "metadata": {},
   "outputs": [
    {
     "name": "stdout",
     "output_type": "stream",
     "text": [
      "----------------------\n",
      "|\"ID\"  |\"IS_EXISTS\"  |\n",
      "----------------------\n",
      "|1     |True         |\n",
      "|2     |True         |\n",
      "|3     |True         |\n",
      "|4     |False        |\n",
      "|5     |False        |\n",
      "|6     |False        |\n",
      "----------------------\n",
      "\n"
     ]
    }
   ],
   "source": [
    "df_emp.select(col(\"ID\"), col(\"ID\").in_(1,2,3).alias(\"IS_EXISTS\")).show()"
   ]
  },
  {
   "cell_type": "code",
   "execution_count": 12,
   "metadata": {},
   "outputs": [
    {
     "name": "stdout",
     "output_type": "stream",
     "text": [
      "----------------------\n",
      "|\"ID\"  |\"IS_EXISTS\"  |\n",
      "----------------------\n",
      "|1     |True         |\n",
      "|2     |True         |\n",
      "|3     |True         |\n",
      "|4     |False        |\n",
      "|5     |False        |\n",
      "|6     |False        |\n",
      "----------------------\n",
      "\n"
     ]
    }
   ],
   "source": [
    "df1 = df_emp.select(col(\"ID\"), col(\"ID\").in_(1,2,3).alias(\"IS_EXISTS\"))\n",
    "df1.show()"
   ]
  },
  {
   "cell_type": "code",
   "execution_count": 13,
   "metadata": {},
   "outputs": [
    {
     "name": "stdout",
     "output_type": "stream",
     "text": [
      "--------\n",
      "|\"ID\"  |\n",
      "--------\n",
      "|4     |\n",
      "|5     |\n",
      "|6     |\n",
      "--------\n",
      "\n"
     ]
    }
   ],
   "source": [
    "df2 = df1.filter(col(\"IS_EXISTS\")=='False').select(\"ID\")\n",
    "df2.show()"
   ]
  },
  {
   "cell_type": "code",
   "execution_count": 14,
   "metadata": {},
   "outputs": [
    {
     "name": "stdout",
     "output_type": "stream",
     "text": [
      "-----------------------------\n",
      "|\"ID\"  |\"NAME\"  |\"DEPT_ID\"  |\n",
      "-----------------------------\n",
      "|6     |HANK    |105        |\n",
      "|5     |VICTOR  |103        |\n",
      "|4     |WANDA   |102        |\n",
      "-----------------------------\n",
      "\n"
     ]
    }
   ],
   "source": [
    "df3 = df_emp.filter(col(\"ID\").in_(df2))\n",
    "df3.show()"
   ]
  }
 ],
 "metadata": {
  "kernelspec": {
   "display_name": "Python 3",
   "language": "python",
   "name": "python3"
  },
  "language_info": {
   "codemirror_mode": {
    "name": "ipython",
    "version": 3
   },
   "file_extension": ".py",
   "mimetype": "text/x-python",
   "name": "python",
   "nbconvert_exporter": "python",
   "pygments_lexer": "ipython3",
   "version": "3.10.7"
  }
 },
 "nbformat": 4,
 "nbformat_minor": 2
}
