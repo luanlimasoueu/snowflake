{
 "cells": [
  {
   "cell_type": "code",
   "execution_count": 2,
   "metadata": {},
   "outputs": [],
   "source": [
    "import snowflake.snowpark as snowpark\n",
    "from snowflake.snowpark import Session\n",
    "from dotenv import load_dotenv\n",
    "import os\n",
    "\n",
    "load_dotenv()\n",
    "\n",
    "\n",
    "connection_parameters = {\n",
    "   \"account\": os.getenv('account_snow'),\n",
    "   \"user\": os.getenv('user_snow'),\n",
    "   \"password\":os.getenv('password_snow'),\n",
    "   \"role\": \"ACCOUNTADMIN\",\n",
    "   \"database\": \"NEW_DB\", \n",
    "   \"schema\": \"PUBLIC\"\n",
    "  \n",
    "}  \n",
    "\n",
    "session = Session.builder.configs(connection_parameters).create()"
   ]
  },
  {
   "cell_type": "code",
   "execution_count": 3,
   "metadata": {},
   "outputs": [
    {
     "name": "stdout",
     "output_type": "stream",
     "text": [
      "------------------------------------------------\n",
      "|\"EMP_ID\"  |\"EMP_NAME\"  |\"SALARY\"  |\"DEPT_ID\"  |\n",
      "------------------------------------------------\n",
      "|1         |TONY        |24000     |10         |\n",
      "|2         |STEVE       |17000     |10         |\n",
      "|3         |BRUCE       |9000      |20         |\n",
      "|4         |WANDA       |20000     |20         |\n",
      "------------------------------------------------\n",
      "\n"
     ]
    }
   ],
   "source": [
    "employee_data = [\n",
    "    [1,'TONY',24000,10],\n",
    "    [2,'STEVE',17000,10],\n",
    "    [3,'BRUCE',9000,20],\n",
    "    [4,'WANDA',20000,20]\n",
    "]\n",
    "\n",
    "employee_schema = [\"EMP_ID\", \"EMP_NAME\", \"SALARY\", \"DEPT_ID\"]\n",
    "\n",
    "df_emp = session.createDataFrame(employee_data, schema=employee_schema)\n",
    "df_emp.show()"
   ]
  },
  {
   "cell_type": "code",
   "execution_count": 7,
   "metadata": {},
   "outputs": [
    {
     "name": "stdout",
     "output_type": "stream",
     "text": [
      "TONY\n",
      "STEVE\n",
      "BRUCE\n",
      "WANDA\n"
     ]
    }
   ],
   "source": [
    "nomes = df_emp.select(\"EMP_NAME\").distinct().to_pandas()[\"EMP_NAME\"]\n",
    "\n",
    "for nome in nomes:\n",
    "    print(nome)"
   ]
  },
  {
   "cell_type": "code",
   "execution_count": 8,
   "metadata": {},
   "outputs": [
    {
     "name": "stdout",
     "output_type": "stream",
     "text": [
      "TONY\n",
      "STEVE\n",
      "BRUCE\n",
      "WANDA\n"
     ]
    }
   ],
   "source": [
    "nomes_unicos = df_emp.select(\"EMP_NAME\").distinct().collect()\n",
    "\n",
    "# Itera sobre os valores únicos\n",
    "for nomes in nomes_unicos:\n",
    "    nome = nomes[\"EMP_NAME\"]\n",
    "    print(nome) "
   ]
  },
  {
   "cell_type": "code",
   "execution_count": null,
   "metadata": {},
   "outputs": [],
   "source": []
  }
 ],
 "metadata": {
  "kernelspec": {
   "display_name": "Python 3",
   "language": "python",
   "name": "python3"
  },
  "language_info": {
   "codemirror_mode": {
    "name": "ipython",
    "version": 3
   },
   "file_extension": ".py",
   "mimetype": "text/x-python",
   "name": "python",
   "nbconvert_exporter": "python",
   "pygments_lexer": "ipython3",
   "version": "3.10.7"
  }
 },
 "nbformat": 4,
 "nbformat_minor": 2
}
