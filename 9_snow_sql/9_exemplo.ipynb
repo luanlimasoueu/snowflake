{
 "cells": [
  {
   "cell_type": "code",
   "execution_count": 3,
   "metadata": {},
   "outputs": [],
   "source": [
    "import requests\n",
    "import pandas as pd\n",
    "\n",
    "url = 'https://raw.githubusercontent.com/BexTuychiev/medium_stories/master/2024/4_april/3_snowflake_snowpark/diamonds.csv'\n",
    "res = requests.get(url, allow_redirects=True)\n",
    "with open('diamonds.csv','wb') as file:\n",
    "    file.write(res.content)\n",
    "diamonds = pd.read_csv('diamonds.csv')"
   ]
  },
  {
   "cell_type": "code",
   "execution_count": 6,
   "metadata": {},
   "outputs": [
    {
     "data": {
      "text/plain": [
       "True"
      ]
     },
     "execution_count": 6,
     "metadata": {},
     "output_type": "execute_result"
    }
   ],
   "source": [
    "import os\n",
    "from snowflake.snowpark import Session\n",
    "from dotenv import load_dotenv\n",
    "\n",
    "load_dotenv()"
   ]
  },
  {
   "cell_type": "code",
   "execution_count": 7,
   "metadata": {},
   "outputs": [],
   "source": [
    "connection_params = {\n",
    "            \"account\": os.getenv('account_snow'),\n",
    "            \"user\": os.getenv('user_snow'),\n",
    "            \"password\":os.getenv('password_snow')\n",
    "            #\"role\":\"insert-role-here\",\n",
    "            #\"warehouse\":\"insert-warehouse-here\"\n",
    "}"
   ]
  },
  {
   "cell_type": "code",
   "execution_count": 9,
   "metadata": {},
   "outputs": [
    {
     "data": {
      "text/plain": [
       "'\"LINAGIOCONDA9\"'"
      ]
     },
     "execution_count": 9,
     "metadata": {},
     "output_type": "execute_result"
    }
   ],
   "source": [
    "new_session = Session.builder.configs(connection_params).create()\n",
    "new_session.get_current_user()"
   ]
  },
  {
   "cell_type": "code",
   "execution_count": 12,
   "metadata": {},
   "outputs": [
    {
     "data": {
      "text/plain": [
       "[Row(status='Statement executed successfully.')]"
      ]
     },
     "execution_count": 12,
     "metadata": {},
     "output_type": "execute_result"
    }
   ],
   "source": [
    "new_session.sql(\"USE DATABASE NEW_DB;\").collect()"
   ]
  },
  {
   "cell_type": "code",
   "execution_count": 13,
   "metadata": {},
   "outputs": [
    {
     "name": "stdout",
     "output_type": "stream",
     "text": [
      "-----------------------------------------------------------------------------------------------\n",
      "|\"CARAT\"  |\"CUT\"    |\"COLOR\"  |\"CLARITY\"  |\"DEPTH\"  |\"TABLE_\"  |\"PRICE\"  |\"X\"   |\"Y\"   |\"Z\"   |\n",
      "-----------------------------------------------------------------------------------------------\n",
      "|0.23     |Ideal    |E        |SI2        |61.5     |55.0      |326      |3.95  |3.98  |2.43  |\n",
      "|0.21     |Premium  |E        |SI1        |59.8     |61.0      |326      |3.89  |3.84  |2.31  |\n",
      "|0.23     |Good     |E        |VS1        |56.9     |65.0      |327      |4.05  |4.07  |2.31  |\n",
      "|0.29     |Premium  |I        |VS2        |62.4     |58.0      |334      |4.2   |4.23  |2.63  |\n",
      "|0.31     |Good     |J        |SI2        |63.3     |58.0      |335      |4.34  |4.35  |2.75  |\n",
      "-----------------------------------------------------------------------------------------------\n",
      "\n"
     ]
    }
   ],
   "source": [
    "diamonds_df = new_session.table(\"diamonds\")\n",
    "diamonds_df.show(5)"
   ]
  },
  {
   "cell_type": "code",
   "execution_count": 14,
   "metadata": {},
   "outputs": [
    {
     "data": {
      "text/plain": [
       "48"
      ]
     },
     "execution_count": 14,
     "metadata": {},
     "output_type": "execute_result"
    }
   ],
   "source": [
    "import sys\n",
    "sys.getsizeof(diamonds_df)"
   ]
  },
  {
   "cell_type": "code",
   "execution_count": 15,
   "metadata": {},
   "outputs": [
    {
     "data": {
      "text/html": [
       "<div>\n",
       "<style scoped>\n",
       "    .dataframe tbody tr th:only-of-type {\n",
       "        vertical-align: middle;\n",
       "    }\n",
       "\n",
       "    .dataframe tbody tr th {\n",
       "        vertical-align: top;\n",
       "    }\n",
       "\n",
       "    .dataframe thead th {\n",
       "        text-align: right;\n",
       "    }\n",
       "</style>\n",
       "<table border=\"1\" class=\"dataframe\">\n",
       "  <thead>\n",
       "    <tr style=\"text-align: right;\">\n",
       "      <th></th>\n",
       "      <th>CARAT</th>\n",
       "      <th>CUT</th>\n",
       "      <th>COLOR</th>\n",
       "      <th>CLARITY</th>\n",
       "      <th>DEPTH</th>\n",
       "      <th>TABLE_</th>\n",
       "      <th>PRICE</th>\n",
       "      <th>X</th>\n",
       "      <th>Y</th>\n",
       "      <th>Z</th>\n",
       "    </tr>\n",
       "  </thead>\n",
       "  <tbody>\n",
       "    <tr>\n",
       "      <th>0</th>\n",
       "      <td>0.23</td>\n",
       "      <td>Ideal</td>\n",
       "      <td>E</td>\n",
       "      <td>SI2</td>\n",
       "      <td>61.5</td>\n",
       "      <td>55.0</td>\n",
       "      <td>326</td>\n",
       "      <td>3.95</td>\n",
       "      <td>3.98</td>\n",
       "      <td>2.43</td>\n",
       "    </tr>\n",
       "    <tr>\n",
       "      <th>1</th>\n",
       "      <td>0.21</td>\n",
       "      <td>Premium</td>\n",
       "      <td>E</td>\n",
       "      <td>SI1</td>\n",
       "      <td>59.8</td>\n",
       "      <td>61.0</td>\n",
       "      <td>326</td>\n",
       "      <td>3.89</td>\n",
       "      <td>3.84</td>\n",
       "      <td>2.31</td>\n",
       "    </tr>\n",
       "    <tr>\n",
       "      <th>2</th>\n",
       "      <td>0.23</td>\n",
       "      <td>Good</td>\n",
       "      <td>E</td>\n",
       "      <td>VS1</td>\n",
       "      <td>56.9</td>\n",
       "      <td>65.0</td>\n",
       "      <td>327</td>\n",
       "      <td>4.05</td>\n",
       "      <td>4.07</td>\n",
       "      <td>2.31</td>\n",
       "    </tr>\n",
       "    <tr>\n",
       "      <th>3</th>\n",
       "      <td>0.29</td>\n",
       "      <td>Premium</td>\n",
       "      <td>I</td>\n",
       "      <td>VS2</td>\n",
       "      <td>62.4</td>\n",
       "      <td>58.0</td>\n",
       "      <td>334</td>\n",
       "      <td>4.20</td>\n",
       "      <td>4.23</td>\n",
       "      <td>2.63</td>\n",
       "    </tr>\n",
       "    <tr>\n",
       "      <th>4</th>\n",
       "      <td>0.31</td>\n",
       "      <td>Good</td>\n",
       "      <td>J</td>\n",
       "      <td>SI2</td>\n",
       "      <td>63.3</td>\n",
       "      <td>58.0</td>\n",
       "      <td>335</td>\n",
       "      <td>4.34</td>\n",
       "      <td>4.35</td>\n",
       "      <td>2.75</td>\n",
       "    </tr>\n",
       "  </tbody>\n",
       "</table>\n",
       "</div>"
      ],
      "text/plain": [
       "   CARAT      CUT COLOR CLARITY  DEPTH  TABLE_  PRICE     X     Y     Z\n",
       "0   0.23    Ideal     E     SI2   61.5    55.0    326  3.95  3.98  2.43\n",
       "1   0.21  Premium     E     SI1   59.8    61.0    326  3.89  3.84  2.31\n",
       "2   0.23     Good     E     VS1   56.9    65.0    327  4.05  4.07  2.31\n",
       "3   0.29  Premium     I     VS2   62.4    58.0    334  4.20  4.23  2.63\n",
       "4   0.31     Good     J     SI2   63.3    58.0    335  4.34  4.35  2.75"
      ]
     },
     "execution_count": 15,
     "metadata": {},
     "output_type": "execute_result"
    }
   ],
   "source": [
    "pandas_diamonds = diamonds_df.to_pandas()\n",
    "pandas_diamonds.head()"
   ]
  },
  {
   "cell_type": "code",
   "execution_count": 16,
   "metadata": {},
   "outputs": [
    {
     "data": {
      "text/plain": [
       "snowflake.snowpark.dataframe.DataFrame"
      ]
     },
     "execution_count": 16,
     "metadata": {},
     "output_type": "execute_result"
    }
   ],
   "source": [
    "result = new_session.sql(\n",
    "   \"\"\"\n",
    "   SELECT PRICE, CUT FROM DIAMONDS LIMIT 10\n",
    "\"\"\"\n",
    ")\n",
    "\n",
    "type(result)\n"
   ]
  },
  {
   "cell_type": "code",
   "execution_count": 18,
   "metadata": {},
   "outputs": [
    {
     "name": "stdout",
     "output_type": "stream",
     "text": [
      "-----------------------\n",
      "|\"PRICE\"  |\"CUT\"      |\n",
      "-----------------------\n",
      "|326      |Ideal      |\n",
      "|326      |Premium    |\n",
      "|327      |Good       |\n",
      "|334      |Premium    |\n",
      "|335      |Good       |\n",
      "|336      |Very Good  |\n",
      "|336      |Very Good  |\n",
      "|337      |Very Good  |\n",
      "|337      |Fair       |\n",
      "|338      |Very Good  |\n",
      "-----------------------\n",
      "\n"
     ]
    }
   ],
   "source": [
    "result.show()"
   ]
  },
  {
   "cell_type": "code",
   "execution_count": 19,
   "metadata": {},
   "outputs": [],
   "source": [
    "import snowflake.snowpark.functions as F"
   ]
  },
  {
   "cell_type": "code",
   "execution_count": 20,
   "metadata": {},
   "outputs": [
    {
     "data": {
      "text/plain": [
       "Column(upper)"
      ]
     },
     "execution_count": 20,
     "metadata": {},
     "output_type": "execute_result"
    }
   ],
   "source": [
    "F.upper(F.col(\"CUT\"))"
   ]
  },
  {
   "cell_type": "code",
   "execution_count": 21,
   "metadata": {},
   "outputs": [
    {
     "name": "stdout",
     "output_type": "stream",
     "text": [
      "-----------------------------------------------------------------------------------------------\n",
      "|\"CARAT\"  |\"CUT\"    |\"COLOR\"  |\"CLARITY\"  |\"DEPTH\"  |\"TABLE_\"  |\"PRICE\"  |\"X\"   |\"Y\"   |\"Z\"   |\n",
      "-----------------------------------------------------------------------------------------------\n",
      "|0.23     |Ideal    |E        |SI2        |61.5     |55.0      |326      |3.95  |3.98  |2.43  |\n",
      "|0.21     |Premium  |E        |SI1        |59.8     |61.0      |326      |3.89  |3.84  |2.31  |\n",
      "|0.23     |Good     |E        |VS1        |56.9     |65.0      |327      |4.05  |4.07  |2.31  |\n",
      "|0.29     |Premium  |I        |VS2        |62.4     |58.0      |334      |4.2   |4.23  |2.63  |\n",
      "|0.31     |Good     |J        |SI2        |63.3     |58.0      |335      |4.34  |4.35  |2.75  |\n",
      "-----------------------------------------------------------------------------------------------\n",
      "\n"
     ]
    }
   ],
   "source": [
    "diamonds_df.show(5)"
   ]
  },
  {
   "cell_type": "code",
   "execution_count": 22,
   "metadata": {},
   "outputs": [
    {
     "name": "stdout",
     "output_type": "stream",
     "text": [
      "--------------------\n",
      "|\"UPPER(\"\"CUT\"\")\"  |\n",
      "--------------------\n",
      "|IDEAL             |\n",
      "|PREMIUM           |\n",
      "|GOOD              |\n",
      "|PREMIUM           |\n",
      "|GOOD              |\n",
      "|VERY GOOD         |\n",
      "|VERY GOOD         |\n",
      "|VERY GOOD         |\n",
      "|FAIR              |\n",
      "|VERY GOOD         |\n",
      "--------------------\n",
      "\n"
     ]
    }
   ],
   "source": [
    "our_expression = F.upper(F.col(\"CUT\"))\n",
    "diamonds_df.select(our_expression).show()"
   ]
  },
  {
   "cell_type": "code",
   "execution_count": 23,
   "metadata": {},
   "outputs": [
    {
     "data": {
      "text/plain": [
       "5222"
      ]
     },
     "execution_count": 23,
     "metadata": {},
     "output_type": "execute_result"
    }
   ],
   "source": [
    "diamonds_df.filter(F.col(\"PRICE\") > 10000).count()"
   ]
  },
  {
   "cell_type": "code",
   "execution_count": 24,
   "metadata": {},
   "outputs": [
    {
     "name": "stdout",
     "output_type": "stream",
     "text": [
      "-----------------------------\n",
      "|\"PRICE\"  |\"PRICE_SQUARED\"  |\n",
      "-----------------------------\n",
      "|326      |106276.0         |\n",
      "|326      |106276.0         |\n",
      "|327      |106929.0         |\n",
      "|334      |111556.0         |\n",
      "|335      |112225.0         |\n",
      "-----------------------------\n",
      "\n"
     ]
    }
   ],
   "source": [
    "(\n",
    "diamonds_df.with_column(\"PRICE_SQUARED\", F.col(\"PRICE\") ** 2)\n",
    ".select(\"PRICE\", \"PRICE_SQUARED\")\n",
    ".show(5)\n",
    ")"
   ]
  },
  {
   "cell_type": "code",
   "execution_count": 25,
   "metadata": {},
   "outputs": [
    {
     "data": {
      "text/html": [
       "<div>\n",
       "<style scoped>\n",
       "    .dataframe tbody tr th:only-of-type {\n",
       "        vertical-align: middle;\n",
       "    }\n",
       "\n",
       "    .dataframe tbody tr th {\n",
       "        vertical-align: top;\n",
       "    }\n",
       "\n",
       "    .dataframe thead th {\n",
       "        text-align: right;\n",
       "    }\n",
       "</style>\n",
       "<table border=\"1\" class=\"dataframe\">\n",
       "  <thead>\n",
       "    <tr style=\"text-align: right;\">\n",
       "      <th></th>\n",
       "      <th>CARAT</th>\n",
       "      <th>CUT</th>\n",
       "      <th>COLOR</th>\n",
       "      <th>CLARITY</th>\n",
       "      <th>DEPTH</th>\n",
       "      <th>TABLE_</th>\n",
       "      <th>PRICE</th>\n",
       "      <th>X</th>\n",
       "      <th>Y</th>\n",
       "      <th>Z</th>\n",
       "    </tr>\n",
       "  </thead>\n",
       "  <tbody>\n",
       "    <tr>\n",
       "      <th>0</th>\n",
       "      <td>0.26</td>\n",
       "      <td>Very Good</td>\n",
       "      <td>H</td>\n",
       "      <td>SI1</td>\n",
       "      <td>61.9</td>\n",
       "      <td>55.0</td>\n",
       "      <td>337</td>\n",
       "      <td>4.07</td>\n",
       "      <td>4.11</td>\n",
       "      <td>2.53</td>\n",
       "    </tr>\n",
       "    <tr>\n",
       "      <th>1</th>\n",
       "      <td>0.23</td>\n",
       "      <td>Very Good</td>\n",
       "      <td>H</td>\n",
       "      <td>VS1</td>\n",
       "      <td>59.4</td>\n",
       "      <td>61.0</td>\n",
       "      <td>338</td>\n",
       "      <td>4.00</td>\n",
       "      <td>4.05</td>\n",
       "      <td>2.39</td>\n",
       "    </tr>\n",
       "    <tr>\n",
       "      <th>2</th>\n",
       "      <td>0.30</td>\n",
       "      <td>Good</td>\n",
       "      <td>J</td>\n",
       "      <td>SI1</td>\n",
       "      <td>63.4</td>\n",
       "      <td>54.0</td>\n",
       "      <td>351</td>\n",
       "      <td>4.23</td>\n",
       "      <td>4.29</td>\n",
       "      <td>2.70</td>\n",
       "    </tr>\n",
       "    <tr>\n",
       "      <th>3</th>\n",
       "      <td>0.23</td>\n",
       "      <td>Very Good</td>\n",
       "      <td>H</td>\n",
       "      <td>VS1</td>\n",
       "      <td>61.0</td>\n",
       "      <td>57.0</td>\n",
       "      <td>353</td>\n",
       "      <td>3.94</td>\n",
       "      <td>3.96</td>\n",
       "      <td>2.41</td>\n",
       "    </tr>\n",
       "    <tr>\n",
       "      <th>4</th>\n",
       "      <td>0.23</td>\n",
       "      <td>Very Good</td>\n",
       "      <td>G</td>\n",
       "      <td>VVS2</td>\n",
       "      <td>60.4</td>\n",
       "      <td>58.0</td>\n",
       "      <td>354</td>\n",
       "      <td>3.97</td>\n",
       "      <td>4.01</td>\n",
       "      <td>2.41</td>\n",
       "    </tr>\n",
       "  </tbody>\n",
       "</table>\n",
       "</div>"
      ],
      "text/plain": [
       "   CARAT        CUT COLOR CLARITY  DEPTH  TABLE_  PRICE     X     Y     Z\n",
       "0   0.26  Very Good     H     SI1   61.9    55.0    337  4.07  4.11  2.53\n",
       "1   0.23  Very Good     H     VS1   59.4    61.0    338  4.00  4.05  2.39\n",
       "2   0.30       Good     J     SI1   63.4    54.0    351  4.23  4.29  2.70\n",
       "3   0.23  Very Good     H     VS1   61.0    57.0    353  3.94  3.96  2.41\n",
       "4   0.23  Very Good     G    VVS2   60.4    58.0    354  3.97  4.01  2.41"
      ]
     },
     "execution_count": 25,
     "metadata": {},
     "output_type": "execute_result"
    }
   ],
   "source": [
    "sample = diamonds_df.sample(0.25).to_pandas()\n",
    "sample.head()"
   ]
  },
  {
   "cell_type": "code",
   "execution_count": 26,
   "metadata": {},
   "outputs": [
    {
     "data": {
      "text/plain": [
       "Index(['carat', 'cut', 'color', 'clarity', 'depth', 'table_', 'price', 'x',\n",
       "       'y', 'z'],\n",
       "      dtype='object')"
      ]
     },
     "execution_count": 26,
     "metadata": {},
     "output_type": "execute_result"
    }
   ],
   "source": [
    "sample.columns = [col.lower() for col in sample.columns]\n",
    "sample.columns"
   ]
  },
  {
   "cell_type": "code",
   "execution_count": 40,
   "metadata": {},
   "outputs": [],
   "source": [
    "import seaborn as sns\n",
    "import matplotlib.pyplot as plt"
   ]
  },
  {
   "cell_type": "code",
   "execution_count": 41,
   "metadata": {},
   "outputs": [
    {
     "data": {
      "image/png": "[encoded data removed]",
      "text/plain": [
       "<Figure size 640x480 with 1 Axes>"
      ]
     },
     "metadata": {},
     "output_type": "display_data"
    }
   ],
   "source": [
    "#Remember we imported seaborn as sns\n",
    "sns.scatterplot(data=sample, x=\"price\", y=\"carat\", s=1)\n",
    "plt.title(\"Diamond prices vs. carat\")\n",
    "plt.show()"
   ]
  },
  {
   "cell_type": "code",
   "execution_count": 42,
   "metadata": {},
   "outputs": [
    {
     "data": {
      "image/png": "[encoded data removed]",
      "text/plain": [
       "<Figure size 640x480 with 2 Axes>"
      ]
     },
     "metadata": {},
     "output_type": "display_data"
    }
   ],
   "source": [
    "corr_matrix = sample.corr(numeric_only=True)\n",
    "sns.heatmap(corr_matrix, center=0, square=True, annot=True)\n",
    "plt.title(\"The correlation matrix of Diamond numeric features\")\n",
    "plt.show()"
   ]
  },
  {
   "cell_type": "code",
   "execution_count": 43,
   "metadata": {},
   "outputs": [
    {
     "data": {
      "image/png": "[encoded data removed]",
      "text/plain": [
       "<Figure size 640x480 with 1 Axes>"
      ]
     },
     "metadata": {},
     "output_type": "display_data"
    }
   ],
   "source": [
    "cut_counts = sample.groupby(\"cut\")[\"cut\"].count()\n",
    "cut_counts.plot(kind=\"bar\")\n",
    "plt.title(\"Category counts of diamond cuts\")\n",
    "plt.xlabel(\"Diamond cut\")\n",
    "plt.show()"
   ]
  },
  {
   "cell_type": "code",
   "execution_count": 37,
   "metadata": {},
   "outputs": [],
   "source": [
    "result = new_session.sql(\n",
    "   \"\"\"\n",
    "   SELECT cut, COUNT(*) AS count\n",
    "     FROM diamonds\n",
    "    GROUP BY cut;\n",
    "\"\"\"\n",
    ")\n"
   ]
  },
  {
   "cell_type": "code",
   "execution_count": 38,
   "metadata": {},
   "outputs": [
    {
     "data": {
      "text/html": [
       "<div>\n",
       "<style scoped>\n",
       "    .dataframe tbody tr th:only-of-type {\n",
       "        vertical-align: middle;\n",
       "    }\n",
       "\n",
       "    .dataframe tbody tr th {\n",
       "        vertical-align: top;\n",
       "    }\n",
       "\n",
       "    .dataframe thead th {\n",
       "        text-align: right;\n",
       "    }\n",
       "</style>\n",
       "<table border=\"1\" class=\"dataframe\">\n",
       "  <thead>\n",
       "    <tr style=\"text-align: right;\">\n",
       "      <th></th>\n",
       "      <th>CUT</th>\n",
       "      <th>COUNT</th>\n",
       "    </tr>\n",
       "  </thead>\n",
       "  <tbody>\n",
       "    <tr>\n",
       "      <th>0</th>\n",
       "      <td>Ideal</td>\n",
       "      <td>21551</td>\n",
       "    </tr>\n",
       "    <tr>\n",
       "      <th>1</th>\n",
       "      <td>Premium</td>\n",
       "      <td>13791</td>\n",
       "    </tr>\n",
       "    <tr>\n",
       "      <th>2</th>\n",
       "      <td>Good</td>\n",
       "      <td>4906</td>\n",
       "    </tr>\n",
       "    <tr>\n",
       "      <th>3</th>\n",
       "      <td>Fair</td>\n",
       "      <td>1610</td>\n",
       "    </tr>\n",
       "    <tr>\n",
       "      <th>4</th>\n",
       "      <td>Very Good</td>\n",
       "      <td>12082</td>\n",
       "    </tr>\n",
       "  </tbody>\n",
       "</table>\n",
       "</div>"
      ],
      "text/plain": [
       "         CUT  COUNT\n",
       "0      Ideal  21551\n",
       "1    Premium  13791\n",
       "2       Good   4906\n",
       "3       Fair   1610\n",
       "4  Very Good  12082"
      ]
     },
     "execution_count": 38,
     "metadata": {},
     "output_type": "execute_result"
    }
   ],
   "source": [
    "result_pd = result.to_pandas()\n",
    "result_pd"
   ]
  },
  {
   "cell_type": "code",
   "execution_count": 44,
   "metadata": {},
   "outputs": [
    {
     "data": {
      "image/png": "[encoded data removed]",
      "text/plain": [
       "<Figure size 640x480 with 1 Axes>"
      ]
     },
     "metadata": {},
     "output_type": "display_data"
    }
   ],
   "source": [
    "plt.bar(x=result_pd[\"CUT\"], height=result_pd[\"COUNT\"])\n",
    "plt.show()"
   ]
  },
  {
   "cell_type": "code",
   "execution_count": 45,
   "metadata": {},
   "outputs": [
    {
     "data": {
      "text/plain": [
       "[StructField('CARAT', DoubleType(), nullable=True),\n",
       " StructField('CUT', StringType(255), nullable=True),\n",
       " StructField('COLOR', StringType(255), nullable=True),\n",
       " StructField('CLARITY', StringType(255), nullable=True),\n",
       " StructField('DEPTH', DoubleType(), nullable=True),\n",
       " StructField('TABLE_', DoubleType(), nullable=True),\n",
       " StructField('PRICE', LongType(), nullable=True),\n",
       " StructField('X', DoubleType(), nullable=True),\n",
       " StructField('Y', DoubleType(), nullable=True),\n",
       " StructField('Z', DoubleType(), nullable=True)]"
      ]
     },
     "execution_count": 45,
     "metadata": {},
     "output_type": "execute_result"
    }
   ],
   "source": [
    "list(diamonds_df.schema)"
   ]
  },
  {
   "cell_type": "code",
   "execution_count": 46,
   "metadata": {},
   "outputs": [
    {
     "data": {
      "text/plain": [
       "['CARAT', 'CUT', 'COLOR', 'CLARITY', 'DEPTH', 'TABLE_', 'PRICE', 'X', 'Y', 'Z']"
      ]
     },
     "execution_count": 46,
     "metadata": {},
     "output_type": "execute_result"
    }
   ],
   "source": [
    "diamonds_df.columns"
   ]
  },
  {
   "cell_type": "code",
   "execution_count": 47,
   "metadata": {},
   "outputs": [
    {
     "data": {
      "text/plain": [
       "[Column(\"CARAT\"),\n",
       " Column(\"X\"),\n",
       " Column(\"Y\"),\n",
       " Column(\"Z\"),\n",
       " Column(\"DEPTH\"),\n",
       " Column(\"TABLE_\")]"
      ]
     },
     "execution_count": 47,
     "metadata": {},
     "output_type": "execute_result"
    }
   ],
   "source": [
    "from snowflake.snowpark.types import DoubleType\n",
    "\n",
    "numeric_features = [\"CARAT\", \"X\", \"Y\", \"Z\", \"DEPTH\", \"TABLE_\"]\n",
    "for col in numeric_features:\n",
    "   diamonds_df = diamonds_df.with_column(col, diamonds_df[col].cast(DoubleType()))\n",
    "\n",
    "list(diamonds_df.select(*numeric_features))"
   ]
  },
  {
   "cell_type": "code",
   "execution_count": 48,
   "metadata": {},
   "outputs": [],
   "source": [
    "import snowflake.snowpark.functions as F\n",
    "\n",
    "def remove_space_and_upper(df):\n",
    "   df = df.with_column(\"CUT\", F.upper(F.replace(F.col(\"CUT\"), \" \", \"_\")))\n",
    "\n",
    "   return df\n",
    "\n",
    "diamonds_df = remove_space_and_upper(diamonds_df)\n"
   ]
  },
  {
   "cell_type": "code",
   "execution_count": 49,
   "metadata": {},
   "outputs": [],
   "source": [
    "diamonds_df.write.mode(\"overwrite\").save_as_table(\"diamonds_cleaned\")"
   ]
  },
  {
   "cell_type": "code",
   "execution_count": 50,
   "metadata": {},
   "outputs": [
    {
     "name": "stdout",
     "output_type": "stream",
     "text": [
      "-------------------------------------------------------------------------------------------------\n",
      "|\"COLOR\"  |\"CLARITY\"  |\"PRICE\"  |\"CARAT\"  |\"X\"   |\"Y\"   |\"Z\"   |\"DEPTH\"  |\"TABLE_\"  |\"CUT\"      |\n",
      "-------------------------------------------------------------------------------------------------\n",
      "|E        |SI2        |326      |0.23     |3.95  |3.98  |2.43  |61.5     |55.0      |IDEAL      |\n",
      "|E        |SI1        |326      |0.21     |3.89  |3.84  |2.31  |59.8     |61.0      |PREMIUM    |\n",
      "|E        |VS1        |327      |0.23     |4.05  |4.07  |2.31  |56.9     |65.0      |GOOD       |\n",
      "|I        |VS2        |334      |0.29     |4.2   |4.23  |2.63  |62.4     |58.0      |PREMIUM    |\n",
      "|J        |SI2        |335      |0.31     |4.34  |4.35  |2.75  |63.3     |58.0      |GOOD       |\n",
      "|J        |VVS2       |336      |0.24     |3.94  |3.96  |2.48  |62.8     |57.0      |VERY_GOOD  |\n",
      "|I        |VVS1       |336      |0.24     |3.95  |3.98  |2.47  |62.3     |57.0      |VERY_GOOD  |\n",
      "|H        |SI1        |337      |0.26     |4.07  |4.11  |2.53  |61.9     |55.0      |VERY_GOOD  |\n",
      "|E        |VS2        |337      |0.22     |3.87  |3.78  |2.49  |65.1     |61.0      |FAIR       |\n",
      "|H        |VS1        |338      |0.23     |4.0   |4.05  |2.39  |59.4     |61.0      |VERY_GOOD  |\n",
      "-------------------------------------------------------------------------------------------------\n",
      "\n"
     ]
    }
   ],
   "source": [
    "clean_df = new_session.table(\"diamonds_cleaned\")\n",
    "clean_df.show()"
   ]
  }
 ],
 "metadata": {
  "kernelspec": {
   "display_name": "Python 3",
   "language": "python",
   "name": "python3"
  },
  "language_info": {
   "codemirror_mode": {
    "name": "ipython",
    "version": 3
   },
   "file_extension": ".py",
   "mimetype": "text/x-python",
   "name": "python",
   "nbconvert_exporter": "python",
   "pygments_lexer": "ipython3",
   "version": "3.10.7"
  }
 },
 "nbformat": 4,
 "nbformat_minor": 2
}
