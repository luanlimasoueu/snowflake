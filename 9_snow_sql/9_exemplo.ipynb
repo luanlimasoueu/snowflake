{
 "cells": [
  {
   "cell_type": "code",
   "execution_count": 3,
   "metadata": {},
   "outputs": [],
   "source": [
    "import requests\n",
    "import pandas as pd\n",
    "\n",
    "url = 'https://raw.githubusercontent.com/BexTuychiev/medium_stories/master/2024/4_april/3_snowflake_snowpark/diamonds.csv'\n",
    "res = requests.get(url, allow_redirects=True)\n",
    "with open('diamonds.csv','wb') as file:\n",
    "    file.write(res.content)\n",
    "diamonds = pd.read_csv('diamonds.csv')"
   ]
  }
 ],
 "metadata": {
  "kernelspec": {
   "display_name": "Python 3",
   "language": "python",
   "name": "python3"
  },
  "language_info": {
   "codemirror_mode": {
    "name": "ipython",
    "version": 3
   },
   "file_extension": ".py",
   "mimetype": "text/x-python",
   "name": "python",
   "nbconvert_exporter": "python",
   "pygments_lexer": "ipython3",
   "version": "3.10.7"
  }
 },
 "nbformat": 4,
 "nbformat_minor": 2
}
