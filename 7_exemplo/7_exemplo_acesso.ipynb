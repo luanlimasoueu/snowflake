{
 "cells": [
  {
   "cell_type": "code",
   "execution_count": 1,
   "metadata": {},
   "outputs": [],
   "source": [
    "import streamlit as st\n",
    "import os\n",
    "from dotenv import load_dotenv\n",
    "import snowflake.connector\n",
    "import pandas as pd\n",
    "from snowflake.snowpark import Session\n",
    "\n",
    "load_dotenv()\n",
    "\n",
    "connection_parameters = {\n",
    "   \"account\": os.getenv('account_snow'),\n",
    "   \"user\": os.getenv('user_snow'),\n",
    "   \"password\":os.getenv('password_snow')\n",
    "}\n",
    "\n",
    "new_session = Session.builder.configs(connection_parameters).create()\n",
    "#print(new_session)"
   ]
  },
  {
   "cell_type": "code",
   "execution_count": 13,
   "metadata": {},
   "outputs": [
    {
     "name": "stderr",
     "output_type": "stream",
     "text": [
      "Failed to execute query [queryID: 01b9f786-0000-c5dd-0000-7d5d0001101e] CREATE SCOPED TEMP TABLE SNOWPARK_TEMP_TABLE_UC6NBYT24A (\"ID\" INT NOT NULL , \"NOME\" STRING)\n",
      "090105 (22000): Cannot perform CREATE TEMPTABLE. This session does not have a current database. Call 'USE DATABASE', or use a qualified name.\n"
     ]
    }
   ],
   "source": [
    "from snowflake.snowpark import Session\n",
    "from snowflake.snowpark.types import StructType, StructField, IntegerType, StringType\n",
    "\n",
    "schema = StructType([\n",
    "    StructField(\"id\", IntegerType(), nullable=False),\n",
    "    StructField(\"nome\", StringType(), nullable=True)\n",
    "])\n",
    "\n",
    "connection_parameters = {\n",
    "   \"account\": os.getenv('account_snow'),\n",
    "   \"user\": os.getenv('user_snow'),\n",
    "   \"password\":os.getenv('password_snow')\n",
    "}\n",
    "\n",
    "\n",
    "session = Session.builder.configs(connection_parameters).create()\n",
    "\n",
    "data = [(1, \"Alice\"), (2, \"Bob\")]\n",
    "df = session.create_dataframe(data, schema)\n"
   ]
  },
  {
   "cell_type": "code",
   "execution_count": 15,
   "metadata": {},
   "outputs": [
    {
     "name": "stdout",
     "output_type": "stream",
     "text": [
      "-----------------\n",
      "|\"ID\"  |\"NOME\"  |\n",
      "-----------------\n",
      "|1     |Alice   |\n",
      "|2     |Bob     |\n",
      "-----------------\n",
      "\n"
     ]
    }
   ],
   "source": [
    "df.show()"
   ]
  }
 ],
 "metadata": {
  "kernelspec": {
   "display_name": "Python 3",
   "language": "python",
   "name": "python3"
  },
  "language_info": {
   "codemirror_mode": {
    "name": "ipython",
    "version": 3
   },
   "file_extension": ".py",
   "mimetype": "text/x-python",
   "name": "python",
   "nbconvert_exporter": "python",
   "pygments_lexer": "ipython3",
   "version": "3.10.7"
  }
 },
 "nbformat": 4,
 "nbformat_minor": 2
}
