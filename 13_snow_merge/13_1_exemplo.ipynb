{
 "cells": [
  {
   "cell_type": "code",
   "execution_count": 1,
   "metadata": {},
   "outputs": [],
   "source": [
    "import snowflake.snowpark as snowpark\n",
    "from snowflake.snowpark import Session\n",
    "from dotenv import load_dotenv\n",
    "import os\n",
    "\n",
    "load_dotenv()\n",
    "\n",
    "\n",
    "connection_parameters = {\n",
    "   \"account\": os.getenv('account_snow'),\n",
    "   \"user\": os.getenv('user_snow'),\n",
    "   \"password\":os.getenv('password_snow'),\n",
    "   \"role\": \"ACCOUNTADMIN\",\n",
    "   \"database\": \"NEW_DB\", \n",
    "   \"schema\": \"PUBLIC\"\n",
    "  \n",
    "}  \n",
    "\n",
    "session = Session.builder.configs(connection_parameters).create()"
   ]
  },
  {
   "cell_type": "code",
   "execution_count": 2,
   "metadata": {},
   "outputs": [],
   "source": [
    "from snowflake.snowpark.functions import when_matched, when_not_matched\n",
    "from snowflake.snowpark.types import IntegerType, StringType, StructField, StructType\n",
    "schema = StructType([StructField(\"key\", IntegerType()), StructField(\"value\", StringType())])\n",
    "target_df = session.create_dataframe([(10, \"old\"), (10, \"too_old\"), (11, \"old\")], schema=schema)\n",
    "target_df.write.save_as_table(\"my_table\", mode=\"overwrite\", table_type=\"temporary\")\n",
    "target = session.table(\"my_table\")"
   ]
  },
  {
   "cell_type": "code",
   "execution_count": 3,
   "metadata": {},
   "outputs": [
    {
     "data": {
      "text/plain": [
       "MergeResult(rows_inserted=2, rows_updated=1, rows_deleted=0)"
      ]
     },
     "execution_count": 3,
     "metadata": {},
     "output_type": "execute_result"
    }
   ],
   "source": [
    "source = session.create_dataframe([(10, \"new\"), (12, \"new\"), (13, \"old\")], schema=schema)\n",
    "target.merge(source, (target[\"key\"] == source[\"key\"]) & (target[\"value\"] == \"too_old\"),\n",
    "             [when_matched().update({\"value\": source[\"value\"]}), when_not_matched().insert({\"key\": source[\"key\"]})])"
   ]
  },
  {
   "cell_type": "code",
   "execution_count": 4,
   "metadata": {},
   "outputs": [
    {
     "data": {
      "text/plain": [
       "[Row(KEY=10, VALUE='new'),\n",
       " Row(KEY=10, VALUE='old'),\n",
       " Row(KEY=11, VALUE='old'),\n",
       " Row(KEY=12, VALUE=None),\n",
       " Row(KEY=13, VALUE=None)]"
      ]
     },
     "execution_count": 4,
     "metadata": {},
     "output_type": "execute_result"
    }
   ],
   "source": [
    "target.sort(\"key\", \"value\").collect()"
   ]
  },
  {
   "cell_type": "code",
   "execution_count": 6,
   "metadata": {},
   "outputs": [
    {
     "data": {
      "text/plain": [
       "MergeResult(rows_inserted=3, rows_updated=0, rows_deleted=0)"
      ]
     },
     "execution_count": 6,
     "metadata": {},
     "output_type": "execute_result"
    }
   ],
   "source": [
    "target.merge(source, (target[\"key\"] == source[\"key\"]) & (target[\"value\"] == \"too_old\"),\n",
    "             [when_matched().update({\"value\": source[\"value\"]}), when_not_matched().insert({\"key\": source[\"key\"]})])"
   ]
  }
 ],
 "metadata": {
  "kernelspec": {
   "display_name": "Python 3",
   "language": "python",
   "name": "python3"
  },
  "language_info": {
   "codemirror_mode": {
    "name": "ipython",
    "version": 3
   },
   "file_extension": ".py",
   "mimetype": "text/x-python",
   "name": "python",
   "nbconvert_exporter": "python",
   "pygments_lexer": "ipython3",
   "version": "3.10.7"
  }
 },
 "nbformat": 4,
 "nbformat_minor": 2
}
