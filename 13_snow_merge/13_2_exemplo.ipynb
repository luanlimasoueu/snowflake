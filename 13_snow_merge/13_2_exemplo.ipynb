{
 "cells": [
  {
   "cell_type": "code",
   "execution_count": 1,
   "metadata": {},
   "outputs": [],
   "source": [
    "import snowflake.snowpark as snowpark\n",
    "from snowflake.snowpark import Session\n",
    "from dotenv import load_dotenv\n",
    "import os\n",
    "\n",
    "load_dotenv()\n",
    "\n",
    "\n",
    "connection_parameters = {\n",
    "   \"account\": os.getenv('account_snow'),\n",
    "   \"user\": os.getenv('user_snow'),\n",
    "   \"password\":os.getenv('password_snow'),\n",
    "   \"role\": \"ACCOUNTADMIN\",\n",
    "   \"database\": \"NEW_DB\", \n",
    "   \"schema\": \"PUBLIC\"\n",
    "  \n",
    "}  \n",
    "\n",
    "session = Session.builder.configs(connection_parameters).create()"
   ]
  },
  {
   "cell_type": "code",
   "execution_count": 25,
   "metadata": {},
   "outputs": [],
   "source": [
    "# Create two DataFrames to join\n",
    "df_lhs = session.create_dataframe([[\"a\", 1], [\"b\", 2],[\"c\", 2]], schema=[\"key\", \"value1\"])\n",
    "df_rhs = session.create_dataframe([[\"a\", 3], [\"b\", 4], [\"c\", 5]], schema=[\"key\", \"value2\"])"
   ]
  },
  {
   "cell_type": "code",
   "execution_count": 21,
   "metadata": {},
   "outputs": [
    {
     "name": "stdout",
     "output_type": "stream",
     "text": [
      "--------------------\n",
      "|\"KEY\"  |\"VALUE1\"  |\n",
      "--------------------\n",
      "|a      |1         |\n",
      "|b      |2         |\n",
      "|c      |2         |\n",
      "--------------------\n",
      "\n"
     ]
    }
   ],
   "source": [
    "df_lhs.show()"
   ]
  },
  {
   "cell_type": "code",
   "execution_count": 22,
   "metadata": {},
   "outputs": [
    {
     "name": "stdout",
     "output_type": "stream",
     "text": [
      "--------------------\n",
      "|\"KEY\"  |\"VALUE2\"  |\n",
      "--------------------\n",
      "|a      |3         |\n",
      "|b      |4         |\n",
      "|c      |5         |\n",
      "--------------------\n",
      "\n"
     ]
    }
   ],
   "source": [
    "df_rhs.show()"
   ]
  },
  {
   "cell_type": "code",
   "execution_count": 23,
   "metadata": {},
   "outputs": [
    {
     "data": {
      "text/plain": [
       "<snowflake.snowpark.dataframe.DataFrame at 0x2307ef29600>"
      ]
     },
     "execution_count": 23,
     "metadata": {},
     "output_type": "execute_result"
    }
   ],
   "source": [
    "\n",
    "df_lhs.join(df_rhs, df_lhs.col(\"key\") == df_rhs.col(\"key\"))"
   ]
  },
  {
   "cell_type": "code",
   "execution_count": 24,
   "metadata": {},
   "outputs": [
    {
     "name": "stdout",
     "output_type": "stream",
     "text": [
      "--------------------\n",
      "|\"KEY\"  |\"VALUE1\"  |\n",
      "--------------------\n",
      "|a      |1         |\n",
      "|b      |2         |\n",
      "|c      |2         |\n",
      "--------------------\n",
      "\n"
     ]
    }
   ],
   "source": [
    "df_lhs.show()"
   ]
  },
  {
   "cell_type": "code",
   "execution_count": 26,
   "metadata": {},
   "outputs": [
    {
     "name": "stdout",
     "output_type": "stream",
     "text": [
      "-------------------------------\n",
      "|\"KEY\"  |\"VALUE1\"  |\"VALUE2\"  |\n",
      "-------------------------------\n",
      "|a      |1         |3         |\n",
      "|b      |2         |4         |\n",
      "|c      |2         |5         |\n",
      "-------------------------------\n",
      "\n"
     ]
    }
   ],
   "source": [
    "df_lhs.join(df_rhs, [\"key\"]).show()"
   ]
  },
  {
   "cell_type": "code",
   "execution_count": 27,
   "metadata": {},
   "outputs": [
    {
     "name": "stdout",
     "output_type": "stream",
     "text": [
      "-------------------------------\n",
      "|\"KEY\"  |\"VALUE1\"  |\"VALUE2\"  |\n",
      "-------------------------------\n",
      "|a      |1         |3         |\n",
      "|b      |2         |4         |\n",
      "-------------------------------\n",
      "\n"
     ]
    }
   ],
   "source": [
    "df_lhs = session.create_dataframe([[\"a\", 1], [\"b\", 2]], schema=[\"key\", \"value1\"])\n",
    "df_rhs = session.create_dataframe([[\"a\", 3], [\"b\", 4]], schema=[\"key\", \"value2\"])\n",
    "# Use & operator connect join expression. '|' and ~ are similar.\n",
    "df_joined_multi_column = df_lhs.join(df_rhs, (df_lhs.col(\"key\") == df_rhs.col(\"key\")) & (df_lhs.col(\"value1\") < df_rhs.col(\"value2\"))).select(df_lhs[\"key\"].as_(\"key\"), \"value1\", \"value2\")\n",
    "df_joined_multi_column.show()"
   ]
  },
  {
   "cell_type": "code",
   "execution_count": 28,
   "metadata": {},
   "outputs": [
    {
     "name": "stdout",
     "output_type": "stream",
     "text": [
      "--------------------------------------------------\n",
      "|\"KEY_LEFT\"  |\"VALUE1\"  |\"KEY_RIGHT\"  |\"VALUE2\"  |\n",
      "--------------------------------------------------\n",
      "|a           |1         |a            |3         |\n",
      "|b           |2         |b            |4         |\n",
      "--------------------------------------------------\n",
      "\n"
     ]
    }
   ],
   "source": [
    "df_lhs = session.create_dataframe([[\"a\", 1], [\"b\", 2]], schema=[\"key\", \"value1\"])\n",
    "df_rhs = session.create_dataframe([[\"a\", 3], [\"b\", 4]], schema=[\"key\", \"value2\"])\n",
    "df_lhs.join(df_rhs, df_lhs.col(\"key\") == df_rhs.col(\"key\"), lsuffix=\"_left\", rsuffix=\"_right\").show()"
   ]
  }
 ],
 "metadata": {
  "kernelspec": {
   "display_name": "Python 3",
   "language": "python",
   "name": "python3"
  },
  "language_info": {
   "codemirror_mode": {
    "name": "ipython",
    "version": 3
   },
   "file_extension": ".py",
   "mimetype": "text/x-python",
   "name": "python",
   "nbconvert_exporter": "python",
   "pygments_lexer": "ipython3",
   "version": "3.10.7"
  }
 },
 "nbformat": 4,
 "nbformat_minor": 2
}
